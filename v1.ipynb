{
  "cells": [
    {
      "cell_type": "code",
      "execution_count": 189,
      "metadata": {
        "id": "AJ41y5ooAkNM"
      },
      "outputs": [],
      "source": [
        "# Regular EDA libraries\n",
        "import numpy as np\n",
        "import pandas as pd\n",
        "import matplotlib.pyplot as plt\n",
        "import seaborn as sns\n",
        "\n",
        "\n",
        "# we want our plots to apear within notebooks\n",
        "%matplotlib inline\n",
        "pd.set_option('display.float_format', lambda x: '%.2f' % x)\n",
        "sns.set_style(\"darkgrid\")\n",
        "plt.style.use('ggplot')\n",
        "import scipy.stats as spstats\n",
        "\n",
        "from sklearn.preprocessing import OrdinalEncoder\n",
        "\n",
        "# Models from scikit-learn & XGboost\n",
        "from sklearn.ensemble import RandomForestClassifier\n",
        "from sklearn.linear_model import LogisticRegression\n",
        "from sklearn.neighbors import KNeighborsClassifier\n",
        "from sklearn.pipeline import Pipeline\n",
        "from sklearn.feature_selection import SelectKBest, chi2\n",
        "from imblearn.over_sampling import RandomOverSampler\n",
        "from imblearn.over_sampling import ADASYN, SMOTE, SMOTENC\n",
        "import random\n",
        "from sklearn.preprocessing import MinMaxScaler, OrdinalEncoder, StandardScaler\n",
        "\n",
        "\n",
        "# Model Evaluation libraries\n",
        "from sklearn.model_selection import train_test_split, cross_val_score\n",
        "from sklearn.metrics import (classification_report, confusion_matrix, f1_score,\n",
        "                             precision_recall_curve, precision_score,\n",
        "                             recall_score, roc_auc_score)\n",
        "from sklearn.model_selection import (GridSearchCV, RepeatedStratifiedKFold,\n",
        "                                     StratifiedKFold, cross_val_score,\n",
        "                                     train_test_split)\n",
        "from sklearn.model_selection import GridSearchCV, RandomizedSearchCV, KFold\n",
        "from sklearn.metrics import classification_report, confusion_matrix\n",
        "from sklearn.metrics import precision_score, recall_score, f1_score, make_scorer, accuracy_score"
      ]
    },
    {
      "cell_type": "code",
      "execution_count": 190,
      "metadata": {
        "id": "WSTY-Ec8FaM-"
      },
      "outputs": [],
      "source": [
        "# Importing the data link\n",
        "data_link = 'https://raw.githubusercontent.com/Wkimani/Auto-Insurance-Fraud-Detection-Using-ML/main/fraud_oracle.csv'\n",
        "\n",
        "#loading the csv file\n",
        "df = pd.read_csv(data_link)\n",
        "\n",
        "#viewing the first 5 rows\n",
        "df.head()\n",
        "\n",
        "df_copy=df.copy()"
      ]
    },
    {
      "cell_type": "markdown",
      "metadata": {
        "id": "oRMz_6EvJKl7"
      },
      "source": [
        "### 5. Data Pre-Processing and Feature Engineering"
      ]
    },
    {
      "cell_type": "markdown",
      "metadata": {
        "id": "DeFosPl9ap0w"
      },
      "source": [
        "Clean up column 'PolicyType'"
      ]
    },
    {
      "cell_type": "markdown",
      "metadata": {
        "id": "Cotdesaway30"
      },
      "source": [
        "As Policy Type and Base Policy consist of repetitive information, we will remove the policy information under Policy Type\n"
      ]
    },
    {
      "cell_type": "code",
      "execution_count": 191,
      "metadata": {
        "colab": {
          "base_uri": "https://localhost:8080/",
          "height": 397
        },
        "id": "OC5MAO4BbJmn",
        "outputId": "9e0cc095-cf61-476b-e4d6-61b748e3cc76"
      },
      "outputs": [
        {
          "data": {
            "text/plain": [
              "PolicyType\n",
              "Sedan - Collision       5584\n",
              "Sedan - Liability       4987\n",
              "Sedan - All Perils      4087\n",
              "Sport - Collision        348\n",
              "Utility - All Perils     340\n",
              "Utility - Collision       30\n",
              "Sport - All Perils        22\n",
              "Utility - Liability       21\n",
              "Sport - Liability          1\n",
              "Name: count, dtype: int64"
            ]
          },
          "execution_count": 191,
          "metadata": {},
          "output_type": "execute_result"
        }
      ],
      "source": [
        "df['PolicyType'].value_counts()\n"
      ]
    },
    {
      "cell_type": "code",
      "execution_count": 192,
      "metadata": {
        "id": "wNkRNzyseX9Y"
      },
      "outputs": [],
      "source": [
        "# Create a function to remove the policy information\n",
        "def ptconvert(data):\n",
        "    data = data.split()\n",
        "    for i in data:\n",
        "        pt = data[0]\n",
        "        return pt"
      ]
    },
    {
      "cell_type": "code",
      "execution_count": 193,
      "metadata": {
        "id": "DcIcnHxReY3P"
      },
      "outputs": [],
      "source": [
        "df['PolicyType'] = df['PolicyType'].astype(str).apply(ptconvert)"
      ]
    },
    {
      "cell_type": "code",
      "execution_count": 194,
      "metadata": {
        "colab": {
          "base_uri": "https://localhost:8080/"
        },
        "id": "vcC_23w8ec0-",
        "outputId": "1f35b66a-5880-416a-a3e7-574f39d6ea95"
      },
      "outputs": [
        {
          "data": {
            "text/plain": [
              "array(['Sport', 'Sedan', 'Utility'], dtype=object)"
            ]
          },
          "execution_count": 194,
          "metadata": {},
          "output_type": "execute_result"
        }
      ],
      "source": [
        "df['PolicyType'].unique()"
      ]
    },
    {
      "cell_type": "markdown",
      "metadata": {
        "id": "NnEyw7TwfBom"
      },
      "source": [
        "1. Make"
      ]
    },
    {
      "cell_type": "code",
      "execution_count": 195,
      "metadata": {
        "id": "FFSlPUVxgrwj"
      },
      "outputs": [],
      "source": [
        "to_str = ['WeekOfMonth', 'WeekOfMonthClaimed','RepNumber', 'Deductible', 'DriverRating', 'Year']\n"
      ]
    },
    {
      "cell_type": "code",
      "execution_count": 196,
      "metadata": {
        "id": "fL9iQ7bTgwKn"
      },
      "outputs": [],
      "source": [
        "# For Loop to convert the date type to string\n",
        "for i in to_str:\n",
        "    df[i]= df[i].astype('str')"
      ]
    },
    {
      "cell_type": "code",
      "execution_count": 197,
      "metadata": {
        "colab": {
          "base_uri": "https://localhost:8080/"
        },
        "id": "Oz_CIks-gy4m",
        "outputId": "4cd6060f-e6b9-407c-ee96-22ed7d469a19"
      },
      "outputs": [
        {
          "name": "stdout",
          "output_type": "stream",
          "text": [
            "<class 'pandas.core.frame.DataFrame'>\n",
            "RangeIndex: 15420 entries, 0 to 15419\n",
            "Data columns (total 33 columns):\n",
            " #   Column                Non-Null Count  Dtype \n",
            "---  ------                --------------  ----- \n",
            " 0   Month                 15420 non-null  object\n",
            " 1   WeekOfMonth           15420 non-null  object\n",
            " 2   DayOfWeek             15420 non-null  object\n",
            " 3   Make                  15420 non-null  object\n",
            " 4   AccidentArea          15420 non-null  object\n",
            " 5   DayOfWeekClaimed      15420 non-null  object\n",
            " 6   MonthClaimed          15420 non-null  object\n",
            " 7   WeekOfMonthClaimed    15420 non-null  object\n",
            " 8   Sex                   15420 non-null  object\n",
            " 9   MaritalStatus         15420 non-null  object\n",
            " 10  Age                   15420 non-null  int64 \n",
            " 11  Fault                 15420 non-null  object\n",
            " 12  PolicyType            15420 non-null  object\n",
            " 13  VehicleCategory       15420 non-null  object\n",
            " 14  VehiclePrice          15420 non-null  object\n",
            " 15  FraudFound_P          15420 non-null  int64 \n",
            " 16  PolicyNumber          15420 non-null  int64 \n",
            " 17  RepNumber             15420 non-null  object\n",
            " 18  Deductible            15420 non-null  object\n",
            " 19  DriverRating          15420 non-null  object\n",
            " 20  Days_Policy_Accident  15420 non-null  object\n",
            " 21  Days_Policy_Claim     15420 non-null  object\n",
            " 22  PastNumberOfClaims    15420 non-null  object\n",
            " 23  AgeOfVehicle          15420 non-null  object\n",
            " 24  AgeOfPolicyHolder     15420 non-null  object\n",
            " 25  PoliceReportFiled     15420 non-null  object\n",
            " 26  WitnessPresent        15420 non-null  object\n",
            " 27  AgentType             15420 non-null  object\n",
            " 28  NumberOfSuppliments   15420 non-null  object\n",
            " 29  AddressChange_Claim   15420 non-null  object\n",
            " 30  NumberOfCars          15420 non-null  object\n",
            " 31  Year                  15420 non-null  object\n",
            " 32  BasePolicy            15420 non-null  object\n",
            "dtypes: int64(3), object(30)\n",
            "memory usage: 3.9+ MB\n"
          ]
        }
      ],
      "source": [
        "df.info()\n"
      ]
    },
    {
      "cell_type": "markdown",
      "metadata": {
        "id": "Y_XKblhfi_f9"
      },
      "source": [
        "#### Log Transformation for Age\n"
      ]
    },
    {
      "cell_type": "code",
      "execution_count": 198,
      "metadata": {
        "colab": {
          "base_uri": "https://localhost:8080/"
        },
        "id": "b_RVK2GEjGsy",
        "outputId": "b1da011f-ce75-484a-c19d-33c91c016043"
      },
      "outputs": [
        {
          "name": "stdout",
          "output_type": "stream",
          "text": [
            "<class 'pandas.core.frame.DataFrame'>\n",
            "RangeIndex: 15420 entries, 0 to 15419\n",
            "Data columns (total 33 columns):\n",
            " #   Column                Non-Null Count  Dtype \n",
            "---  ------                --------------  ----- \n",
            " 0   Month                 15420 non-null  object\n",
            " 1   WeekOfMonth           15420 non-null  object\n",
            " 2   DayOfWeek             15420 non-null  object\n",
            " 3   Make                  15420 non-null  object\n",
            " 4   AccidentArea          15420 non-null  object\n",
            " 5   DayOfWeekClaimed      15420 non-null  object\n",
            " 6   MonthClaimed          15420 non-null  object\n",
            " 7   WeekOfMonthClaimed    15420 non-null  object\n",
            " 8   Sex                   15420 non-null  object\n",
            " 9   MaritalStatus         15420 non-null  object\n",
            " 10  Age                   15420 non-null  int64 \n",
            " 11  Fault                 15420 non-null  object\n",
            " 12  PolicyType            15420 non-null  object\n",
            " 13  VehicleCategory       15420 non-null  object\n",
            " 14  VehiclePrice          15420 non-null  object\n",
            " 15  FraudFound_P          15420 non-null  int64 \n",
            " 16  PolicyNumber          15420 non-null  int64 \n",
            " 17  RepNumber             15420 non-null  object\n",
            " 18  Deductible            15420 non-null  object\n",
            " 19  DriverRating          15420 non-null  object\n",
            " 20  Days_Policy_Accident  15420 non-null  object\n",
            " 21  Days_Policy_Claim     15420 non-null  object\n",
            " 22  PastNumberOfClaims    15420 non-null  object\n",
            " 23  AgeOfVehicle          15420 non-null  object\n",
            " 24  AgeOfPolicyHolder     15420 non-null  object\n",
            " 25  PoliceReportFiled     15420 non-null  object\n",
            " 26  WitnessPresent        15420 non-null  object\n",
            " 27  AgentType             15420 non-null  object\n",
            " 28  NumberOfSuppliments   15420 non-null  object\n",
            " 29  AddressChange_Claim   15420 non-null  object\n",
            " 30  NumberOfCars          15420 non-null  object\n",
            " 31  Year                  15420 non-null  object\n",
            " 32  BasePolicy            15420 non-null  object\n",
            "dtypes: int64(3), object(30)\n",
            "memory usage: 3.9+ MB\n",
            "None\n"
          ]
        }
      ],
      "source": [
        "# Final check to see if all the features are in integer or float datatypes\n",
        "print(df.info())"
      ]
    },
    {
      "cell_type": "markdown",
      "metadata": {
        "id": "LHVnpbmKIBQR"
      },
      "source": [
        "#### Label Encoding"
      ]
    },
    {
      "cell_type": "code",
      "execution_count": 199,
      "metadata": {
        "id": "EmJo2_JxHGpQ"
      },
      "outputs": [],
      "source": [
        "# Columns to convert\n",
        "columns_to_convert = ['RepNumber', 'Deductible']\n",
        "\n",
        "for col in columns_to_convert:\n",
        "    # Convert to numeric, replacing invalid values with NaN\n",
        "    df[col] = pd.to_numeric(df[col], errors='coerce')\n"
      ]
    },
    {
      "cell_type": "code",
      "execution_count": 200,
      "metadata": {},
      "outputs": [
        {
          "data": {
            "text/plain": [
              "Index(['Month', 'WeekOfMonth', 'DayOfWeek', 'Make', 'AccidentArea',\n",
              "       'DayOfWeekClaimed', 'MonthClaimed', 'WeekOfMonthClaimed', 'Sex',\n",
              "       'MaritalStatus', 'Age', 'Fault', 'PolicyType', 'VehicleCategory',\n",
              "       'VehiclePrice', 'FraudFound_P', 'PolicyNumber', 'RepNumber',\n",
              "       'Deductible', 'DriverRating', 'Days_Policy_Accident',\n",
              "       'Days_Policy_Claim', 'PastNumberOfClaims', 'AgeOfVehicle',\n",
              "       'AgeOfPolicyHolder', 'PoliceReportFiled', 'WitnessPresent', 'AgentType',\n",
              "       'NumberOfSuppliments', 'AddressChange_Claim', 'NumberOfCars', 'Year',\n",
              "       'BasePolicy'],\n",
              "      dtype='object')"
            ]
          },
          "execution_count": 200,
          "metadata": {},
          "output_type": "execute_result"
        }
      ],
      "source": [
        "df.columns"
      ]
    },
    {
      "cell_type": "code",
      "execution_count": 201,
      "metadata": {
        "colab": {
          "base_uri": "https://localhost:8080/"
        },
        "id": "UzP2WkJoHtWi",
        "outputId": "cfb18441-6cb7-41b2-fb8e-2f7b69a0de6b"
      },
      "outputs": [
        {
          "name": "stdout",
          "output_type": "stream",
          "text": [
            "<class 'pandas.core.frame.DataFrame'>\n",
            "RangeIndex: 15420 entries, 0 to 15419\n",
            "Data columns (total 27 columns):\n",
            " #   Column                Non-Null Count  Dtype\n",
            "---  ------                --------------  -----\n",
            " 0   AccidentArea          15420 non-null  int32\n",
            " 1   Sex                   15420 non-null  int32\n",
            " 2   MaritalStatus         15420 non-null  int32\n",
            " 3   Fault                 15420 non-null  int32\n",
            " 4   PolicyType            15420 non-null  int32\n",
            " 5   VehicleCategory       15420 non-null  int32\n",
            " 6   Make                  15420 non-null  int32\n",
            " 7   DriverRating          15420 non-null  int32\n",
            " 8   Days_Policy_Accident  15420 non-null  int32\n",
            " 9   Days_Policy_Claim     15420 non-null  int32\n",
            " 10  PoliceReportFiled     15420 non-null  int32\n",
            " 11  WitnessPresent        15420 non-null  int32\n",
            " 12  VehiclePrice          15420 non-null  int32\n",
            " 13  AgentType             15420 non-null  int32\n",
            " 14  AddressChange_Claim   15420 non-null  int32\n",
            " 15  PastNumberOfClaims    15420 non-null  int32\n",
            " 16  NumberOfSuppliments   15420 non-null  int32\n",
            " 17  NumberOfCars          15420 non-null  int32\n",
            " 18  Year                  15420 non-null  int32\n",
            " 19  BasePolicy            15420 non-null  int32\n",
            " 20  Month                 15420 non-null  int32\n",
            " 21  AgeOfVehicle          15420 non-null  int32\n",
            " 22  AgeOfPolicyHolder     15420 non-null  int32\n",
            " 23  Age                   15420 non-null  int64\n",
            " 24  FraudFound_P          15420 non-null  int64\n",
            " 25  RepNumber             15420 non-null  int64\n",
            " 26  Deductible            15420 non-null  int64\n",
            "dtypes: int32(23), int64(4)\n",
            "memory usage: 1.8 MB\n",
            "None\n"
          ]
        }
      ],
      "source": [
        "from sklearn.preprocessing import LabelEncoder\n",
        "\n",
        "# Keep a copy of the original DataFrame with the categorical columns\n",
        "df_categorical = df[['AccidentArea', 'Sex', 'MaritalStatus', 'Fault', 'PolicyType', 'VehicleCategory', 'Make','DriverRating',\n",
        "                     'Days_Policy_Accident', 'Days_Policy_Claim', 'PoliceReportFiled', 'WitnessPresent','VehiclePrice',\n",
        "                     'AgentType', 'AddressChange_Claim', 'PastNumberOfClaims','NumberOfSuppliments','NumberOfCars', 'Year', 'BasePolicy', 'Month', 'AgeOfVehicle','AgeOfPolicyHolder']].copy()\n",
        "\n",
        "# Initialize LabelEncoder\n",
        "label_encoder = LabelEncoder()\n",
        "\n",
        "\n",
        "# Apply LabelEncoder to each categorical column\n",
        "for column in df_categorical.columns:\n",
        "    df_categorical[column] = label_encoder.fit_transform(df_categorical[column])\n",
        "# No duplicates - unique identifier , which is not nessasery for analyis --> drop the column\n",
        "df.drop('PolicyNumber', axis = 1, inplace = True)\n",
        "# Concatenate the label encoded DataFrame with the original numerical columns\n",
        "df_final = pd.concat([df_categorical, df.select_dtypes(exclude=['object'])], axis=1)\n",
        "\n",
        "# Final check to see if all the features are in integer or float datatypes after encoding\n",
        "print(df_final.info())\n"
      ]
    },
    {
      "cell_type": "code",
      "execution_count": 202,
      "metadata": {
        "id": "5qTQRy6CEpT9"
      },
      "outputs": [],
      "source": [
        "df_final.to_csv('ML_preprocessed.csv')"
      ]
    },
    {
      "cell_type": "markdown",
      "metadata": {
        "id": "pajhG-kylOaI"
      },
      "source": [
        "### 6. Model Training"
      ]
    },
    {
      "cell_type": "markdown",
      "metadata": {
        "id": "0uX966pRlh98"
      },
      "source": [
        "In this section, we will train the dataset using several classification algorithms:\n",
        "\n",
        "Logistic Regression,\n",
        "K-Nearest Neighbour,\n",
        "Random Forest,\n",
        "XGBoost\n",
        "\n",
        "The best model that suits the business problem based on the metrics - Recall, ROC AUC and Precision-Recall Curve will be selected for hyperparameter tuning.\n",
        "\n",
        "We will adjust the class weights to deal with this set of imbalanced dataset."
      ]
    },
    {
      "cell_type": "code",
      "execution_count": null,
      "metadata": {},
      "outputs": [],
      "source": []
    },
    {
      "cell_type": "code",
      "execution_count": 203,
      "metadata": {
        "id": "t5U16Pq7HQ8R"
      },
      "outputs": [],
      "source": [
        "# Define X and y dataset for Machine Learning\n",
        "X = df_final.drop(['FraudFound_P','Age'], axis=1)\n",
        "y = df_final['FraudFound_P']"
      ]
    },
    {
      "cell_type": "code",
      "execution_count": 204,
      "metadata": {
        "id": "8Ws9Jdm4HQ8R"
      },
      "outputs": [],
      "source": [
        "#Split the dataset into training and testing sets\n",
        "X_train, X_test, y_train, y_test = train_test_split(X, y, test_size=0.2, random_state=42)\n",
        "\n",
        "#Apply SMOTE to balance the training data\n",
        "smote = SMOTE(random_state=42)\n",
        "X_train_resampled, y_train_resampled = smote.fit_resample(X_train, y_train)"
      ]
    },
    {
      "cell_type": "code",
      "execution_count": 205,
      "metadata": {
        "colab": {
          "base_uri": "https://localhost:8080/"
        },
        "id": "4nIUHpNYEwBd",
        "outputId": "7e4eee80-1821-43cc-9507-7dc5cc2412fb"
      },
      "outputs": [
        {
          "name": "stdout",
          "output_type": "stream",
          "text": [
            "Column names in the preprocessed training data:\n",
            "Index(['AccidentArea', 'Sex', 'MaritalStatus', 'Fault', 'PolicyType',\n",
            "       'VehicleCategory', 'Make', 'DriverRating', 'Days_Policy_Accident',\n",
            "       'Days_Policy_Claim', 'PoliceReportFiled', 'WitnessPresent',\n",
            "       'VehiclePrice', 'AgentType', 'AddressChange_Claim',\n",
            "       'PastNumberOfClaims', 'NumberOfSuppliments', 'NumberOfCars', 'Year',\n",
            "       'BasePolicy', 'Month', 'AgeOfVehicle', 'AgeOfPolicyHolder', 'RepNumber',\n",
            "       'Deductible'],\n",
            "      dtype='object')\n",
            "Column names in the preprocessed test data:\n",
            "Index(['AccidentArea', 'Sex', 'MaritalStatus', 'Fault', 'PolicyType',\n",
            "       'VehicleCategory', 'Make', 'DriverRating', 'Days_Policy_Accident',\n",
            "       'Days_Policy_Claim', 'PoliceReportFiled', 'WitnessPresent',\n",
            "       'VehiclePrice', 'AgentType', 'AddressChange_Claim',\n",
            "       'PastNumberOfClaims', 'NumberOfSuppliments', 'NumberOfCars', 'Year',\n",
            "       'BasePolicy', 'Month', 'AgeOfVehicle', 'AgeOfPolicyHolder', 'RepNumber',\n",
            "       'Deductible'],\n",
            "      dtype='object')\n",
            "The column names in the preprocessed training data and the preprocessed test data are identical.\n"
          ]
        }
      ],
      "source": [
        "import pandas as pd\n",
        "\n",
        "# Assuming 'df_train' is your preprocessed training data DataFrame and 'df_test' is your preprocessed test data DataFrame\n",
        "\n",
        "# Check column names in the preprocessed training data\n",
        "print(\"Column names in the preprocessed training data:\")\n",
        "print(X_train.columns)\n",
        "\n",
        "# Check column names in the preprocessed test data\n",
        "print(\"Column names in the preprocessed test data:\")\n",
        "print(X_test.columns)\n",
        "\n",
        "# Get sets of column names for training and test data\n",
        "train_columns = set(X_train.columns)\n",
        "test_columns = set(X_test.columns)\n",
        "\n",
        "# Check for any differences\n",
        "difference = train_columns.symmetric_difference(test_columns)\n",
        "\n",
        "if len(difference) == 0:\n",
        "    print(\"The column names in the preprocessed training data and the preprocessed test data are identical.\")\n",
        "else:\n",
        "    print(\"There are differences in column names between the preprocessed training data and the preprocessed test data:\")\n",
        "    print(\"Columns present in the preprocessed training data but not in the preprocessed test data:\", train_columns - test_columns)\n",
        "    print(\"Columns present in the preprocessed test data but not in the preprocessed training data:\", test_columns - train_columns)\n"
      ]
    },
    {
      "cell_type": "code",
      "execution_count": 206,
      "metadata": {
        "id": "a2Eizj8jHQ8S"
      },
      "outputs": [
        {
          "name": "stderr",
          "output_type": "stream",
          "text": [
            "c:\\Users\\KELIDA\\anaconda3\\Lib\\site-packages\\sklearn\\linear_model\\_logistic.py:469: ConvergenceWarning: lbfgs failed to converge (status=1):\n",
            "STOP: TOTAL NO. of ITERATIONS REACHED LIMIT.\n",
            "\n",
            "Increase the number of iterations (max_iter) or scale the data as shown in:\n",
            "    https://scikit-learn.org/stable/modules/preprocessing.html\n",
            "Please also refer to the documentation for alternative solver options:\n",
            "    https://scikit-learn.org/stable/modules/linear_model.html#logistic-regression\n",
            "  n_iter_i = _check_optimize_result(\n"
          ]
        },
        {
          "data": {
            "text/html": [
              "<style>#sk-container-id-9 {\n",
              "  /* Definition of color scheme common for light and dark mode */\n",
              "  --sklearn-color-text: black;\n",
              "  --sklearn-color-line: gray;\n",
              "  /* Definition of color scheme for unfitted estimators */\n",
              "  --sklearn-color-unfitted-level-0: #fff5e6;\n",
              "  --sklearn-color-unfitted-level-1: #f6e4d2;\n",
              "  --sklearn-color-unfitted-level-2: #ffe0b3;\n",
              "  --sklearn-color-unfitted-level-3: chocolate;\n",
              "  /* Definition of color scheme for fitted estimators */\n",
              "  --sklearn-color-fitted-level-0: #f0f8ff;\n",
              "  --sklearn-color-fitted-level-1: #d4ebff;\n",
              "  --sklearn-color-fitted-level-2: #b3dbfd;\n",
              "  --sklearn-color-fitted-level-3: cornflowerblue;\n",
              "\n",
              "  /* Specific color for light theme */\n",
              "  --sklearn-color-text-on-default-background: var(--sg-text-color, var(--theme-code-foreground, var(--jp-content-font-color1, black)));\n",
              "  --sklearn-color-background: var(--sg-background-color, var(--theme-background, var(--jp-layout-color0, white)));\n",
              "  --sklearn-color-border-box: var(--sg-text-color, var(--theme-code-foreground, var(--jp-content-font-color1, black)));\n",
              "  --sklearn-color-icon: #696969;\n",
              "\n",
              "  @media (prefers-color-scheme: dark) {\n",
              "    /* Redefinition of color scheme for dark theme */\n",
              "    --sklearn-color-text-on-default-background: var(--sg-text-color, var(--theme-code-foreground, var(--jp-content-font-color1, white)));\n",
              "    --sklearn-color-background: var(--sg-background-color, var(--theme-background, var(--jp-layout-color0, #111)));\n",
              "    --sklearn-color-border-box: var(--sg-text-color, var(--theme-code-foreground, var(--jp-content-font-color1, white)));\n",
              "    --sklearn-color-icon: #878787;\n",
              "  }\n",
              "}\n",
              "\n",
              "#sk-container-id-9 {\n",
              "  color: var(--sklearn-color-text);\n",
              "}\n",
              "\n",
              "#sk-container-id-9 pre {\n",
              "  padding: 0;\n",
              "}\n",
              "\n",
              "#sk-container-id-9 input.sk-hidden--visually {\n",
              "  border: 0;\n",
              "  clip: rect(1px 1px 1px 1px);\n",
              "  clip: rect(1px, 1px, 1px, 1px);\n",
              "  height: 1px;\n",
              "  margin: -1px;\n",
              "  overflow: hidden;\n",
              "  padding: 0;\n",
              "  position: absolute;\n",
              "  width: 1px;\n",
              "}\n",
              "\n",
              "#sk-container-id-9 div.sk-dashed-wrapped {\n",
              "  border: 1px dashed var(--sklearn-color-line);\n",
              "  margin: 0 0.4em 0.5em 0.4em;\n",
              "  box-sizing: border-box;\n",
              "  padding-bottom: 0.4em;\n",
              "  background-color: var(--sklearn-color-background);\n",
              "}\n",
              "\n",
              "#sk-container-id-9 div.sk-container {\n",
              "  /* jupyter's `normalize.less` sets `[hidden] { display: none; }`\n",
              "     but bootstrap.min.css set `[hidden] { display: none !important; }`\n",
              "     so we also need the `!important` here to be able to override the\n",
              "     default hidden behavior on the sphinx rendered scikit-learn.org.\n",
              "     See: https://github.com/scikit-learn/scikit-learn/issues/21755 */\n",
              "  display: inline-block !important;\n",
              "  position: relative;\n",
              "}\n",
              "\n",
              "#sk-container-id-9 div.sk-text-repr-fallback {\n",
              "  display: none;\n",
              "}\n",
              "\n",
              "div.sk-parallel-item,\n",
              "div.sk-serial,\n",
              "div.sk-item {\n",
              "  /* draw centered vertical line to link estimators */\n",
              "  background-image: linear-gradient(var(--sklearn-color-text-on-default-background), var(--sklearn-color-text-on-default-background));\n",
              "  background-size: 2px 100%;\n",
              "  background-repeat: no-repeat;\n",
              "  background-position: center center;\n",
              "}\n",
              "\n",
              "/* Parallel-specific style estimator block */\n",
              "\n",
              "#sk-container-id-9 div.sk-parallel-item::after {\n",
              "  content: \"\";\n",
              "  width: 100%;\n",
              "  border-bottom: 2px solid var(--sklearn-color-text-on-default-background);\n",
              "  flex-grow: 1;\n",
              "}\n",
              "\n",
              "#sk-container-id-9 div.sk-parallel {\n",
              "  display: flex;\n",
              "  align-items: stretch;\n",
              "  justify-content: center;\n",
              "  background-color: var(--sklearn-color-background);\n",
              "  position: relative;\n",
              "}\n",
              "\n",
              "#sk-container-id-9 div.sk-parallel-item {\n",
              "  display: flex;\n",
              "  flex-direction: column;\n",
              "}\n",
              "\n",
              "#sk-container-id-9 div.sk-parallel-item:first-child::after {\n",
              "  align-self: flex-end;\n",
              "  width: 50%;\n",
              "}\n",
              "\n",
              "#sk-container-id-9 div.sk-parallel-item:last-child::after {\n",
              "  align-self: flex-start;\n",
              "  width: 50%;\n",
              "}\n",
              "\n",
              "#sk-container-id-9 div.sk-parallel-item:only-child::after {\n",
              "  width: 0;\n",
              "}\n",
              "\n",
              "/* Serial-specific style estimator block */\n",
              "\n",
              "#sk-container-id-9 div.sk-serial {\n",
              "  display: flex;\n",
              "  flex-direction: column;\n",
              "  align-items: center;\n",
              "  background-color: var(--sklearn-color-background);\n",
              "  padding-right: 1em;\n",
              "  padding-left: 1em;\n",
              "}\n",
              "\n",
              "\n",
              "/* Toggleable style: style used for estimator/Pipeline/ColumnTransformer box that is\n",
              "clickable and can be expanded/collapsed.\n",
              "- Pipeline and ColumnTransformer use this feature and define the default style\n",
              "- Estimators will overwrite some part of the style using the `sk-estimator` class\n",
              "*/\n",
              "\n",
              "/* Pipeline and ColumnTransformer style (default) */\n",
              "\n",
              "#sk-container-id-9 div.sk-toggleable {\n",
              "  /* Default theme specific background. It is overwritten whether we have a\n",
              "  specific estimator or a Pipeline/ColumnTransformer */\n",
              "  background-color: var(--sklearn-color-background);\n",
              "}\n",
              "\n",
              "/* Toggleable label */\n",
              "#sk-container-id-9 label.sk-toggleable__label {\n",
              "  cursor: pointer;\n",
              "  display: block;\n",
              "  width: 100%;\n",
              "  margin-bottom: 0;\n",
              "  padding: 0.5em;\n",
              "  box-sizing: border-box;\n",
              "  text-align: center;\n",
              "}\n",
              "\n",
              "#sk-container-id-9 label.sk-toggleable__label-arrow:before {\n",
              "  /* Arrow on the left of the label */\n",
              "  content: \"▸\";\n",
              "  float: left;\n",
              "  margin-right: 0.25em;\n",
              "  color: var(--sklearn-color-icon);\n",
              "}\n",
              "\n",
              "#sk-container-id-9 label.sk-toggleable__label-arrow:hover:before {\n",
              "  color: var(--sklearn-color-text);\n",
              "}\n",
              "\n",
              "/* Toggleable content - dropdown */\n",
              "\n",
              "#sk-container-id-9 div.sk-toggleable__content {\n",
              "  max-height: 0;\n",
              "  max-width: 0;\n",
              "  overflow: hidden;\n",
              "  text-align: left;\n",
              "  /* unfitted */\n",
              "  background-color: var(--sklearn-color-unfitted-level-0);\n",
              "}\n",
              "\n",
              "#sk-container-id-9 div.sk-toggleable__content.fitted {\n",
              "  /* fitted */\n",
              "  background-color: var(--sklearn-color-fitted-level-0);\n",
              "}\n",
              "\n",
              "#sk-container-id-9 div.sk-toggleable__content pre {\n",
              "  margin: 0.2em;\n",
              "  border-radius: 0.25em;\n",
              "  color: var(--sklearn-color-text);\n",
              "  /* unfitted */\n",
              "  background-color: var(--sklearn-color-unfitted-level-0);\n",
              "}\n",
              "\n",
              "#sk-container-id-9 div.sk-toggleable__content.fitted pre {\n",
              "  /* unfitted */\n",
              "  background-color: var(--sklearn-color-fitted-level-0);\n",
              "}\n",
              "\n",
              "#sk-container-id-9 input.sk-toggleable__control:checked~div.sk-toggleable__content {\n",
              "  /* Expand drop-down */\n",
              "  max-height: 200px;\n",
              "  max-width: 100%;\n",
              "  overflow: auto;\n",
              "}\n",
              "\n",
              "#sk-container-id-9 input.sk-toggleable__control:checked~label.sk-toggleable__label-arrow:before {\n",
              "  content: \"▾\";\n",
              "}\n",
              "\n",
              "/* Pipeline/ColumnTransformer-specific style */\n",
              "\n",
              "#sk-container-id-9 div.sk-label input.sk-toggleable__control:checked~label.sk-toggleable__label {\n",
              "  color: var(--sklearn-color-text);\n",
              "  background-color: var(--sklearn-color-unfitted-level-2);\n",
              "}\n",
              "\n",
              "#sk-container-id-9 div.sk-label.fitted input.sk-toggleable__control:checked~label.sk-toggleable__label {\n",
              "  background-color: var(--sklearn-color-fitted-level-2);\n",
              "}\n",
              "\n",
              "/* Estimator-specific style */\n",
              "\n",
              "/* Colorize estimator box */\n",
              "#sk-container-id-9 div.sk-estimator input.sk-toggleable__control:checked~label.sk-toggleable__label {\n",
              "  /* unfitted */\n",
              "  background-color: var(--sklearn-color-unfitted-level-2);\n",
              "}\n",
              "\n",
              "#sk-container-id-9 div.sk-estimator.fitted input.sk-toggleable__control:checked~label.sk-toggleable__label {\n",
              "  /* fitted */\n",
              "  background-color: var(--sklearn-color-fitted-level-2);\n",
              "}\n",
              "\n",
              "#sk-container-id-9 div.sk-label label.sk-toggleable__label,\n",
              "#sk-container-id-9 div.sk-label label {\n",
              "  /* The background is the default theme color */\n",
              "  color: var(--sklearn-color-text-on-default-background);\n",
              "}\n",
              "\n",
              "/* On hover, darken the color of the background */\n",
              "#sk-container-id-9 div.sk-label:hover label.sk-toggleable__label {\n",
              "  color: var(--sklearn-color-text);\n",
              "  background-color: var(--sklearn-color-unfitted-level-2);\n",
              "}\n",
              "\n",
              "/* Label box, darken color on hover, fitted */\n",
              "#sk-container-id-9 div.sk-label.fitted:hover label.sk-toggleable__label.fitted {\n",
              "  color: var(--sklearn-color-text);\n",
              "  background-color: var(--sklearn-color-fitted-level-2);\n",
              "}\n",
              "\n",
              "/* Estimator label */\n",
              "\n",
              "#sk-container-id-9 div.sk-label label {\n",
              "  font-family: monospace;\n",
              "  font-weight: bold;\n",
              "  display: inline-block;\n",
              "  line-height: 1.2em;\n",
              "}\n",
              "\n",
              "#sk-container-id-9 div.sk-label-container {\n",
              "  text-align: center;\n",
              "}\n",
              "\n",
              "/* Estimator-specific */\n",
              "#sk-container-id-9 div.sk-estimator {\n",
              "  font-family: monospace;\n",
              "  border: 1px dotted var(--sklearn-color-border-box);\n",
              "  border-radius: 0.25em;\n",
              "  box-sizing: border-box;\n",
              "  margin-bottom: 0.5em;\n",
              "  /* unfitted */\n",
              "  background-color: var(--sklearn-color-unfitted-level-0);\n",
              "}\n",
              "\n",
              "#sk-container-id-9 div.sk-estimator.fitted {\n",
              "  /* fitted */\n",
              "  background-color: var(--sklearn-color-fitted-level-0);\n",
              "}\n",
              "\n",
              "/* on hover */\n",
              "#sk-container-id-9 div.sk-estimator:hover {\n",
              "  /* unfitted */\n",
              "  background-color: var(--sklearn-color-unfitted-level-2);\n",
              "}\n",
              "\n",
              "#sk-container-id-9 div.sk-estimator.fitted:hover {\n",
              "  /* fitted */\n",
              "  background-color: var(--sklearn-color-fitted-level-2);\n",
              "}\n",
              "\n",
              "/* Specification for estimator info (e.g. \"i\" and \"?\") */\n",
              "\n",
              "/* Common style for \"i\" and \"?\" */\n",
              "\n",
              ".sk-estimator-doc-link,\n",
              "a:link.sk-estimator-doc-link,\n",
              "a:visited.sk-estimator-doc-link {\n",
              "  float: right;\n",
              "  font-size: smaller;\n",
              "  line-height: 1em;\n",
              "  font-family: monospace;\n",
              "  background-color: var(--sklearn-color-background);\n",
              "  border-radius: 1em;\n",
              "  height: 1em;\n",
              "  width: 1em;\n",
              "  text-decoration: none !important;\n",
              "  margin-left: 1ex;\n",
              "  /* unfitted */\n",
              "  border: var(--sklearn-color-unfitted-level-1) 1pt solid;\n",
              "  color: var(--sklearn-color-unfitted-level-1);\n",
              "}\n",
              "\n",
              ".sk-estimator-doc-link.fitted,\n",
              "a:link.sk-estimator-doc-link.fitted,\n",
              "a:visited.sk-estimator-doc-link.fitted {\n",
              "  /* fitted */\n",
              "  border: var(--sklearn-color-fitted-level-1) 1pt solid;\n",
              "  color: var(--sklearn-color-fitted-level-1);\n",
              "}\n",
              "\n",
              "/* On hover */\n",
              "div.sk-estimator:hover .sk-estimator-doc-link:hover,\n",
              ".sk-estimator-doc-link:hover,\n",
              "div.sk-label-container:hover .sk-estimator-doc-link:hover,\n",
              ".sk-estimator-doc-link:hover {\n",
              "  /* unfitted */\n",
              "  background-color: var(--sklearn-color-unfitted-level-3);\n",
              "  color: var(--sklearn-color-background);\n",
              "  text-decoration: none;\n",
              "}\n",
              "\n",
              "div.sk-estimator.fitted:hover .sk-estimator-doc-link.fitted:hover,\n",
              ".sk-estimator-doc-link.fitted:hover,\n",
              "div.sk-label-container:hover .sk-estimator-doc-link.fitted:hover,\n",
              ".sk-estimator-doc-link.fitted:hover {\n",
              "  /* fitted */\n",
              "  background-color: var(--sklearn-color-fitted-level-3);\n",
              "  color: var(--sklearn-color-background);\n",
              "  text-decoration: none;\n",
              "}\n",
              "\n",
              "/* Span, style for the box shown on hovering the info icon */\n",
              ".sk-estimator-doc-link span {\n",
              "  display: none;\n",
              "  z-index: 9999;\n",
              "  position: relative;\n",
              "  font-weight: normal;\n",
              "  right: .2ex;\n",
              "  padding: .5ex;\n",
              "  margin: .5ex;\n",
              "  width: min-content;\n",
              "  min-width: 20ex;\n",
              "  max-width: 50ex;\n",
              "  color: var(--sklearn-color-text);\n",
              "  box-shadow: 2pt 2pt 4pt #999;\n",
              "  /* unfitted */\n",
              "  background: var(--sklearn-color-unfitted-level-0);\n",
              "  border: .5pt solid var(--sklearn-color-unfitted-level-3);\n",
              "}\n",
              "\n",
              ".sk-estimator-doc-link.fitted span {\n",
              "  /* fitted */\n",
              "  background: var(--sklearn-color-fitted-level-0);\n",
              "  border: var(--sklearn-color-fitted-level-3);\n",
              "}\n",
              "\n",
              ".sk-estimator-doc-link:hover span {\n",
              "  display: block;\n",
              "}\n",
              "\n",
              "/* \"?\"-specific style due to the `<a>` HTML tag */\n",
              "\n",
              "#sk-container-id-9 a.estimator_doc_link {\n",
              "  float: right;\n",
              "  font-size: 1rem;\n",
              "  line-height: 1em;\n",
              "  font-family: monospace;\n",
              "  background-color: var(--sklearn-color-background);\n",
              "  border-radius: 1rem;\n",
              "  height: 1rem;\n",
              "  width: 1rem;\n",
              "  text-decoration: none;\n",
              "  /* unfitted */\n",
              "  color: var(--sklearn-color-unfitted-level-1);\n",
              "  border: var(--sklearn-color-unfitted-level-1) 1pt solid;\n",
              "}\n",
              "\n",
              "#sk-container-id-9 a.estimator_doc_link.fitted {\n",
              "  /* fitted */\n",
              "  border: var(--sklearn-color-fitted-level-1) 1pt solid;\n",
              "  color: var(--sklearn-color-fitted-level-1);\n",
              "}\n",
              "\n",
              "/* On hover */\n",
              "#sk-container-id-9 a.estimator_doc_link:hover {\n",
              "  /* unfitted */\n",
              "  background-color: var(--sklearn-color-unfitted-level-3);\n",
              "  color: var(--sklearn-color-background);\n",
              "  text-decoration: none;\n",
              "}\n",
              "\n",
              "#sk-container-id-9 a.estimator_doc_link.fitted:hover {\n",
              "  /* fitted */\n",
              "  background-color: var(--sklearn-color-fitted-level-3);\n",
              "}\n",
              "</style><div id=\"sk-container-id-9\" class=\"sk-top-container\"><div class=\"sk-text-repr-fallback\"><pre>LogisticRegression()</pre><b>In a Jupyter environment, please rerun this cell to show the HTML representation or trust the notebook. <br />On GitHub, the HTML representation is unable to render, please try loading this page with nbviewer.org.</b></div><div class=\"sk-container\" hidden><div class=\"sk-item\"><div class=\"sk-estimator fitted sk-toggleable\"><input class=\"sk-toggleable__control sk-hidden--visually\" id=\"sk-estimator-id-9\" type=\"checkbox\" checked><label for=\"sk-estimator-id-9\" class=\"sk-toggleable__label fitted sk-toggleable__label-arrow fitted\">&nbsp;&nbsp;LogisticRegression<a class=\"sk-estimator-doc-link fitted\" rel=\"noreferrer\" target=\"_blank\" href=\"https://scikit-learn.org/1.4/modules/generated/sklearn.linear_model.LogisticRegression.html\">?<span>Documentation for LogisticRegression</span></a><span class=\"sk-estimator-doc-link fitted\">i<span>Fitted</span></span></label><div class=\"sk-toggleable__content fitted\"><pre>LogisticRegression()</pre></div> </div></div></div></div>"
            ],
            "text/plain": [
              "LogisticRegression()"
            ]
          },
          "execution_count": 206,
          "metadata": {},
          "output_type": "execute_result"
        }
      ],
      "source": [
        "# Train classifiers\n",
        "clf = LogisticRegression()\n",
        "clf.fit(X_train_resampled, y_train_resampled)\n"
      ]
    },
    {
      "cell_type": "code",
      "execution_count": 207,
      "metadata": {
        "colab": {
          "base_uri": "https://localhost:8080/"
        },
        "id": "tW-aI6QUHQ8T",
        "outputId": "2ea81e0c-38ab-4f70-9bca-8261b1dde3a3"
      },
      "outputs": [
        {
          "name": "stdout",
          "output_type": "stream",
          "text": [
            "              precision    recall  f1-score   support\n",
            "\n",
            "           0       0.96      0.78      0.86      2887\n",
            "           1       0.13      0.47      0.20       197\n",
            "\n",
            "    accuracy                           0.76      3084\n",
            "   macro avg       0.54      0.62      0.53      3084\n",
            "weighted avg       0.90      0.76      0.82      3084\n",
            "\n"
          ]
        }
      ],
      "source": [
        "y_pred = clf.predict(X_test)\n",
        "print(classification_report(y_test, y_pred))"
      ]
    },
    {
      "cell_type": "code",
      "execution_count": 208,
      "metadata": {},
      "outputs": [
        {
          "data": {
            "text/plain": [
              "Index(['AccidentArea', 'Sex', 'MaritalStatus', 'Fault', 'PolicyType',\n",
              "       'VehicleCategory', 'Make', 'DriverRating', 'Days_Policy_Accident',\n",
              "       'Days_Policy_Claim', 'PoliceReportFiled', 'WitnessPresent',\n",
              "       'VehiclePrice', 'AgentType', 'AddressChange_Claim',\n",
              "       'PastNumberOfClaims', 'NumberOfSuppliments', 'NumberOfCars', 'Year',\n",
              "       'BasePolicy', 'Month', 'AgeOfVehicle', 'AgeOfPolicyHolder', 'RepNumber',\n",
              "       'Deductible'],\n",
              "      dtype='object')"
            ]
          },
          "execution_count": 208,
          "metadata": {},
          "output_type": "execute_result"
        }
      ],
      "source": [
        "X.columns"
      ]
    },
    {
      "cell_type": "code",
      "execution_count": 210,
      "metadata": {},
      "outputs": [],
      "source": [
        "import pickle\n",
        "\n",
        "# Save the trained model as .sav\n",
        "with open(\"fraud_model.sav\", \"wb\") as file:\n",
        "    pickle.dump(clf, file)\n"
      ]
    },
    {
      "cell_type": "markdown",
      "metadata": {
        "id": "6CuVSXOvOaLM"
      },
      "source": [
        "#### Finally , save the classifier model for future deployment."
      ]
    },
    {
      "cell_type": "code",
      "execution_count": 186,
      "metadata": {
        "colab": {
          "base_uri": "https://localhost:8080/"
        },
        "id": "4z2mv-kVX3RW",
        "outputId": "3418eb64-7112-47ab-b3c9-976c07858ec4"
      },
      "outputs": [
        {
          "name": "stdout",
          "output_type": "stream",
          "text": [
            "Encoders saved successfully in 'encoder.sav'!\n"
          ]
        }
      ],
      "source": [
        "from sklearn.preprocessing import LabelEncoder\n",
        "import pickle\n",
        "\n",
        "# Initialize a dictionary to store the encoders\n",
        "encoders = {}\n",
        "\n",
        "# Example columns for demonstration; replace with your actual DataFrame and columns\n",
        "df_categorical = df[['AccidentArea', 'Sex', 'MaritalStatus', 'Fault', 'PolicyType', 'VehicleCategory', 'Make','DriverRating',\n",
        "                     'Days_Policy_Accident', 'Days_Policy_Claim', 'PoliceReportFiled', 'WitnessPresent','VehiclePrice',\n",
        "                     'AgentType', 'AddressChange_Claim', 'PastNumberOfClaims','NumberOfSuppliments','NumberOfCars', 'Year',\n",
        "                     'BasePolicy', 'Month', 'AgeOfVehicle','AgeOfPolicyHolder']].copy()\n",
        "\n",
        "# Apply LabelEncoder to each categorical column and save the encoder\n",
        "for column in df_categorical.columns:\n",
        "    le = LabelEncoder()\n",
        "    df_categorical[column] = le.fit_transform(df_categorical[column])\n",
        "    encoders[column] = le\n",
        "\n",
        "# Save the encoders to a file\n",
        "filename = 'encoder.sav'\n",
        "pickle.dump(encoders, open(filename, 'wb'))\n",
        "\n",
        "print(\"Encoders saved successfully in 'encoder.sav'!\")\n"
      ]
    },
    {
      "cell_type": "code",
      "execution_count": null,
      "metadata": {},
      "outputs": [
        {
          "name": "stdout",
          "output_type": "stream",
          "text": [
            "Optimized Recall Threshold: 0.000\n"
          ]
        },
        {
          "data": {
            "text/plain": [
              "['optimized_model.pkl']"
            ]
          },
          "execution_count": 211,
          "metadata": {},
          "output_type": "execute_result"
        }
      ],
      "source": []
    },
    {
      "cell_type": "code",
      "execution_count": 218,
      "metadata": {},
      "outputs": [
        {
          "name": "stdout",
          "output_type": "stream",
          "text": [
            "Optimized Recall Threshold: 0.40\n"
          ]
        }
      ],
      "source": [
        "import joblib\n",
        "import numpy as np\n",
        "from sklearn.preprocessing import StandardScaler\n",
        "from sklearn.linear_model import LogisticRegression\n",
        "from sklearn.model_selection import train_test_split\n",
        "from imblearn.over_sampling import ADASYN\n",
        "from sklearn.metrics import precision_recall_curve\n",
        "\n",
        "# Load and split dataset\n",
        "X_train, X_test, y_train, y_test = train_test_split(X, y, test_size=0.2, random_state=42, stratify=y)\n",
        "\n",
        "# Apply ADASYN for balancing data\n",
        "adasyn = ADASYN(random_state=42)\n",
        "X_train_resampled, y_train_resampled = adasyn.fit_resample(X_train, y_train)\n",
        "\n",
        "# Standardize numerical features\n",
        "scaler = StandardScaler()\n",
        "X_train_scaled = scaler.fit_transform(X_train_resampled)\n",
        "X_test_scaled = scaler.transform(X_test)\n",
        "\n",
        "# Train Logistic Regression Model\n",
        "clf = LogisticRegression(solver='liblinear', class_weight='balanced', random_state=42)\n",
        "clf.fit(X_train_scaled, y_train_resampled)\n",
        "\n",
        "# Compute Precision-Recall Curve for Threshold Optimization\n",
        "y_scores = clf.predict_proba(X_test_scaled)[:, 1]\n",
        "precision, recall, thresholds = precision_recall_curve(y_test, y_scores)\n",
        "\n",
        "# Compute Precision-Recall Curve\n",
        "y_scores = clf.predict_proba(X_test_scaled)[:, 1]\n",
        "precision, recall, thresholds = precision_recall_curve(y_test, y_scores)\n",
        "\n",
        "# Find optimal threshold balancing recall and precision\n",
        "optimal_idx = np.argmax(recall - precision)  # Prioritizing recall\n",
        "# Set a minimum threshold to prevent too many similar values\n",
        "optimal_threshold = max(0.40, min(0.70, thresholds[optimal_idx]))\n",
        "\n",
        "print(f\"Optimized Recall Threshold: {optimal_threshold:.2f}\")\n",
        "\n",
        "# Store the threshold inside the model\n",
        "clf.optimal_threshold = optimal_threshold\n",
        "import pickle\n",
        "\n",
        "# Save the trained model\n",
        "with open(\"optimized_model.pkl\", \"wb\") as model_file:\n",
        "    pickle.dump(clf, model_file)  # Save the model\n",
        "\n",
        "# Save the scaler separately\n",
        "with open(\"scaler.pkl\", \"wb\") as scaler_file:\n",
        "    pickle.dump(scaler, scaler_file)  # Save the scaler\n"
      ]
    }
  ],
  "metadata": {
    "colab": {
      "provenance": []
    },
    "kernelspec": {
      "display_name": "div",
      "language": "python",
      "name": "div"
    },
    "language_info": {
      "codemirror_mode": {
        "name": "ipython",
        "version": 3
      },
      "file_extension": ".py",
      "mimetype": "text/x-python",
      "name": "python",
      "nbconvert_exporter": "python",
      "pygments_lexer": "ipython3",
      "version": "3.11.9"
    }
  },
  "nbformat": 4,
  "nbformat_minor": 0
}
