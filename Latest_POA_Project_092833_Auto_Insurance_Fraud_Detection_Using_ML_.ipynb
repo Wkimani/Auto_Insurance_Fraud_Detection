{
  "cells": [
    {
      "cell_type": "markdown",
      "metadata": {
        "id": "fH58Ik1YG7MH"
      },
      "source": [
        "## **MSc DSA 8401: AML - Term Project**\n",
        "\n",
        "## **Wangari Kimani - 092833**\n",
        "\n",
        "### **Detecting Auto Insurance Fraud Using ML**\n"
      ]
    },
    {
      "cell_type": "markdown",
      "metadata": {
        "id": "0sFYjR8P7n-x"
      },
      "source": [
        "### Introduction\n",
        "Insurance is a contractual agreement between a policyholder and an insurer, where the insurer provides financial compensation or coverage for specified risks or losses in exchange for regular premium payments. Auto insurance fraud is a major problem for insurance firms worldwide, causing significant financial losses for policyholders. Traditional fraud detection methods, such as manual inspection and data mining, have limitations in accuracy and effectiveness. However, machine learning and extensive insurance data offer a chance to enhance fraud detection skills.\n",
        "\n",
        "This study aims to develop a machine model to determine if a particular insurance claim is fraudulent. The research aims to contribute to the advancement of auto insurance fraud detection techniques, providing insurance companies with an effective tool to mitigate financial losses, maintain fair premiums, and promote trust in the insurance industry. The objectives include identifying relevant features in the insurance dataset, evaluating the performance of machine learning models used in detecting fraudulent claims, and creating a classification system that distinguishes between authentic and fraudulent claims."
      ]
    },
    {
      "cell_type": "markdown",
      "metadata": {
        "id": "GhSE-XZdHCrJ"
      },
      "source": [
        "### Objective\n",
        "\n",
        "Insurance frauds cover the range of improper activities which an individual may commit in order to achieve a favourable outcome from the insurance company. This could range from staging the incident, misrepresenting the situation including the relevant actors and the cause of incident and finally the extent of damage caused.\n",
        "\n",
        "The goal of this project is to fit a machine learning model that can detect auto insurance fraud, by classifying genuine and fruadulent claims."
      ]
    },
    {
      "cell_type": "markdown",
      "metadata": {
        "id": "4PEY5mQBHET0"
      },
      "source": [
        "### Research Questions\n",
        "\n",
        "1. What are the most relevant factors that inform fraudulent and suspicious activity in the insurance sector?\n",
        "2. Which machine learning models have the best performance and accuracy in detecting fraudulent auto insurance claims?\n",
        "3. How are the models performing when optimized.\n",
        "\n"
      ]
    },
    {
      "cell_type": "markdown",
      "metadata": {
        "id": "43Pc0IaXHaZP"
      },
      "source": [
        "### *Scope/Methodology*\n",
        "This research focuses on analyzing automobile insurance data for machine learning classifier training. The approach will be validated through testing, modeling, model comparison, and estimations for accuracy. I followed the CRISP-DM modelprocess that includes, business understanding, data understanding, data preparation, modelling, evaluation and deployment to find the best accurate and high-performing machine learning classifier for vehicle insurance claim legitimacy and fraud.\n",
        "\n",
        "The CRISP-DM model is a proven data science or machine learning project management strategy that supports project replication and best practices. The study uses secondary data to analyze fraudulent car insurance claims.\n",
        "The dataset includes past insurance motor claims history. It was originally collected from kaggle, an open-source website with several data sets, and published by Oracle between 1994 - 1996. The data contains 15,420 records of policy claims and 33 features.\n",
        "The dataset contains historical auto insurance claims, policyholder information, accident details, claim amounts, car make and model, year of manufacture, sum insured, and other relevant contextual data from insurance firms.Data preprocessing is necessary to provide high-quality features for ML classifiers. it includes: Cleaning, normalizing, encoding, and integrating data.\n",
        "\n",
        "Four models were trained and evaluated: XGBoost, RF, KNN, and LR. The models were selected based on prior accuracy testing that showed promising results. They were selected based on prior accuracy and evaluated using accuracy, F1 score, and recall-precision. After classifier training and testing, legitimate and fraudulent class samples were split.\n",
        "\n",
        "This research examines the effectiveness and efficiency of machine learning models in identifying fraudulent vehicle insurance claims. We apply hyperparameter tuning to the data to enhance model performance. The confusion matrix, classification accuracy, F-1 score, and recall-precision classification report are used to determine the model's greatest classification and prediction accuracy.\n"
      ]
    },
    {
      "cell_type": "markdown",
      "metadata": {
        "id": "SE_PR_vnIUqt"
      },
      "source": [
        "### Assumptions\n",
        "\n",
        "1. The target feature in the dataset is imbalanced, which can lead to wrong predictions of the models, however, to solve this, we use class weights.\n",
        "2. The trained model can be used to validate auto insurance claims in the Kenyan market."
      ]
    },
    {
      "cell_type": "markdown",
      "metadata": {
        "id": "lCEppMfgDOLo"
      },
      "source": [
        "### 1. Import relevant libraries and dataset"
      ]
    },
    {
      "cell_type": "code",
      "execution_count": 14,
      "metadata": {
        "id": "ef7U5QPzywu7"
      },
      "outputs": [],
      "source": [
        "import warnings\n",
        "\n",
        "# Suppress all warnings\n",
        "warnings.filterwarnings(\"ignore\")\n"
      ]
    },
    {
      "cell_type": "code",
      "execution_count": 15,
      "metadata": {
        "colab": {
          "base_uri": "https://localhost:8080/"
        },
        "id": "mcnlrIXTw0ak",
        "outputId": "9a91b233-f848-4cf1-f9ec-af4a9dad36fa"
      },
      "outputs": [
        {
          "name": "stdout",
          "output_type": "stream",
          "text": [
            "1.26.4\n",
            "Interpolation result: 25.0\n"
          ]
        }
      ],
      "source": [
        "import numpy as np\n",
        "\n",
        "# Test the import by printing the numpy version\n",
        "print(np.__version__)\n",
        "\n",
        "# Test the interp function\n",
        "x = [1, 2, 3]\n",
        "xp = [1, 2, 3]\n",
        "fp = [10, 20, 30]\n",
        "\n",
        "result = np.interp(2.5, xp, fp)\n",
        "print(\"Interpolation result:\", result)\n"
      ]
    },
    {
      "cell_type": "code",
      "execution_count": 16,
      "metadata": {
        "id": "AJ41y5ooAkNM"
      },
      "outputs": [],
      "source": [
        "# Regular EDA libraries\n",
        "import numpy as np\n",
        "import pandas as pd\n",
        "import matplotlib.pyplot as plt\n",
        "import seaborn as sns\n",
        "\n",
        "\n",
        "# we want our plots to apear within notebooks\n",
        "%matplotlib inline\n",
        "pd.set_option('display.float_format', lambda x: '%.2f' % x)\n",
        "sns.set_style(\"darkgrid\")\n",
        "plt.style.use('ggplot')\n",
        "import scipy.stats as spstats\n",
        "\n",
        "from sklearn.preprocessing import OrdinalEncoder\n",
        "\n",
        "# Models from scikit-learn & XGboost\n",
        "from sklearn.ensemble import RandomForestClassifier\n",
        "from sklearn.linear_model import LogisticRegression\n",
        "from sklearn.neighbors import KNeighborsClassifier\n",
        "from sklearn.pipeline import Pipeline\n",
        "from sklearn.feature_selection import SelectKBest, chi2\n",
        "from imblearn.over_sampling import RandomOverSampler\n",
        "from imblearn.over_sampling import ADASYN, SMOTE, SMOTENC\n",
        "import random\n",
        "from sklearn.preprocessing import MinMaxScaler, OrdinalEncoder, StandardScaler\n",
        "\n",
        "\n",
        "# Model Evaluation libraries\n",
        "from sklearn.model_selection import train_test_split, cross_val_score\n",
        "from sklearn.metrics import (classification_report, confusion_matrix, f1_score,\n",
        "                             precision_recall_curve, precision_score,\n",
        "                             recall_score, roc_auc_score)\n",
        "from sklearn.model_selection import (GridSearchCV, RepeatedStratifiedKFold,\n",
        "                                     StratifiedKFold, cross_val_score,\n",
        "                                     train_test_split)\n",
        "from sklearn.model_selection import GridSearchCV, RandomizedSearchCV, KFold\n",
        "from sklearn.metrics import classification_report, confusion_matrix\n",
        "from sklearn.metrics import precision_score, recall_score, f1_score, make_scorer, accuracy_score"
      ]
    },
    {
      "cell_type": "code",
      "execution_count": 17,
      "metadata": {
        "id": "w4xPRcQD43xl"
      },
      "outputs": [],
      "source": [
        "# For Hyperparameter tunning of Xgboost\n",
        "#from hyperopt import STATUS_OK, Trials, fmin, hp, tpe"
      ]
    },
    {
      "cell_type": "code",
      "execution_count": 18,
      "metadata": {
        "id": "Wnyx0XFy5z1R"
      },
      "outputs": [],
      "source": [
        "#from scikitplot.metrics import plot_roc_curve\n",
        "# Import interp from the correct submodule\n",
        "#from scipy.interpolate import interp\n",
        "\n",
        "from sklearn.metrics import roc_curve, auc\n",
        "import numpy as np"
      ]
    },
    {
      "cell_type": "markdown",
      "metadata": {
        "id": "2FBCH9PUFXeR"
      },
      "source": [
        "### Loading the Data"
      ]
    },
    {
      "cell_type": "code",
      "execution_count": 19,
      "metadata": {
        "id": "WSTY-Ec8FaM-"
      },
      "outputs": [],
      "source": [
        "# Importing the data link\n",
        "data_link = 'https://raw.githubusercontent.com/Wkimani/Auto-Insurance-Fraud-Detection-Using-ML/main/fraud_oracle.csv'\n",
        "\n",
        "#loading the csv file\n",
        "df = pd.read_csv(data_link)\n",
        "\n",
        "#viewing the first 5 rows\n",
        "df.head()\n",
        "\n",
        "df_copy=df.copy()"
      ]
    },
    {
      "cell_type": "markdown",
      "metadata": {
        "id": "pXCvuaUWeMrM"
      },
      "source": [
        "### 2. Initial Data Exploration"
      ]
    },
    {
      "cell_type": "code",
      "execution_count": 20,
      "metadata": {
        "colab": {
          "base_uri": "https://localhost:8080/",
          "height": 255
        },
        "id": "0ZnPpU00eMEz",
        "outputId": "e410fedc-4397-4cfa-aff9-db3447798069"
      },
      "outputs": [
        {
          "data": {
            "text/html": [
              "<div>\n",
              "<style scoped>\n",
              "    .dataframe tbody tr th:only-of-type {\n",
              "        vertical-align: middle;\n",
              "    }\n",
              "\n",
              "    .dataframe tbody tr th {\n",
              "        vertical-align: top;\n",
              "    }\n",
              "\n",
              "    .dataframe thead th {\n",
              "        text-align: right;\n",
              "    }\n",
              "</style>\n",
              "<table border=\"1\" class=\"dataframe\">\n",
              "  <thead>\n",
              "    <tr style=\"text-align: right;\">\n",
              "      <th></th>\n",
              "      <th>Month</th>\n",
              "      <th>WeekOfMonth</th>\n",
              "      <th>DayOfWeek</th>\n",
              "      <th>Make</th>\n",
              "      <th>AccidentArea</th>\n",
              "      <th>DayOfWeekClaimed</th>\n",
              "      <th>MonthClaimed</th>\n",
              "      <th>WeekOfMonthClaimed</th>\n",
              "      <th>Sex</th>\n",
              "      <th>MaritalStatus</th>\n",
              "      <th>...</th>\n",
              "      <th>AgeOfVehicle</th>\n",
              "      <th>AgeOfPolicyHolder</th>\n",
              "      <th>PoliceReportFiled</th>\n",
              "      <th>WitnessPresent</th>\n",
              "      <th>AgentType</th>\n",
              "      <th>NumberOfSuppliments</th>\n",
              "      <th>AddressChange_Claim</th>\n",
              "      <th>NumberOfCars</th>\n",
              "      <th>Year</th>\n",
              "      <th>BasePolicy</th>\n",
              "    </tr>\n",
              "  </thead>\n",
              "  <tbody>\n",
              "    <tr>\n",
              "      <th>0</th>\n",
              "      <td>Dec</td>\n",
              "      <td>5</td>\n",
              "      <td>Wednesday</td>\n",
              "      <td>Honda</td>\n",
              "      <td>Urban</td>\n",
              "      <td>Tuesday</td>\n",
              "      <td>Jan</td>\n",
              "      <td>1</td>\n",
              "      <td>Female</td>\n",
              "      <td>Single</td>\n",
              "      <td>...</td>\n",
              "      <td>3 years</td>\n",
              "      <td>26 to 30</td>\n",
              "      <td>No</td>\n",
              "      <td>No</td>\n",
              "      <td>External</td>\n",
              "      <td>none</td>\n",
              "      <td>1 year</td>\n",
              "      <td>3 to 4</td>\n",
              "      <td>1994</td>\n",
              "      <td>Liability</td>\n",
              "    </tr>\n",
              "    <tr>\n",
              "      <th>1</th>\n",
              "      <td>Jan</td>\n",
              "      <td>3</td>\n",
              "      <td>Wednesday</td>\n",
              "      <td>Honda</td>\n",
              "      <td>Urban</td>\n",
              "      <td>Monday</td>\n",
              "      <td>Jan</td>\n",
              "      <td>4</td>\n",
              "      <td>Male</td>\n",
              "      <td>Single</td>\n",
              "      <td>...</td>\n",
              "      <td>6 years</td>\n",
              "      <td>31 to 35</td>\n",
              "      <td>Yes</td>\n",
              "      <td>No</td>\n",
              "      <td>External</td>\n",
              "      <td>none</td>\n",
              "      <td>no change</td>\n",
              "      <td>1 vehicle</td>\n",
              "      <td>1994</td>\n",
              "      <td>Collision</td>\n",
              "    </tr>\n",
              "    <tr>\n",
              "      <th>2</th>\n",
              "      <td>Oct</td>\n",
              "      <td>5</td>\n",
              "      <td>Friday</td>\n",
              "      <td>Honda</td>\n",
              "      <td>Urban</td>\n",
              "      <td>Thursday</td>\n",
              "      <td>Nov</td>\n",
              "      <td>2</td>\n",
              "      <td>Male</td>\n",
              "      <td>Married</td>\n",
              "      <td>...</td>\n",
              "      <td>7 years</td>\n",
              "      <td>41 to 50</td>\n",
              "      <td>No</td>\n",
              "      <td>No</td>\n",
              "      <td>External</td>\n",
              "      <td>none</td>\n",
              "      <td>no change</td>\n",
              "      <td>1 vehicle</td>\n",
              "      <td>1994</td>\n",
              "      <td>Collision</td>\n",
              "    </tr>\n",
              "    <tr>\n",
              "      <th>3</th>\n",
              "      <td>Jun</td>\n",
              "      <td>2</td>\n",
              "      <td>Saturday</td>\n",
              "      <td>Toyota</td>\n",
              "      <td>Rural</td>\n",
              "      <td>Friday</td>\n",
              "      <td>Jul</td>\n",
              "      <td>1</td>\n",
              "      <td>Male</td>\n",
              "      <td>Married</td>\n",
              "      <td>...</td>\n",
              "      <td>more than 7</td>\n",
              "      <td>51 to 65</td>\n",
              "      <td>Yes</td>\n",
              "      <td>No</td>\n",
              "      <td>External</td>\n",
              "      <td>more than 5</td>\n",
              "      <td>no change</td>\n",
              "      <td>1 vehicle</td>\n",
              "      <td>1994</td>\n",
              "      <td>Liability</td>\n",
              "    </tr>\n",
              "    <tr>\n",
              "      <th>4</th>\n",
              "      <td>Jan</td>\n",
              "      <td>5</td>\n",
              "      <td>Monday</td>\n",
              "      <td>Honda</td>\n",
              "      <td>Urban</td>\n",
              "      <td>Tuesday</td>\n",
              "      <td>Feb</td>\n",
              "      <td>2</td>\n",
              "      <td>Female</td>\n",
              "      <td>Single</td>\n",
              "      <td>...</td>\n",
              "      <td>5 years</td>\n",
              "      <td>31 to 35</td>\n",
              "      <td>No</td>\n",
              "      <td>No</td>\n",
              "      <td>External</td>\n",
              "      <td>none</td>\n",
              "      <td>no change</td>\n",
              "      <td>1 vehicle</td>\n",
              "      <td>1994</td>\n",
              "      <td>Collision</td>\n",
              "    </tr>\n",
              "  </tbody>\n",
              "</table>\n",
              "<p>5 rows × 33 columns</p>\n",
              "</div>"
            ],
            "text/plain": [
              "  Month  WeekOfMonth  DayOfWeek    Make AccidentArea DayOfWeekClaimed  \\\n",
              "0   Dec            5  Wednesday   Honda        Urban          Tuesday   \n",
              "1   Jan            3  Wednesday   Honda        Urban           Monday   \n",
              "2   Oct            5     Friday   Honda        Urban         Thursday   \n",
              "3   Jun            2   Saturday  Toyota        Rural           Friday   \n",
              "4   Jan            5     Monday   Honda        Urban          Tuesday   \n",
              "\n",
              "  MonthClaimed  WeekOfMonthClaimed     Sex MaritalStatus  ...  AgeOfVehicle  \\\n",
              "0          Jan                   1  Female        Single  ...       3 years   \n",
              "1          Jan                   4    Male        Single  ...       6 years   \n",
              "2          Nov                   2    Male       Married  ...       7 years   \n",
              "3          Jul                   1    Male       Married  ...   more than 7   \n",
              "4          Feb                   2  Female        Single  ...       5 years   \n",
              "\n",
              "  AgeOfPolicyHolder PoliceReportFiled WitnessPresent AgentType  \\\n",
              "0          26 to 30                No             No  External   \n",
              "1          31 to 35               Yes             No  External   \n",
              "2          41 to 50                No             No  External   \n",
              "3          51 to 65               Yes             No  External   \n",
              "4          31 to 35                No             No  External   \n",
              "\n",
              "   NumberOfSuppliments  AddressChange_Claim  NumberOfCars  Year  BasePolicy  \n",
              "0                 none               1 year        3 to 4  1994   Liability  \n",
              "1                 none            no change     1 vehicle  1994   Collision  \n",
              "2                 none            no change     1 vehicle  1994   Collision  \n",
              "3          more than 5            no change     1 vehicle  1994   Liability  \n",
              "4                 none            no change     1 vehicle  1994   Collision  \n",
              "\n",
              "[5 rows x 33 columns]"
            ]
          },
          "execution_count": 20,
          "metadata": {},
          "output_type": "execute_result"
        }
      ],
      "source": [
        "# Viewing first 5 rows\n",
        "df.head()"
      ]
    },
    {
      "cell_type": "code",
      "execution_count": 21,
      "metadata": {
        "colab": {
          "base_uri": "https://localhost:8080/",
          "height": 320
        },
        "id": "JcnzIRtuedeK",
        "outputId": "3a4565ec-0df6-4abe-ff27-2e69d722816f"
      },
      "outputs": [
        {
          "data": {
            "text/html": [
              "<div>\n",
              "<style scoped>\n",
              "    .dataframe tbody tr th:only-of-type {\n",
              "        vertical-align: middle;\n",
              "    }\n",
              "\n",
              "    .dataframe tbody tr th {\n",
              "        vertical-align: top;\n",
              "    }\n",
              "\n",
              "    .dataframe thead th {\n",
              "        text-align: right;\n",
              "    }\n",
              "</style>\n",
              "<table border=\"1\" class=\"dataframe\">\n",
              "  <thead>\n",
              "    <tr style=\"text-align: right;\">\n",
              "      <th></th>\n",
              "      <th>WeekOfMonth</th>\n",
              "      <th>WeekOfMonthClaimed</th>\n",
              "      <th>Age</th>\n",
              "      <th>FraudFound_P</th>\n",
              "      <th>PolicyNumber</th>\n",
              "      <th>RepNumber</th>\n",
              "      <th>Deductible</th>\n",
              "      <th>DriverRating</th>\n",
              "      <th>Year</th>\n",
              "    </tr>\n",
              "  </thead>\n",
              "  <tbody>\n",
              "    <tr>\n",
              "      <th>count</th>\n",
              "      <td>15420.00</td>\n",
              "      <td>15420.00</td>\n",
              "      <td>15420.00</td>\n",
              "      <td>15420.00</td>\n",
              "      <td>15420.00</td>\n",
              "      <td>15420.00</td>\n",
              "      <td>15420.00</td>\n",
              "      <td>15420.00</td>\n",
              "      <td>15420.00</td>\n",
              "    </tr>\n",
              "    <tr>\n",
              "      <th>mean</th>\n",
              "      <td>2.79</td>\n",
              "      <td>2.69</td>\n",
              "      <td>39.86</td>\n",
              "      <td>0.06</td>\n",
              "      <td>7710.50</td>\n",
              "      <td>8.48</td>\n",
              "      <td>407.70</td>\n",
              "      <td>2.49</td>\n",
              "      <td>1994.87</td>\n",
              "    </tr>\n",
              "    <tr>\n",
              "      <th>std</th>\n",
              "      <td>1.29</td>\n",
              "      <td>1.26</td>\n",
              "      <td>13.49</td>\n",
              "      <td>0.24</td>\n",
              "      <td>4451.51</td>\n",
              "      <td>4.60</td>\n",
              "      <td>43.95</td>\n",
              "      <td>1.12</td>\n",
              "      <td>0.80</td>\n",
              "    </tr>\n",
              "    <tr>\n",
              "      <th>min</th>\n",
              "      <td>1.00</td>\n",
              "      <td>1.00</td>\n",
              "      <td>0.00</td>\n",
              "      <td>0.00</td>\n",
              "      <td>1.00</td>\n",
              "      <td>1.00</td>\n",
              "      <td>300.00</td>\n",
              "      <td>1.00</td>\n",
              "      <td>1994.00</td>\n",
              "    </tr>\n",
              "    <tr>\n",
              "      <th>25%</th>\n",
              "      <td>2.00</td>\n",
              "      <td>2.00</td>\n",
              "      <td>31.00</td>\n",
              "      <td>0.00</td>\n",
              "      <td>3855.75</td>\n",
              "      <td>5.00</td>\n",
              "      <td>400.00</td>\n",
              "      <td>1.00</td>\n",
              "      <td>1994.00</td>\n",
              "    </tr>\n",
              "    <tr>\n",
              "      <th>50%</th>\n",
              "      <td>3.00</td>\n",
              "      <td>3.00</td>\n",
              "      <td>38.00</td>\n",
              "      <td>0.00</td>\n",
              "      <td>7710.50</td>\n",
              "      <td>8.00</td>\n",
              "      <td>400.00</td>\n",
              "      <td>2.00</td>\n",
              "      <td>1995.00</td>\n",
              "    </tr>\n",
              "    <tr>\n",
              "      <th>75%</th>\n",
              "      <td>4.00</td>\n",
              "      <td>4.00</td>\n",
              "      <td>48.00</td>\n",
              "      <td>0.00</td>\n",
              "      <td>11565.25</td>\n",
              "      <td>12.00</td>\n",
              "      <td>400.00</td>\n",
              "      <td>3.00</td>\n",
              "      <td>1996.00</td>\n",
              "    </tr>\n",
              "    <tr>\n",
              "      <th>max</th>\n",
              "      <td>5.00</td>\n",
              "      <td>5.00</td>\n",
              "      <td>80.00</td>\n",
              "      <td>1.00</td>\n",
              "      <td>15420.00</td>\n",
              "      <td>16.00</td>\n",
              "      <td>700.00</td>\n",
              "      <td>4.00</td>\n",
              "      <td>1996.00</td>\n",
              "    </tr>\n",
              "  </tbody>\n",
              "</table>\n",
              "</div>"
            ],
            "text/plain": [
              "       WeekOfMonth  WeekOfMonthClaimed      Age  FraudFound_P  PolicyNumber  \\\n",
              "count     15420.00            15420.00 15420.00      15420.00      15420.00   \n",
              "mean          2.79                2.69    39.86          0.06       7710.50   \n",
              "std           1.29                1.26    13.49          0.24       4451.51   \n",
              "min           1.00                1.00     0.00          0.00          1.00   \n",
              "25%           2.00                2.00    31.00          0.00       3855.75   \n",
              "50%           3.00                3.00    38.00          0.00       7710.50   \n",
              "75%           4.00                4.00    48.00          0.00      11565.25   \n",
              "max           5.00                5.00    80.00          1.00      15420.00   \n",
              "\n",
              "       RepNumber  Deductible  DriverRating     Year  \n",
              "count   15420.00    15420.00      15420.00 15420.00  \n",
              "mean        8.48      407.70          2.49  1994.87  \n",
              "std         4.60       43.95          1.12     0.80  \n",
              "min         1.00      300.00          1.00  1994.00  \n",
              "25%         5.00      400.00          1.00  1994.00  \n",
              "50%         8.00      400.00          2.00  1995.00  \n",
              "75%        12.00      400.00          3.00  1996.00  \n",
              "max        16.00      700.00          4.00  1996.00  "
            ]
          },
          "execution_count": 21,
          "metadata": {},
          "output_type": "execute_result"
        }
      ],
      "source": [
        "# Observing the statistical characteristics of the dataset\n",
        "df.describe()"
      ]
    },
    {
      "cell_type": "code",
      "execution_count": 22,
      "metadata": {
        "colab": {
          "base_uri": "https://localhost:8080/"
        },
        "id": "HNeLKOBe-0yQ",
        "outputId": "6f15619d-3273-433e-f33b-31bf6f62dcec"
      },
      "outputs": [
        {
          "name": "stdout",
          "output_type": "stream",
          "text": [
            "<class 'pandas.core.frame.DataFrame'>\n",
            "RangeIndex: 15420 entries, 0 to 15419\n",
            "Data columns (total 33 columns):\n",
            " #   Column                Non-Null Count  Dtype \n",
            "---  ------                --------------  ----- \n",
            " 0   Month                 15420 non-null  object\n",
            " 1   WeekOfMonth           15420 non-null  int64 \n",
            " 2   DayOfWeek             15420 non-null  object\n",
            " 3   Make                  15420 non-null  object\n",
            " 4   AccidentArea          15420 non-null  object\n",
            " 5   DayOfWeekClaimed      15420 non-null  object\n",
            " 6   MonthClaimed          15420 non-null  object\n",
            " 7   WeekOfMonthClaimed    15420 non-null  int64 \n",
            " 8   Sex                   15420 non-null  object\n",
            " 9   MaritalStatus         15420 non-null  object\n",
            " 10  Age                   15420 non-null  int64 \n",
            " 11  Fault                 15420 non-null  object\n",
            " 12  PolicyType            15420 non-null  object\n",
            " 13  VehicleCategory       15420 non-null  object\n",
            " 14  VehiclePrice          15420 non-null  object\n",
            " 15  FraudFound_P          15420 non-null  int64 \n",
            " 16  PolicyNumber          15420 non-null  int64 \n",
            " 17  RepNumber             15420 non-null  int64 \n",
            " 18  Deductible            15420 non-null  int64 \n",
            " 19  DriverRating          15420 non-null  int64 \n",
            " 20  Days_Policy_Accident  15420 non-null  object\n",
            " 21  Days_Policy_Claim     15420 non-null  object\n",
            " 22  PastNumberOfClaims    15420 non-null  object\n",
            " 23  AgeOfVehicle          15420 non-null  object\n",
            " 24  AgeOfPolicyHolder     15420 non-null  object\n",
            " 25  PoliceReportFiled     15420 non-null  object\n",
            " 26  WitnessPresent        15420 non-null  object\n",
            " 27  AgentType             15420 non-null  object\n",
            " 28  NumberOfSuppliments   15420 non-null  object\n",
            " 29  AddressChange_Claim   15420 non-null  object\n",
            " 30  NumberOfCars          15420 non-null  object\n",
            " 31  Year                  15420 non-null  int64 \n",
            " 32  BasePolicy            15420 non-null  object\n",
            "dtypes: int64(9), object(24)\n",
            "memory usage: 3.9+ MB\n"
          ]
        }
      ],
      "source": [
        "df.info()"
      ]
    },
    {
      "cell_type": "code",
      "execution_count": 23,
      "metadata": {
        "colab": {
          "base_uri": "https://localhost:8080/",
          "height": 1000
        },
        "id": "BRQf0-zX-8J3",
        "outputId": "d58b9fd2-da9b-4174-989b-7008839fc62d"
      },
      "outputs": [
        {
          "data": {
            "text/plain": [
              "Month                   0\n",
              "WeekOfMonth             0\n",
              "DayOfWeek               0\n",
              "Make                    0\n",
              "AccidentArea            0\n",
              "DayOfWeekClaimed        0\n",
              "MonthClaimed            0\n",
              "WeekOfMonthClaimed      0\n",
              "Sex                     0\n",
              "MaritalStatus           0\n",
              "Age                     0\n",
              "Fault                   0\n",
              "PolicyType              0\n",
              "VehicleCategory         0\n",
              "VehiclePrice            0\n",
              "FraudFound_P            0\n",
              "PolicyNumber            0\n",
              "RepNumber               0\n",
              "Deductible              0\n",
              "DriverRating            0\n",
              "Days_Policy_Accident    0\n",
              "Days_Policy_Claim       0\n",
              "PastNumberOfClaims      0\n",
              "AgeOfVehicle            0\n",
              "AgeOfPolicyHolder       0\n",
              "PoliceReportFiled       0\n",
              "WitnessPresent          0\n",
              "AgentType               0\n",
              "NumberOfSuppliments     0\n",
              "AddressChange_Claim     0\n",
              "NumberOfCars            0\n",
              "Year                    0\n",
              "BasePolicy              0\n",
              "dtype: int64"
            ]
          },
          "execution_count": 23,
          "metadata": {},
          "output_type": "execute_result"
        }
      ],
      "source": [
        "#Check if there are any null values in the dataset\n",
        "df.isnull().sum()"
      ]
    },
    {
      "cell_type": "code",
      "execution_count": 24,
      "metadata": {
        "colab": {
          "base_uri": "https://localhost:8080/"
        },
        "id": "c7JUb_tI_Ac5",
        "outputId": "e8664114-ce52-4426-f9c3-c137bb4a9f4f"
      },
      "outputs": [
        {
          "data": {
            "text/plain": [
              "(15420, 33)"
            ]
          },
          "execution_count": 24,
          "metadata": {},
          "output_type": "execute_result"
        }
      ],
      "source": [
        "# Check for the number of rows and columns in the dataset\n",
        "df.shape"
      ]
    },
    {
      "cell_type": "code",
      "execution_count": 25,
      "metadata": {
        "colab": {
          "base_uri": "https://localhost:8080/"
        },
        "id": "aS25TMhCRWMG",
        "outputId": "991a2fc5-5e8a-4974-8981-6dd01b664fc9"
      },
      "outputs": [
        {
          "data": {
            "text/plain": [
              "array(['Sport - Liability', 'Sport - Collision', 'Sedan - Liability',\n",
              "       'Utility - All Perils', 'Sedan - All Perils', 'Sedan - Collision',\n",
              "       'Utility - Collision', 'Utility - Liability', 'Sport - All Perils'],\n",
              "      dtype=object)"
            ]
          },
          "execution_count": 25,
          "metadata": {},
          "output_type": "execute_result"
        }
      ],
      "source": [
        "df.PolicyType.unique()"
      ]
    },
    {
      "cell_type": "code",
      "execution_count": 26,
      "metadata": {
        "colab": {
          "base_uri": "https://localhost:8080/",
          "height": 1000
        },
        "id": "RtPixYK5Pa8M",
        "outputId": "8a32c026-1e01-42a4-daa2-574bd35e0c2a"
      },
      "outputs": [
        {
          "data": {
            "text/plain": [
              "Month                      12\n",
              "WeekOfMonth                 5\n",
              "DayOfWeek                   7\n",
              "Make                       19\n",
              "AccidentArea                2\n",
              "DayOfWeekClaimed            8\n",
              "MonthClaimed               13\n",
              "WeekOfMonthClaimed          5\n",
              "Sex                         2\n",
              "MaritalStatus               4\n",
              "Age                        66\n",
              "Fault                       2\n",
              "PolicyType                  9\n",
              "VehicleCategory             3\n",
              "VehiclePrice                6\n",
              "FraudFound_P                2\n",
              "PolicyNumber            15420\n",
              "RepNumber                  16\n",
              "Deductible                  4\n",
              "DriverRating                4\n",
              "Days_Policy_Accident        5\n",
              "Days_Policy_Claim           4\n",
              "PastNumberOfClaims          4\n",
              "AgeOfVehicle                8\n",
              "AgeOfPolicyHolder           9\n",
              "PoliceReportFiled           2\n",
              "WitnessPresent              2\n",
              "AgentType                   2\n",
              "NumberOfSuppliments         4\n",
              "AddressChange_Claim         5\n",
              "NumberOfCars                5\n",
              "Year                        3\n",
              "BasePolicy                  3\n",
              "dtype: int64"
            ]
          },
          "execution_count": 26,
          "metadata": {},
          "output_type": "execute_result"
        }
      ],
      "source": [
        "df.nunique()"
      ]
    },
    {
      "cell_type": "markdown",
      "metadata": {
        "id": "YgaWniYe_FOA"
      },
      "source": [
        "There are no null values , so we will now check for duplicate entries, data types and data format, and whether certain data columns are relevant and repetitive."
      ]
    },
    {
      "cell_type": "markdown",
      "metadata": {
        "id": "Fsh6_Nc__LD7"
      },
      "source": [
        "### 3. Initial data cleaning and wrangling"
      ]
    },
    {
      "cell_type": "markdown",
      "metadata": {
        "id": "SWgd2Xwx_bs6"
      },
      "source": [
        "#### (a) Detecting and removing duplicates"
      ]
    },
    {
      "cell_type": "code",
      "execution_count": 27,
      "metadata": {
        "colab": {
          "base_uri": "https://localhost:8080/",
          "height": 98
        },
        "id": "YP5W65-1_Yiu",
        "outputId": "98cf8eb3-8d36-455f-cf46-467422274e3b"
      },
      "outputs": [
        {
          "data": {
            "text/html": [
              "<div>\n",
              "<style scoped>\n",
              "    .dataframe tbody tr th:only-of-type {\n",
              "        vertical-align: middle;\n",
              "    }\n",
              "\n",
              "    .dataframe tbody tr th {\n",
              "        vertical-align: top;\n",
              "    }\n",
              "\n",
              "    .dataframe thead th {\n",
              "        text-align: right;\n",
              "    }\n",
              "</style>\n",
              "<table border=\"1\" class=\"dataframe\">\n",
              "  <thead>\n",
              "    <tr style=\"text-align: right;\">\n",
              "      <th></th>\n",
              "      <th>Month</th>\n",
              "      <th>WeekOfMonth</th>\n",
              "      <th>DayOfWeek</th>\n",
              "      <th>Make</th>\n",
              "      <th>AccidentArea</th>\n",
              "      <th>DayOfWeekClaimed</th>\n",
              "      <th>MonthClaimed</th>\n",
              "      <th>WeekOfMonthClaimed</th>\n",
              "      <th>Sex</th>\n",
              "      <th>MaritalStatus</th>\n",
              "      <th>...</th>\n",
              "      <th>AgeOfVehicle</th>\n",
              "      <th>AgeOfPolicyHolder</th>\n",
              "      <th>PoliceReportFiled</th>\n",
              "      <th>WitnessPresent</th>\n",
              "      <th>AgentType</th>\n",
              "      <th>NumberOfSuppliments</th>\n",
              "      <th>AddressChange_Claim</th>\n",
              "      <th>NumberOfCars</th>\n",
              "      <th>Year</th>\n",
              "      <th>BasePolicy</th>\n",
              "    </tr>\n",
              "  </thead>\n",
              "  <tbody>\n",
              "  </tbody>\n",
              "</table>\n",
              "<p>0 rows × 33 columns</p>\n",
              "</div>"
            ],
            "text/plain": [
              "Empty DataFrame\n",
              "Columns: [Month, WeekOfMonth, DayOfWeek, Make, AccidentArea, DayOfWeekClaimed, MonthClaimed, WeekOfMonthClaimed, Sex, MaritalStatus, Age, Fault, PolicyType, VehicleCategory, VehiclePrice, FraudFound_P, PolicyNumber, RepNumber, Deductible, DriverRating, Days_Policy_Accident, Days_Policy_Claim, PastNumberOfClaims, AgeOfVehicle, AgeOfPolicyHolder, PoliceReportFiled, WitnessPresent, AgentType, NumberOfSuppliments, AddressChange_Claim, NumberOfCars, Year, BasePolicy]\n",
              "Index: []\n",
              "\n",
              "[0 rows x 33 columns]"
            ]
          },
          "execution_count": 27,
          "metadata": {},
          "output_type": "execute_result"
        }
      ],
      "source": [
        "# To find out if there are duplicated records across all columns\n",
        "df[df.duplicated(keep='first')]"
      ]
    },
    {
      "cell_type": "code",
      "execution_count": 28,
      "metadata": {
        "colab": {
          "base_uri": "https://localhost:8080/",
          "height": 443
        },
        "id": "rtYHiXQt_t2z",
        "outputId": "9004da41-5553-4774-9977-471af469de8a"
      },
      "outputs": [
        {
          "data": {
            "text/html": [
              "<div>\n",
              "<style scoped>\n",
              "    .dataframe tbody tr th:only-of-type {\n",
              "        vertical-align: middle;\n",
              "    }\n",
              "\n",
              "    .dataframe tbody tr th {\n",
              "        vertical-align: top;\n",
              "    }\n",
              "\n",
              "    .dataframe thead th {\n",
              "        text-align: right;\n",
              "    }\n",
              "</style>\n",
              "<table border=\"1\" class=\"dataframe\">\n",
              "  <thead>\n",
              "    <tr style=\"text-align: right;\">\n",
              "      <th></th>\n",
              "      <th>Month</th>\n",
              "      <th>WeekOfMonth</th>\n",
              "      <th>DayOfWeek</th>\n",
              "      <th>Make</th>\n",
              "      <th>AccidentArea</th>\n",
              "      <th>DayOfWeekClaimed</th>\n",
              "      <th>MonthClaimed</th>\n",
              "      <th>WeekOfMonthClaimed</th>\n",
              "      <th>Sex</th>\n",
              "      <th>MaritalStatus</th>\n",
              "      <th>...</th>\n",
              "      <th>AgeOfVehicle</th>\n",
              "      <th>AgeOfPolicyHolder</th>\n",
              "      <th>PoliceReportFiled</th>\n",
              "      <th>WitnessPresent</th>\n",
              "      <th>AgentType</th>\n",
              "      <th>NumberOfSuppliments</th>\n",
              "      <th>AddressChange_Claim</th>\n",
              "      <th>NumberOfCars</th>\n",
              "      <th>Year</th>\n",
              "      <th>BasePolicy</th>\n",
              "    </tr>\n",
              "  </thead>\n",
              "  <tbody>\n",
              "    <tr>\n",
              "      <th>0</th>\n",
              "      <td>Dec</td>\n",
              "      <td>5</td>\n",
              "      <td>Wednesday</td>\n",
              "      <td>Honda</td>\n",
              "      <td>Urban</td>\n",
              "      <td>Tuesday</td>\n",
              "      <td>Jan</td>\n",
              "      <td>1</td>\n",
              "      <td>Female</td>\n",
              "      <td>Single</td>\n",
              "      <td>...</td>\n",
              "      <td>3 years</td>\n",
              "      <td>26 to 30</td>\n",
              "      <td>No</td>\n",
              "      <td>No</td>\n",
              "      <td>External</td>\n",
              "      <td>none</td>\n",
              "      <td>1 year</td>\n",
              "      <td>3 to 4</td>\n",
              "      <td>1994</td>\n",
              "      <td>Liability</td>\n",
              "    </tr>\n",
              "    <tr>\n",
              "      <th>1</th>\n",
              "      <td>Jan</td>\n",
              "      <td>3</td>\n",
              "      <td>Wednesday</td>\n",
              "      <td>Honda</td>\n",
              "      <td>Urban</td>\n",
              "      <td>Monday</td>\n",
              "      <td>Jan</td>\n",
              "      <td>4</td>\n",
              "      <td>Male</td>\n",
              "      <td>Single</td>\n",
              "      <td>...</td>\n",
              "      <td>6 years</td>\n",
              "      <td>31 to 35</td>\n",
              "      <td>Yes</td>\n",
              "      <td>No</td>\n",
              "      <td>External</td>\n",
              "      <td>none</td>\n",
              "      <td>no change</td>\n",
              "      <td>1 vehicle</td>\n",
              "      <td>1994</td>\n",
              "      <td>Collision</td>\n",
              "    </tr>\n",
              "    <tr>\n",
              "      <th>2</th>\n",
              "      <td>Oct</td>\n",
              "      <td>5</td>\n",
              "      <td>Friday</td>\n",
              "      <td>Honda</td>\n",
              "      <td>Urban</td>\n",
              "      <td>Thursday</td>\n",
              "      <td>Nov</td>\n",
              "      <td>2</td>\n",
              "      <td>Male</td>\n",
              "      <td>Married</td>\n",
              "      <td>...</td>\n",
              "      <td>7 years</td>\n",
              "      <td>41 to 50</td>\n",
              "      <td>No</td>\n",
              "      <td>No</td>\n",
              "      <td>External</td>\n",
              "      <td>none</td>\n",
              "      <td>no change</td>\n",
              "      <td>1 vehicle</td>\n",
              "      <td>1994</td>\n",
              "      <td>Collision</td>\n",
              "    </tr>\n",
              "    <tr>\n",
              "      <th>3</th>\n",
              "      <td>Jun</td>\n",
              "      <td>2</td>\n",
              "      <td>Saturday</td>\n",
              "      <td>Toyota</td>\n",
              "      <td>Rural</td>\n",
              "      <td>Friday</td>\n",
              "      <td>Jul</td>\n",
              "      <td>1</td>\n",
              "      <td>Male</td>\n",
              "      <td>Married</td>\n",
              "      <td>...</td>\n",
              "      <td>more than 7</td>\n",
              "      <td>51 to 65</td>\n",
              "      <td>Yes</td>\n",
              "      <td>No</td>\n",
              "      <td>External</td>\n",
              "      <td>more than 5</td>\n",
              "      <td>no change</td>\n",
              "      <td>1 vehicle</td>\n",
              "      <td>1994</td>\n",
              "      <td>Liability</td>\n",
              "    </tr>\n",
              "    <tr>\n",
              "      <th>4</th>\n",
              "      <td>Jan</td>\n",
              "      <td>5</td>\n",
              "      <td>Monday</td>\n",
              "      <td>Honda</td>\n",
              "      <td>Urban</td>\n",
              "      <td>Tuesday</td>\n",
              "      <td>Feb</td>\n",
              "      <td>2</td>\n",
              "      <td>Female</td>\n",
              "      <td>Single</td>\n",
              "      <td>...</td>\n",
              "      <td>5 years</td>\n",
              "      <td>31 to 35</td>\n",
              "      <td>No</td>\n",
              "      <td>No</td>\n",
              "      <td>External</td>\n",
              "      <td>none</td>\n",
              "      <td>no change</td>\n",
              "      <td>1 vehicle</td>\n",
              "      <td>1994</td>\n",
              "      <td>Collision</td>\n",
              "    </tr>\n",
              "    <tr>\n",
              "      <th>...</th>\n",
              "      <td>...</td>\n",
              "      <td>...</td>\n",
              "      <td>...</td>\n",
              "      <td>...</td>\n",
              "      <td>...</td>\n",
              "      <td>...</td>\n",
              "      <td>...</td>\n",
              "      <td>...</td>\n",
              "      <td>...</td>\n",
              "      <td>...</td>\n",
              "      <td>...</td>\n",
              "      <td>...</td>\n",
              "      <td>...</td>\n",
              "      <td>...</td>\n",
              "      <td>...</td>\n",
              "      <td>...</td>\n",
              "      <td>...</td>\n",
              "      <td>...</td>\n",
              "      <td>...</td>\n",
              "      <td>...</td>\n",
              "      <td>...</td>\n",
              "    </tr>\n",
              "    <tr>\n",
              "      <th>15415</th>\n",
              "      <td>Nov</td>\n",
              "      <td>4</td>\n",
              "      <td>Friday</td>\n",
              "      <td>Toyota</td>\n",
              "      <td>Urban</td>\n",
              "      <td>Tuesday</td>\n",
              "      <td>Nov</td>\n",
              "      <td>5</td>\n",
              "      <td>Male</td>\n",
              "      <td>Married</td>\n",
              "      <td>...</td>\n",
              "      <td>6 years</td>\n",
              "      <td>31 to 35</td>\n",
              "      <td>No</td>\n",
              "      <td>No</td>\n",
              "      <td>External</td>\n",
              "      <td>none</td>\n",
              "      <td>no change</td>\n",
              "      <td>1 vehicle</td>\n",
              "      <td>1996</td>\n",
              "      <td>Collision</td>\n",
              "    </tr>\n",
              "    <tr>\n",
              "      <th>15416</th>\n",
              "      <td>Nov</td>\n",
              "      <td>5</td>\n",
              "      <td>Thursday</td>\n",
              "      <td>Pontiac</td>\n",
              "      <td>Urban</td>\n",
              "      <td>Friday</td>\n",
              "      <td>Dec</td>\n",
              "      <td>1</td>\n",
              "      <td>Male</td>\n",
              "      <td>Married</td>\n",
              "      <td>...</td>\n",
              "      <td>6 years</td>\n",
              "      <td>31 to 35</td>\n",
              "      <td>No</td>\n",
              "      <td>No</td>\n",
              "      <td>External</td>\n",
              "      <td>more than 5</td>\n",
              "      <td>no change</td>\n",
              "      <td>3 to 4</td>\n",
              "      <td>1996</td>\n",
              "      <td>Liability</td>\n",
              "    </tr>\n",
              "    <tr>\n",
              "      <th>15417</th>\n",
              "      <td>Nov</td>\n",
              "      <td>5</td>\n",
              "      <td>Thursday</td>\n",
              "      <td>Toyota</td>\n",
              "      <td>Rural</td>\n",
              "      <td>Friday</td>\n",
              "      <td>Dec</td>\n",
              "      <td>1</td>\n",
              "      <td>Male</td>\n",
              "      <td>Single</td>\n",
              "      <td>...</td>\n",
              "      <td>5 years</td>\n",
              "      <td>26 to 30</td>\n",
              "      <td>No</td>\n",
              "      <td>No</td>\n",
              "      <td>External</td>\n",
              "      <td>1 to 2</td>\n",
              "      <td>no change</td>\n",
              "      <td>1 vehicle</td>\n",
              "      <td>1996</td>\n",
              "      <td>Collision</td>\n",
              "    </tr>\n",
              "    <tr>\n",
              "      <th>15418</th>\n",
              "      <td>Dec</td>\n",
              "      <td>1</td>\n",
              "      <td>Monday</td>\n",
              "      <td>Toyota</td>\n",
              "      <td>Urban</td>\n",
              "      <td>Thursday</td>\n",
              "      <td>Dec</td>\n",
              "      <td>2</td>\n",
              "      <td>Female</td>\n",
              "      <td>Married</td>\n",
              "      <td>...</td>\n",
              "      <td>2 years</td>\n",
              "      <td>31 to 35</td>\n",
              "      <td>No</td>\n",
              "      <td>No</td>\n",
              "      <td>External</td>\n",
              "      <td>more than 5</td>\n",
              "      <td>no change</td>\n",
              "      <td>1 vehicle</td>\n",
              "      <td>1996</td>\n",
              "      <td>All Perils</td>\n",
              "    </tr>\n",
              "    <tr>\n",
              "      <th>15419</th>\n",
              "      <td>Dec</td>\n",
              "      <td>2</td>\n",
              "      <td>Wednesday</td>\n",
              "      <td>Toyota</td>\n",
              "      <td>Urban</td>\n",
              "      <td>Thursday</td>\n",
              "      <td>Dec</td>\n",
              "      <td>3</td>\n",
              "      <td>Male</td>\n",
              "      <td>Single</td>\n",
              "      <td>...</td>\n",
              "      <td>5 years</td>\n",
              "      <td>26 to 30</td>\n",
              "      <td>No</td>\n",
              "      <td>No</td>\n",
              "      <td>External</td>\n",
              "      <td>1 to 2</td>\n",
              "      <td>no change</td>\n",
              "      <td>1 vehicle</td>\n",
              "      <td>1996</td>\n",
              "      <td>Collision</td>\n",
              "    </tr>\n",
              "  </tbody>\n",
              "</table>\n",
              "<p>15420 rows × 33 columns</p>\n",
              "</div>"
            ],
            "text/plain": [
              "      Month  WeekOfMonth  DayOfWeek     Make AccidentArea DayOfWeekClaimed  \\\n",
              "0       Dec            5  Wednesday    Honda        Urban          Tuesday   \n",
              "1       Jan            3  Wednesday    Honda        Urban           Monday   \n",
              "2       Oct            5     Friday    Honda        Urban         Thursday   \n",
              "3       Jun            2   Saturday   Toyota        Rural           Friday   \n",
              "4       Jan            5     Monday    Honda        Urban          Tuesday   \n",
              "...     ...          ...        ...      ...          ...              ...   \n",
              "15415   Nov            4     Friday   Toyota        Urban          Tuesday   \n",
              "15416   Nov            5   Thursday  Pontiac        Urban           Friday   \n",
              "15417   Nov            5   Thursday   Toyota        Rural           Friday   \n",
              "15418   Dec            1     Monday   Toyota        Urban         Thursday   \n",
              "15419   Dec            2  Wednesday   Toyota        Urban         Thursday   \n",
              "\n",
              "      MonthClaimed  WeekOfMonthClaimed     Sex MaritalStatus  ...  \\\n",
              "0              Jan                   1  Female        Single  ...   \n",
              "1              Jan                   4    Male        Single  ...   \n",
              "2              Nov                   2    Male       Married  ...   \n",
              "3              Jul                   1    Male       Married  ...   \n",
              "4              Feb                   2  Female        Single  ...   \n",
              "...            ...                 ...     ...           ...  ...   \n",
              "15415          Nov                   5    Male       Married  ...   \n",
              "15416          Dec                   1    Male       Married  ...   \n",
              "15417          Dec                   1    Male        Single  ...   \n",
              "15418          Dec                   2  Female       Married  ...   \n",
              "15419          Dec                   3    Male        Single  ...   \n",
              "\n",
              "       AgeOfVehicle AgeOfPolicyHolder PoliceReportFiled WitnessPresent  \\\n",
              "0           3 years          26 to 30                No             No   \n",
              "1           6 years          31 to 35               Yes             No   \n",
              "2           7 years          41 to 50                No             No   \n",
              "3       more than 7          51 to 65               Yes             No   \n",
              "4           5 years          31 to 35                No             No   \n",
              "...             ...               ...               ...            ...   \n",
              "15415       6 years          31 to 35                No             No   \n",
              "15416       6 years          31 to 35                No             No   \n",
              "15417       5 years          26 to 30                No             No   \n",
              "15418       2 years          31 to 35                No             No   \n",
              "15419       5 years          26 to 30                No             No   \n",
              "\n",
              "      AgentType  NumberOfSuppliments  AddressChange_Claim  NumberOfCars  Year  \\\n",
              "0      External                 none               1 year        3 to 4  1994   \n",
              "1      External                 none            no change     1 vehicle  1994   \n",
              "2      External                 none            no change     1 vehicle  1994   \n",
              "3      External          more than 5            no change     1 vehicle  1994   \n",
              "4      External                 none            no change     1 vehicle  1994   \n",
              "...         ...                  ...                  ...           ...   ...   \n",
              "15415  External                 none            no change     1 vehicle  1996   \n",
              "15416  External          more than 5            no change        3 to 4  1996   \n",
              "15417  External               1 to 2            no change     1 vehicle  1996   \n",
              "15418  External          more than 5            no change     1 vehicle  1996   \n",
              "15419  External               1 to 2            no change     1 vehicle  1996   \n",
              "\n",
              "       BasePolicy  \n",
              "0       Liability  \n",
              "1       Collision  \n",
              "2       Collision  \n",
              "3       Liability  \n",
              "4       Collision  \n",
              "...           ...  \n",
              "15415   Collision  \n",
              "15416   Liability  \n",
              "15417   Collision  \n",
              "15418  All Perils  \n",
              "15419   Collision  \n",
              "\n",
              "[15420 rows x 33 columns]"
            ]
          },
          "execution_count": 28,
          "metadata": {},
          "output_type": "execute_result"
        }
      ],
      "source": [
        "df.drop_duplicates ()\n",
        "# Number of rows remain the same at 15420, no duplicates present and dropped"
      ]
    },
    {
      "cell_type": "markdown",
      "metadata": {
        "id": "4KjGlbY6_7Fz"
      },
      "source": [
        "#### (b) Check if columns are repetitive and if the data features are sound and of the right data type"
      ]
    },
    {
      "cell_type": "markdown",
      "metadata": {
        "id": "qBDkYsN8_aNo"
      },
      "source": [
        "We will look at columns of datatype Object and Number separately. A count plot will be generated to look at the number of unique values each column has."
      ]
    },
    {
      "cell_type": "code",
      "execution_count": 29,
      "metadata": {
        "colab": {
          "base_uri": "https://localhost:8080/",
          "height": 550
        },
        "id": "2fWCeg15AQVW",
        "outputId": "a4affd5c-d93b-448e-86bd-97c45b9339fd"
      },
      "outputs": [
        {
          "data": {
            "text/plain": [
              "<Axes: title={'center': 'Unique values per feature'}>"
            ]
          },
          "execution_count": 29,
          "metadata": {},
          "output_type": "execute_result"
        },
        {
          "name": "stderr",
          "output_type": "stream",
          "text": [
            "findfont: Font family ['cmsy10'] not found. Falling back to DejaVu Sans.\n",
            "findfont: Font family ['cmr10'] not found. Falling back to DejaVu Sans.\n",
            "findfont: Font family ['cmtt10'] not found. Falling back to DejaVu Sans.\n",
            "findfont: Font family ['cmmi10'] not found. Falling back to DejaVu Sans.\n",
            "findfont: Font family ['cmb10'] not found. Falling back to DejaVu Sans.\n",
            "findfont: Font family ['cmss10'] not found. Falling back to DejaVu Sans.\n",
            "findfont: Font family ['cmex10'] not found. Falling back to DejaVu Sans.\n"
          ]
        }
      ],
      "source": [
        "# Find out the number of unique values of the categorical features\n",
        "unique_values_cat = df.select_dtypes(\n",
        "  include= \"object\").nunique().sort_values()\n",
        "\n",
        "# Find out the number of unique values of the numerical features\n",
        "unique_values_con = df.select_dtypes(\n",
        "  include= \"number\").nunique().sort_values()\n",
        "\n",
        "# Plot a countplot of the unique values per numerical feature\n",
        "unique_values_con.plot.bar(logy=True, figsize=(10, 4),\n",
        "                       title=\"Unique values per feature\", color= 'orange')"
      ]
    },
    {
      "cell_type": "code",
      "execution_count": 30,
      "metadata": {
        "colab": {
          "base_uri": "https://localhost:8080/",
          "height": 554
        },
        "id": "cmIj5GwxAaLw",
        "outputId": "5a9959e0-cf4c-4456-9c28-a747ec7b742a"
      },
      "outputs": [
        {
          "data": {
            "text/plain": [
              "<Axes: title={'center': 'Unique values per feature'}>"
            ]
          },
          "execution_count": 30,
          "metadata": {},
          "output_type": "execute_result"
        }
      ],
      "source": [
        "# Plot a countplot of the unique values per categorical feature\n",
        "unique_values_cat.plot.bar( figsize=(10, 4),\n",
        "                       title=\"Unique values per feature\", color= 'green')"
      ]
    },
    {
      "cell_type": "markdown",
      "metadata": {
        "id": "NxO5HEuwAnzg"
      },
      "source": [
        "#### (c) Investigate column Age for Age = 0"
      ]
    },
    {
      "cell_type": "code",
      "execution_count": 31,
      "metadata": {
        "colab": {
          "base_uri": "https://localhost:8080/",
          "height": 443
        },
        "id": "v6eatcNzAx2g",
        "outputId": "14385c6b-a0c2-447c-cf5f-f81ab428605c"
      },
      "outputs": [
        {
          "data": {
            "text/html": [
              "<div>\n",
              "<style scoped>\n",
              "    .dataframe tbody tr th:only-of-type {\n",
              "        vertical-align: middle;\n",
              "    }\n",
              "\n",
              "    .dataframe tbody tr th {\n",
              "        vertical-align: top;\n",
              "    }\n",
              "\n",
              "    .dataframe thead th {\n",
              "        text-align: right;\n",
              "    }\n",
              "</style>\n",
              "<table border=\"1\" class=\"dataframe\">\n",
              "  <thead>\n",
              "    <tr style=\"text-align: right;\">\n",
              "      <th></th>\n",
              "      <th>Month</th>\n",
              "      <th>WeekOfMonth</th>\n",
              "      <th>DayOfWeek</th>\n",
              "      <th>Make</th>\n",
              "      <th>AccidentArea</th>\n",
              "      <th>DayOfWeekClaimed</th>\n",
              "      <th>MonthClaimed</th>\n",
              "      <th>WeekOfMonthClaimed</th>\n",
              "      <th>Sex</th>\n",
              "      <th>MaritalStatus</th>\n",
              "      <th>...</th>\n",
              "      <th>AgeOfVehicle</th>\n",
              "      <th>AgeOfPolicyHolder</th>\n",
              "      <th>PoliceReportFiled</th>\n",
              "      <th>WitnessPresent</th>\n",
              "      <th>AgentType</th>\n",
              "      <th>NumberOfSuppliments</th>\n",
              "      <th>AddressChange_Claim</th>\n",
              "      <th>NumberOfCars</th>\n",
              "      <th>Year</th>\n",
              "      <th>BasePolicy</th>\n",
              "    </tr>\n",
              "  </thead>\n",
              "  <tbody>\n",
              "    <tr>\n",
              "      <th>7</th>\n",
              "      <td>Nov</td>\n",
              "      <td>1</td>\n",
              "      <td>Friday</td>\n",
              "      <td>Honda</td>\n",
              "      <td>Urban</td>\n",
              "      <td>Tuesday</td>\n",
              "      <td>Mar</td>\n",
              "      <td>4</td>\n",
              "      <td>Male</td>\n",
              "      <td>Single</td>\n",
              "      <td>...</td>\n",
              "      <td>new</td>\n",
              "      <td>16 to 17</td>\n",
              "      <td>No</td>\n",
              "      <td>No</td>\n",
              "      <td>External</td>\n",
              "      <td>none</td>\n",
              "      <td>no change</td>\n",
              "      <td>1 vehicle</td>\n",
              "      <td>1994</td>\n",
              "      <td>Collision</td>\n",
              "    </tr>\n",
              "    <tr>\n",
              "      <th>13</th>\n",
              "      <td>Jan</td>\n",
              "      <td>5</td>\n",
              "      <td>Friday</td>\n",
              "      <td>Honda</td>\n",
              "      <td>Rural</td>\n",
              "      <td>Wednesday</td>\n",
              "      <td>Feb</td>\n",
              "      <td>1</td>\n",
              "      <td>Male</td>\n",
              "      <td>Single</td>\n",
              "      <td>...</td>\n",
              "      <td>new</td>\n",
              "      <td>16 to 17</td>\n",
              "      <td>No</td>\n",
              "      <td>No</td>\n",
              "      <td>External</td>\n",
              "      <td>none</td>\n",
              "      <td>no change</td>\n",
              "      <td>1 vehicle</td>\n",
              "      <td>1994</td>\n",
              "      <td>Collision</td>\n",
              "    </tr>\n",
              "    <tr>\n",
              "      <th>28</th>\n",
              "      <td>Jul</td>\n",
              "      <td>1</td>\n",
              "      <td>Saturday</td>\n",
              "      <td>Honda</td>\n",
              "      <td>Urban</td>\n",
              "      <td>Tuesday</td>\n",
              "      <td>Sep</td>\n",
              "      <td>4</td>\n",
              "      <td>Male</td>\n",
              "      <td>Single</td>\n",
              "      <td>...</td>\n",
              "      <td>new</td>\n",
              "      <td>16 to 17</td>\n",
              "      <td>No</td>\n",
              "      <td>No</td>\n",
              "      <td>External</td>\n",
              "      <td>none</td>\n",
              "      <td>no change</td>\n",
              "      <td>1 vehicle</td>\n",
              "      <td>1994</td>\n",
              "      <td>All Perils</td>\n",
              "    </tr>\n",
              "    <tr>\n",
              "      <th>31</th>\n",
              "      <td>Mar</td>\n",
              "      <td>1</td>\n",
              "      <td>Sunday</td>\n",
              "      <td>Honda</td>\n",
              "      <td>Urban</td>\n",
              "      <td>Tuesday</td>\n",
              "      <td>Mar</td>\n",
              "      <td>2</td>\n",
              "      <td>Male</td>\n",
              "      <td>Single</td>\n",
              "      <td>...</td>\n",
              "      <td>new</td>\n",
              "      <td>16 to 17</td>\n",
              "      <td>No</td>\n",
              "      <td>No</td>\n",
              "      <td>External</td>\n",
              "      <td>none</td>\n",
              "      <td>no change</td>\n",
              "      <td>1 vehicle</td>\n",
              "      <td>1994</td>\n",
              "      <td>Collision</td>\n",
              "    </tr>\n",
              "    <tr>\n",
              "      <th>58</th>\n",
              "      <td>May</td>\n",
              "      <td>1</td>\n",
              "      <td>Monday</td>\n",
              "      <td>Honda</td>\n",
              "      <td>Rural</td>\n",
              "      <td>Wednesday</td>\n",
              "      <td>May</td>\n",
              "      <td>4</td>\n",
              "      <td>Male</td>\n",
              "      <td>Single</td>\n",
              "      <td>...</td>\n",
              "      <td>new</td>\n",
              "      <td>16 to 17</td>\n",
              "      <td>No</td>\n",
              "      <td>No</td>\n",
              "      <td>External</td>\n",
              "      <td>none</td>\n",
              "      <td>no change</td>\n",
              "      <td>1 vehicle</td>\n",
              "      <td>1994</td>\n",
              "      <td>Liability</td>\n",
              "    </tr>\n",
              "    <tr>\n",
              "      <th>...</th>\n",
              "      <td>...</td>\n",
              "      <td>...</td>\n",
              "      <td>...</td>\n",
              "      <td>...</td>\n",
              "      <td>...</td>\n",
              "      <td>...</td>\n",
              "      <td>...</td>\n",
              "      <td>...</td>\n",
              "      <td>...</td>\n",
              "      <td>...</td>\n",
              "      <td>...</td>\n",
              "      <td>...</td>\n",
              "      <td>...</td>\n",
              "      <td>...</td>\n",
              "      <td>...</td>\n",
              "      <td>...</td>\n",
              "      <td>...</td>\n",
              "      <td>...</td>\n",
              "      <td>...</td>\n",
              "      <td>...</td>\n",
              "      <td>...</td>\n",
              "    </tr>\n",
              "    <tr>\n",
              "      <th>15243</th>\n",
              "      <td>May</td>\n",
              "      <td>2</td>\n",
              "      <td>Tuesday</td>\n",
              "      <td>Honda</td>\n",
              "      <td>Urban</td>\n",
              "      <td>Monday</td>\n",
              "      <td>May</td>\n",
              "      <td>3</td>\n",
              "      <td>Male</td>\n",
              "      <td>Single</td>\n",
              "      <td>...</td>\n",
              "      <td>new</td>\n",
              "      <td>16 to 17</td>\n",
              "      <td>No</td>\n",
              "      <td>No</td>\n",
              "      <td>External</td>\n",
              "      <td>none</td>\n",
              "      <td>no change</td>\n",
              "      <td>1 vehicle</td>\n",
              "      <td>1996</td>\n",
              "      <td>Liability</td>\n",
              "    </tr>\n",
              "    <tr>\n",
              "      <th>15262</th>\n",
              "      <td>Mar</td>\n",
              "      <td>3</td>\n",
              "      <td>Monday</td>\n",
              "      <td>Honda</td>\n",
              "      <td>Urban</td>\n",
              "      <td>Thursday</td>\n",
              "      <td>Mar</td>\n",
              "      <td>3</td>\n",
              "      <td>Male</td>\n",
              "      <td>Single</td>\n",
              "      <td>...</td>\n",
              "      <td>new</td>\n",
              "      <td>16 to 17</td>\n",
              "      <td>No</td>\n",
              "      <td>No</td>\n",
              "      <td>External</td>\n",
              "      <td>none</td>\n",
              "      <td>no change</td>\n",
              "      <td>1 vehicle</td>\n",
              "      <td>1996</td>\n",
              "      <td>Liability</td>\n",
              "    </tr>\n",
              "    <tr>\n",
              "      <th>15274</th>\n",
              "      <td>Apr</td>\n",
              "      <td>3</td>\n",
              "      <td>Monday</td>\n",
              "      <td>Honda</td>\n",
              "      <td>Urban</td>\n",
              "      <td>Tuesday</td>\n",
              "      <td>May</td>\n",
              "      <td>1</td>\n",
              "      <td>Male</td>\n",
              "      <td>Single</td>\n",
              "      <td>...</td>\n",
              "      <td>new</td>\n",
              "      <td>16 to 17</td>\n",
              "      <td>No</td>\n",
              "      <td>No</td>\n",
              "      <td>External</td>\n",
              "      <td>none</td>\n",
              "      <td>no change</td>\n",
              "      <td>1 vehicle</td>\n",
              "      <td>1996</td>\n",
              "      <td>Collision</td>\n",
              "    </tr>\n",
              "    <tr>\n",
              "      <th>15379</th>\n",
              "      <td>Jan</td>\n",
              "      <td>2</td>\n",
              "      <td>Tuesday</td>\n",
              "      <td>Honda</td>\n",
              "      <td>Urban</td>\n",
              "      <td>Thursday</td>\n",
              "      <td>Jan</td>\n",
              "      <td>2</td>\n",
              "      <td>Male</td>\n",
              "      <td>Single</td>\n",
              "      <td>...</td>\n",
              "      <td>new</td>\n",
              "      <td>16 to 17</td>\n",
              "      <td>No</td>\n",
              "      <td>No</td>\n",
              "      <td>External</td>\n",
              "      <td>none</td>\n",
              "      <td>1 year</td>\n",
              "      <td>1 vehicle</td>\n",
              "      <td>1996</td>\n",
              "      <td>All Perils</td>\n",
              "    </tr>\n",
              "    <tr>\n",
              "      <th>15392</th>\n",
              "      <td>Jan</td>\n",
              "      <td>1</td>\n",
              "      <td>Thursday</td>\n",
              "      <td>Honda</td>\n",
              "      <td>Urban</td>\n",
              "      <td>Thursday</td>\n",
              "      <td>Jan</td>\n",
              "      <td>2</td>\n",
              "      <td>Male</td>\n",
              "      <td>Single</td>\n",
              "      <td>...</td>\n",
              "      <td>new</td>\n",
              "      <td>16 to 17</td>\n",
              "      <td>No</td>\n",
              "      <td>No</td>\n",
              "      <td>External</td>\n",
              "      <td>none</td>\n",
              "      <td>no change</td>\n",
              "      <td>1 vehicle</td>\n",
              "      <td>1996</td>\n",
              "      <td>All Perils</td>\n",
              "    </tr>\n",
              "  </tbody>\n",
              "</table>\n",
              "<p>320 rows × 33 columns</p>\n",
              "</div>"
            ],
            "text/plain": [
              "      Month  WeekOfMonth DayOfWeek   Make AccidentArea DayOfWeekClaimed  \\\n",
              "7       Nov            1    Friday  Honda        Urban          Tuesday   \n",
              "13      Jan            5    Friday  Honda        Rural        Wednesday   \n",
              "28      Jul            1  Saturday  Honda        Urban          Tuesday   \n",
              "31      Mar            1    Sunday  Honda        Urban          Tuesday   \n",
              "58      May            1    Monday  Honda        Rural        Wednesday   \n",
              "...     ...          ...       ...    ...          ...              ...   \n",
              "15243   May            2   Tuesday  Honda        Urban           Monday   \n",
              "15262   Mar            3    Monday  Honda        Urban         Thursday   \n",
              "15274   Apr            3    Monday  Honda        Urban          Tuesday   \n",
              "15379   Jan            2   Tuesday  Honda        Urban         Thursday   \n",
              "15392   Jan            1  Thursday  Honda        Urban         Thursday   \n",
              "\n",
              "      MonthClaimed  WeekOfMonthClaimed   Sex MaritalStatus  ...  AgeOfVehicle  \\\n",
              "7              Mar                   4  Male        Single  ...           new   \n",
              "13             Feb                   1  Male        Single  ...           new   \n",
              "28             Sep                   4  Male        Single  ...           new   \n",
              "31             Mar                   2  Male        Single  ...           new   \n",
              "58             May                   4  Male        Single  ...           new   \n",
              "...            ...                 ...   ...           ...  ...           ...   \n",
              "15243          May                   3  Male        Single  ...           new   \n",
              "15262          Mar                   3  Male        Single  ...           new   \n",
              "15274          May                   1  Male        Single  ...           new   \n",
              "15379          Jan                   2  Male        Single  ...           new   \n",
              "15392          Jan                   2  Male        Single  ...           new   \n",
              "\n",
              "      AgeOfPolicyHolder PoliceReportFiled WitnessPresent AgentType  \\\n",
              "7              16 to 17                No             No  External   \n",
              "13             16 to 17                No             No  External   \n",
              "28             16 to 17                No             No  External   \n",
              "31             16 to 17                No             No  External   \n",
              "58             16 to 17                No             No  External   \n",
              "...                 ...               ...            ...       ...   \n",
              "15243          16 to 17                No             No  External   \n",
              "15262          16 to 17                No             No  External   \n",
              "15274          16 to 17                No             No  External   \n",
              "15379          16 to 17                No             No  External   \n",
              "15392          16 to 17                No             No  External   \n",
              "\n",
              "       NumberOfSuppliments  AddressChange_Claim  NumberOfCars  Year  \\\n",
              "7                     none            no change     1 vehicle  1994   \n",
              "13                    none            no change     1 vehicle  1994   \n",
              "28                    none            no change     1 vehicle  1994   \n",
              "31                    none            no change     1 vehicle  1994   \n",
              "58                    none            no change     1 vehicle  1994   \n",
              "...                    ...                  ...           ...   ...   \n",
              "15243                 none            no change     1 vehicle  1996   \n",
              "15262                 none            no change     1 vehicle  1996   \n",
              "15274                 none            no change     1 vehicle  1996   \n",
              "15379                 none               1 year     1 vehicle  1996   \n",
              "15392                 none            no change     1 vehicle  1996   \n",
              "\n",
              "       BasePolicy  \n",
              "7       Collision  \n",
              "13      Collision  \n",
              "28     All Perils  \n",
              "31      Collision  \n",
              "58      Liability  \n",
              "...           ...  \n",
              "15243   Liability  \n",
              "15262   Liability  \n",
              "15274   Collision  \n",
              "15379  All Perils  \n",
              "15392  All Perils  \n",
              "\n",
              "[320 rows x 33 columns]"
            ]
          },
          "execution_count": 31,
          "metadata": {},
          "output_type": "execute_result"
        }
      ],
      "source": [
        "# There a total of 320 rows with age = 0\n",
        "df[df['Age'] ==0]"
      ]
    },
    {
      "cell_type": "code",
      "execution_count": 32,
      "metadata": {
        "colab": {
          "base_uri": "https://localhost:8080/"
        },
        "id": "YCHSRjWDAuRh",
        "outputId": "e404dbb9-6770-436e-9331-be47b3d30cca"
      },
      "outputs": [
        {
          "data": {
            "text/plain": [
              "array([21, 34, 47, 65, 27, 20, 36,  0, 30, 42, 71, 52, 28, 61, 38, 41, 32,\n",
              "       40, 63, 31, 45, 60, 39, 55, 35, 44, 72, 29, 37, 59, 49, 50, 26, 48,\n",
              "       64, 33, 74, 23, 25, 56, 16, 68, 18, 51, 22, 53, 46, 43, 57, 54, 69,\n",
              "       67, 19, 78, 77, 75, 80, 58, 73, 24, 76, 62, 79, 70, 17, 66],\n",
              "      dtype=int64)"
            ]
          },
          "execution_count": 32,
          "metadata": {},
          "output_type": "execute_result"
        }
      ],
      "source": [
        "# Dive in deeper into age to look at the unique categories , realised that there is age 0 - which is illogical\n",
        "df['Age'].unique()"
      ]
    },
    {
      "cell_type": "code",
      "execution_count": 33,
      "metadata": {
        "colab": {
          "base_uri": "https://localhost:8080/"
        },
        "id": "HJb2-6DQA7re",
        "outputId": "f7a2df1e-ee80-42ee-e2be-8a6c94129e4a"
      },
      "outputs": [
        {
          "data": {
            "text/plain": [
              "array(['16 to 17'], dtype=object)"
            ]
          },
          "execution_count": 33,
          "metadata": {},
          "output_type": "execute_result"
        }
      ],
      "source": [
        "# Find out what is the AgeOfPolicyHolder for those with Age = 0\n",
        "df.loc[df ['Age']== 0, 'AgeOfPolicyHolder'].unique()"
      ]
    },
    {
      "cell_type": "markdown",
      "metadata": {
        "id": "Fpbg7AOaBEQA"
      },
      "source": [
        "All rows with Age = 0 has AgeofPolicyHolder = '16 to 17'. Therefore, we can choose to replace the 0 values in Age with the mean of the range '16 to 17'."
      ]
    },
    {
      "cell_type": "code",
      "execution_count": 34,
      "metadata": {
        "id": "XXJnQDbeBRJ8"
      },
      "outputs": [],
      "source": [
        "# Find the average of the Age column\n",
        "avr = round(df['Age'].mean(), 0)\n",
        "# Replace all 0 values with the average age\n",
        "df.loc[df['Age']==0, 'Age'] = avr"
      ]
    },
    {
      "cell_type": "markdown",
      "metadata": {
        "id": "PQAeABElBWVL"
      },
      "source": [
        "#### (d) Clean up columns - DayOfWeekClaimed and MonthClaimed"
      ]
    },
    {
      "cell_type": "code",
      "execution_count": 35,
      "metadata": {
        "colab": {
          "base_uri": "https://localhost:8080/",
          "height": 130
        },
        "id": "qPTWWpLWBa-q",
        "outputId": "de08dc78-2df7-4a82-d7ac-dc675ee35156"
      },
      "outputs": [
        {
          "data": {
            "text/html": [
              "<div>\n",
              "<style scoped>\n",
              "    .dataframe tbody tr th:only-of-type {\n",
              "        vertical-align: middle;\n",
              "    }\n",
              "\n",
              "    .dataframe tbody tr th {\n",
              "        vertical-align: top;\n",
              "    }\n",
              "\n",
              "    .dataframe thead th {\n",
              "        text-align: right;\n",
              "    }\n",
              "</style>\n",
              "<table border=\"1\" class=\"dataframe\">\n",
              "  <thead>\n",
              "    <tr style=\"text-align: right;\">\n",
              "      <th></th>\n",
              "      <th>Month</th>\n",
              "      <th>WeekOfMonth</th>\n",
              "      <th>DayOfWeek</th>\n",
              "      <th>Make</th>\n",
              "      <th>AccidentArea</th>\n",
              "      <th>DayOfWeekClaimed</th>\n",
              "      <th>MonthClaimed</th>\n",
              "      <th>WeekOfMonthClaimed</th>\n",
              "      <th>Sex</th>\n",
              "      <th>MaritalStatus</th>\n",
              "      <th>...</th>\n",
              "      <th>AgeOfVehicle</th>\n",
              "      <th>AgeOfPolicyHolder</th>\n",
              "      <th>PoliceReportFiled</th>\n",
              "      <th>WitnessPresent</th>\n",
              "      <th>AgentType</th>\n",
              "      <th>NumberOfSuppliments</th>\n",
              "      <th>AddressChange_Claim</th>\n",
              "      <th>NumberOfCars</th>\n",
              "      <th>Year</th>\n",
              "      <th>BasePolicy</th>\n",
              "    </tr>\n",
              "  </thead>\n",
              "  <tbody>\n",
              "    <tr>\n",
              "      <th>1516</th>\n",
              "      <td>Jul</td>\n",
              "      <td>2</td>\n",
              "      <td>Monday</td>\n",
              "      <td>Honda</td>\n",
              "      <td>Rural</td>\n",
              "      <td>0</td>\n",
              "      <td>0</td>\n",
              "      <td>1</td>\n",
              "      <td>Male</td>\n",
              "      <td>Single</td>\n",
              "      <td>...</td>\n",
              "      <td>new</td>\n",
              "      <td>16 to 17</td>\n",
              "      <td>No</td>\n",
              "      <td>No</td>\n",
              "      <td>External</td>\n",
              "      <td>none</td>\n",
              "      <td>no change</td>\n",
              "      <td>1 vehicle</td>\n",
              "      <td>1994</td>\n",
              "      <td>All Perils</td>\n",
              "    </tr>\n",
              "  </tbody>\n",
              "</table>\n",
              "<p>1 rows × 33 columns</p>\n",
              "</div>"
            ],
            "text/plain": [
              "     Month  WeekOfMonth DayOfWeek   Make AccidentArea DayOfWeekClaimed  \\\n",
              "1516   Jul            2    Monday  Honda        Rural                0   \n",
              "\n",
              "     MonthClaimed  WeekOfMonthClaimed   Sex MaritalStatus  ...  AgeOfVehicle  \\\n",
              "1516            0                   1  Male        Single  ...           new   \n",
              "\n",
              "     AgeOfPolicyHolder PoliceReportFiled WitnessPresent AgentType  \\\n",
              "1516          16 to 17                No             No  External   \n",
              "\n",
              "      NumberOfSuppliments  AddressChange_Claim  NumberOfCars  Year  BasePolicy  \n",
              "1516                 none            no change     1 vehicle  1994  All Perils  \n",
              "\n",
              "[1 rows x 33 columns]"
            ]
          },
          "execution_count": 35,
          "metadata": {},
          "output_type": "execute_result"
        }
      ],
      "source": [
        "df.loc[df['MonthClaimed']== '0']"
      ]
    },
    {
      "cell_type": "code",
      "execution_count": 36,
      "metadata": {
        "colab": {
          "base_uri": "https://localhost:8080/",
          "height": 130
        },
        "id": "PfZ1iabLBfWm",
        "outputId": "9fbd1fff-46d7-4c2f-be1f-322841572654"
      },
      "outputs": [
        {
          "data": {
            "text/html": [
              "<div>\n",
              "<style scoped>\n",
              "    .dataframe tbody tr th:only-of-type {\n",
              "        vertical-align: middle;\n",
              "    }\n",
              "\n",
              "    .dataframe tbody tr th {\n",
              "        vertical-align: top;\n",
              "    }\n",
              "\n",
              "    .dataframe thead th {\n",
              "        text-align: right;\n",
              "    }\n",
              "</style>\n",
              "<table border=\"1\" class=\"dataframe\">\n",
              "  <thead>\n",
              "    <tr style=\"text-align: right;\">\n",
              "      <th></th>\n",
              "      <th>Month</th>\n",
              "      <th>WeekOfMonth</th>\n",
              "      <th>DayOfWeek</th>\n",
              "      <th>Make</th>\n",
              "      <th>AccidentArea</th>\n",
              "      <th>DayOfWeekClaimed</th>\n",
              "      <th>MonthClaimed</th>\n",
              "      <th>WeekOfMonthClaimed</th>\n",
              "      <th>Sex</th>\n",
              "      <th>MaritalStatus</th>\n",
              "      <th>...</th>\n",
              "      <th>AgeOfVehicle</th>\n",
              "      <th>AgeOfPolicyHolder</th>\n",
              "      <th>PoliceReportFiled</th>\n",
              "      <th>WitnessPresent</th>\n",
              "      <th>AgentType</th>\n",
              "      <th>NumberOfSuppliments</th>\n",
              "      <th>AddressChange_Claim</th>\n",
              "      <th>NumberOfCars</th>\n",
              "      <th>Year</th>\n",
              "      <th>BasePolicy</th>\n",
              "    </tr>\n",
              "  </thead>\n",
              "  <tbody>\n",
              "    <tr>\n",
              "      <th>1516</th>\n",
              "      <td>Jul</td>\n",
              "      <td>2</td>\n",
              "      <td>Monday</td>\n",
              "      <td>Honda</td>\n",
              "      <td>Rural</td>\n",
              "      <td>0</td>\n",
              "      <td>0</td>\n",
              "      <td>1</td>\n",
              "      <td>Male</td>\n",
              "      <td>Single</td>\n",
              "      <td>...</td>\n",
              "      <td>new</td>\n",
              "      <td>16 to 17</td>\n",
              "      <td>No</td>\n",
              "      <td>No</td>\n",
              "      <td>External</td>\n",
              "      <td>none</td>\n",
              "      <td>no change</td>\n",
              "      <td>1 vehicle</td>\n",
              "      <td>1994</td>\n",
              "      <td>All Perils</td>\n",
              "    </tr>\n",
              "  </tbody>\n",
              "</table>\n",
              "<p>1 rows × 33 columns</p>\n",
              "</div>"
            ],
            "text/plain": [
              "     Month  WeekOfMonth DayOfWeek   Make AccidentArea DayOfWeekClaimed  \\\n",
              "1516   Jul            2    Monday  Honda        Rural                0   \n",
              "\n",
              "     MonthClaimed  WeekOfMonthClaimed   Sex MaritalStatus  ...  AgeOfVehicle  \\\n",
              "1516            0                   1  Male        Single  ...           new   \n",
              "\n",
              "     AgeOfPolicyHolder PoliceReportFiled WitnessPresent AgentType  \\\n",
              "1516          16 to 17                No             No  External   \n",
              "\n",
              "      NumberOfSuppliments  AddressChange_Claim  NumberOfCars  Year  BasePolicy  \n",
              "1516                 none            no change     1 vehicle  1994  All Perils  \n",
              "\n",
              "[1 rows x 33 columns]"
            ]
          },
          "execution_count": 36,
          "metadata": {},
          "output_type": "execute_result"
        }
      ],
      "source": [
        "df.loc[df['DayOfWeekClaimed']== '0']\n"
      ]
    },
    {
      "cell_type": "markdown",
      "metadata": {
        "id": "Q0EV4P_SB4HK"
      },
      "source": [
        "Row 1516 has 0 values for both 'MonthClaimed' and 'DayOfWeekClaimed'.Therefore, we proceed to drop this row from the dataset. Before we drop the row, let us check if this row is a fraud case or not."
      ]
    },
    {
      "cell_type": "code",
      "execution_count": 37,
      "metadata": {
        "colab": {
          "base_uri": "https://localhost:8080/"
        },
        "id": "B5KTrZgrB3wu",
        "outputId": "6bcff4cc-3c4a-4468-efbf-fd94c137c47f"
      },
      "outputs": [
        {
          "data": {
            "text/plain": [
              "0"
            ]
          },
          "execution_count": 37,
          "metadata": {},
          "output_type": "execute_result"
        }
      ],
      "source": [
        "df.loc[1516, 'FraudFound_P']"
      ]
    },
    {
      "cell_type": "markdown",
      "metadata": {
        "id": "s0-8oTQfCHaO"
      },
      "source": [
        "Row 1516 is not a fraud case , which may be less valuable to us as it falls under the majority of the labels. Hence, we will drop row 1516."
      ]
    },
    {
      "cell_type": "code",
      "execution_count": 38,
      "metadata": {
        "id": "ulqq49_4B_-X"
      },
      "outputs": [],
      "source": [
        "# Drop the column 1516\n",
        "df.drop(1516, axis = 0, inplace = True)\n",
        "\n",
        "# Reset index of the dataset after dropping row\n",
        "df.reset_index(drop= True, inplace = True)"
      ]
    },
    {
      "cell_type": "markdown",
      "metadata": {
        "id": "PX-V2XI8CP_8"
      },
      "source": [
        "#### (e) Remove unncessary column - PolicyNumber"
      ]
    },
    {
      "cell_type": "code",
      "execution_count": 39,
      "metadata": {
        "colab": {
          "base_uri": "https://localhost:8080/",
          "height": 98
        },
        "id": "JNg4EgqeCZ3O",
        "outputId": "9c94c33e-518f-4bf6-9612-35f9a1705b12"
      },
      "outputs": [
        {
          "data": {
            "text/html": [
              "<div>\n",
              "<style scoped>\n",
              "    .dataframe tbody tr th:only-of-type {\n",
              "        vertical-align: middle;\n",
              "    }\n",
              "\n",
              "    .dataframe tbody tr th {\n",
              "        vertical-align: top;\n",
              "    }\n",
              "\n",
              "    .dataframe thead th {\n",
              "        text-align: right;\n",
              "    }\n",
              "</style>\n",
              "<table border=\"1\" class=\"dataframe\">\n",
              "  <thead>\n",
              "    <tr style=\"text-align: right;\">\n",
              "      <th></th>\n",
              "      <th>Month</th>\n",
              "      <th>WeekOfMonth</th>\n",
              "      <th>DayOfWeek</th>\n",
              "      <th>Make</th>\n",
              "      <th>AccidentArea</th>\n",
              "      <th>DayOfWeekClaimed</th>\n",
              "      <th>MonthClaimed</th>\n",
              "      <th>WeekOfMonthClaimed</th>\n",
              "      <th>Sex</th>\n",
              "      <th>MaritalStatus</th>\n",
              "      <th>...</th>\n",
              "      <th>AgeOfVehicle</th>\n",
              "      <th>AgeOfPolicyHolder</th>\n",
              "      <th>PoliceReportFiled</th>\n",
              "      <th>WitnessPresent</th>\n",
              "      <th>AgentType</th>\n",
              "      <th>NumberOfSuppliments</th>\n",
              "      <th>AddressChange_Claim</th>\n",
              "      <th>NumberOfCars</th>\n",
              "      <th>Year</th>\n",
              "      <th>BasePolicy</th>\n",
              "    </tr>\n",
              "  </thead>\n",
              "  <tbody>\n",
              "  </tbody>\n",
              "</table>\n",
              "<p>0 rows × 33 columns</p>\n",
              "</div>"
            ],
            "text/plain": [
              "Empty DataFrame\n",
              "Columns: [Month, WeekOfMonth, DayOfWeek, Make, AccidentArea, DayOfWeekClaimed, MonthClaimed, WeekOfMonthClaimed, Sex, MaritalStatus, Age, Fault, PolicyType, VehicleCategory, VehiclePrice, FraudFound_P, PolicyNumber, RepNumber, Deductible, DriverRating, Days_Policy_Accident, Days_Policy_Claim, PastNumberOfClaims, AgeOfVehicle, AgeOfPolicyHolder, PoliceReportFiled, WitnessPresent, AgentType, NumberOfSuppliments, AddressChange_Claim, NumberOfCars, Year, BasePolicy]\n",
              "Index: []\n",
              "\n",
              "[0 rows x 33 columns]"
            ]
          },
          "execution_count": 39,
          "metadata": {},
          "output_type": "execute_result"
        }
      ],
      "source": [
        "# Check for duplication in policy number\n",
        "df[df.duplicated(['PolicyNumber'])]"
      ]
    },
    {
      "cell_type": "code",
      "execution_count": 40,
      "metadata": {
        "id": "EvjO4rL2Cg72"
      },
      "outputs": [],
      "source": [
        "# No duplicates - unique identifier , which is not nessasery for analyis --> drop the column\n",
        "df.drop('PolicyNumber', axis = 1, inplace = True)"
      ]
    },
    {
      "cell_type": "code",
      "execution_count": 41,
      "metadata": {
        "colab": {
          "base_uri": "https://localhost:8080/",
          "height": 98
        },
        "id": "O5D-QeWeCkeB",
        "outputId": "0c7ce6c5-4f2a-4700-9b1a-59b271f09f8d"
      },
      "outputs": [
        {
          "data": {
            "text/html": [
              "<div>\n",
              "<style scoped>\n",
              "    .dataframe tbody tr th:only-of-type {\n",
              "        vertical-align: middle;\n",
              "    }\n",
              "\n",
              "    .dataframe tbody tr th {\n",
              "        vertical-align: top;\n",
              "    }\n",
              "\n",
              "    .dataframe thead th {\n",
              "        text-align: right;\n",
              "    }\n",
              "</style>\n",
              "<table border=\"1\" class=\"dataframe\">\n",
              "  <thead>\n",
              "    <tr style=\"text-align: right;\">\n",
              "      <th></th>\n",
              "      <th>Month</th>\n",
              "      <th>WeekOfMonth</th>\n",
              "      <th>DayOfWeek</th>\n",
              "      <th>Make</th>\n",
              "      <th>AccidentArea</th>\n",
              "      <th>DayOfWeekClaimed</th>\n",
              "      <th>MonthClaimed</th>\n",
              "      <th>WeekOfMonthClaimed</th>\n",
              "      <th>Sex</th>\n",
              "      <th>MaritalStatus</th>\n",
              "      <th>...</th>\n",
              "      <th>AgeOfVehicle</th>\n",
              "      <th>AgeOfPolicyHolder</th>\n",
              "      <th>PoliceReportFiled</th>\n",
              "      <th>WitnessPresent</th>\n",
              "      <th>AgentType</th>\n",
              "      <th>NumberOfSuppliments</th>\n",
              "      <th>AddressChange_Claim</th>\n",
              "      <th>NumberOfCars</th>\n",
              "      <th>Year</th>\n",
              "      <th>BasePolicy</th>\n",
              "    </tr>\n",
              "  </thead>\n",
              "  <tbody>\n",
              "  </tbody>\n",
              "</table>\n",
              "<p>0 rows × 32 columns</p>\n",
              "</div>"
            ],
            "text/plain": [
              "Empty DataFrame\n",
              "Columns: [Month, WeekOfMonth, DayOfWeek, Make, AccidentArea, DayOfWeekClaimed, MonthClaimed, WeekOfMonthClaimed, Sex, MaritalStatus, Age, Fault, PolicyType, VehicleCategory, VehiclePrice, FraudFound_P, RepNumber, Deductible, DriverRating, Days_Policy_Accident, Days_Policy_Claim, PastNumberOfClaims, AgeOfVehicle, AgeOfPolicyHolder, PoliceReportFiled, WitnessPresent, AgentType, NumberOfSuppliments, AddressChange_Claim, NumberOfCars, Year, BasePolicy]\n",
              "Index: []\n",
              "\n",
              "[0 rows x 32 columns]"
            ]
          },
          "execution_count": 41,
          "metadata": {},
          "output_type": "execute_result"
        }
      ],
      "source": [
        "#Check if there are still duplicate records after policy number is removed - if none, it means that every entry is a unique claim\n",
        "df[df.duplicated()]"
      ]
    },
    {
      "cell_type": "markdown",
      "metadata": {
        "id": "01cRcmgZCoT-"
      },
      "source": [
        "### 4. Exploratory Data Analysis"
      ]
    },
    {
      "cell_type": "markdown",
      "metadata": {
        "id": "eLBfOInEFx4r"
      },
      "source": [
        "### Data Understanding/EDA"
      ]
    },
    {
      "cell_type": "code",
      "execution_count": 42,
      "metadata": {
        "colab": {
          "base_uri": "https://localhost:8080/"
        },
        "id": "y0pksHOTC9Jf",
        "outputId": "9cb97118-554a-4711-d9c6-3fa827148784"
      },
      "outputs": [
        {
          "data": {
            "text/plain": [
              "Index(['Month', 'WeekOfMonth', 'DayOfWeek', 'Make', 'AccidentArea',\n",
              "       'DayOfWeekClaimed', 'MonthClaimed', 'WeekOfMonthClaimed', 'Sex',\n",
              "       'MaritalStatus', 'Age', 'Fault', 'PolicyType', 'VehicleCategory',\n",
              "       'VehiclePrice', 'FraudFound_P', 'RepNumber', 'Deductible',\n",
              "       'DriverRating', 'Days_Policy_Accident', 'Days_Policy_Claim',\n",
              "       'PastNumberOfClaims', 'AgeOfVehicle', 'AgeOfPolicyHolder',\n",
              "       'PoliceReportFiled', 'WitnessPresent', 'AgentType',\n",
              "       'NumberOfSuppliments', 'AddressChange_Claim', 'NumberOfCars', 'Year',\n",
              "       'BasePolicy'],\n",
              "      dtype='object')"
            ]
          },
          "execution_count": 42,
          "metadata": {},
          "output_type": "execute_result"
        }
      ],
      "source": [
        "# Check for columns in dataset\n",
        "df.columns"
      ]
    },
    {
      "cell_type": "code",
      "execution_count": 43,
      "metadata": {
        "colab": {
          "base_uri": "https://localhost:8080/"
        },
        "id": "rMoRsWlmDGa8",
        "outputId": "60919c52-97bd-4b70-a4eb-6cc2e3aca013"
      },
      "outputs": [
        {
          "name": "stdout",
          "output_type": "stream",
          "text": [
            "['Month', 'WeekOfMonth', 'DayOfWeek', 'Make', 'AccidentArea', 'DayOfWeekClaimed', 'MonthClaimed', 'WeekOfMonthClaimed', 'Sex', 'MaritalStatus', 'Fault', 'PolicyType', 'VehicleCategory', 'VehiclePrice', 'FraudFound_P', 'RepNumber', 'Deductible', 'DriverRating', 'Days_Policy_Accident', 'Days_Policy_Claim', 'PastNumberOfClaims', 'AgeOfVehicle', 'AgeOfPolicyHolder', 'PoliceReportFiled', 'WitnessPresent', 'AgentType', 'NumberOfSuppliments', 'AddressChange_Claim', 'NumberOfCars', 'Year', 'BasePolicy']\n",
            "['Age']\n"
          ]
        }
      ],
      "source": [
        "# Group the categorical features and continuous features separately\n",
        "categorical = []\n",
        "continuous = []\n",
        "for col in df.columns:\n",
        "    if len(df[col].unique()) < 20:   # if the unque values of a feature is more than 20, group it as a categorical feature\n",
        "        categorical.append(col)\n",
        "    else:\n",
        "        continuous.append(col)\n",
        "\n",
        "print(categorical)\n",
        "print(continuous)"
      ]
    },
    {
      "cell_type": "markdown",
      "metadata": {
        "id": "ax-eOAeUDa2j"
      },
      "source": [
        "#### 1. How do the features vary for fraud cases ?"
      ]
    },
    {
      "cell_type": "markdown",
      "metadata": {
        "id": "Y5nHlrkPDmPj"
      },
      "source": [
        "(a) Continuous Features\n",
        "\n",
        "The only continuous feature in this dataset is Age. Thus, we will look at the distribution of Age and how it influences the fraud cases.\n",
        "\n"
      ]
    },
    {
      "cell_type": "code",
      "execution_count": 44,
      "metadata": {
        "colab": {
          "base_uri": "https://localhost:8080/",
          "height": 510
        },
        "id": "yagM-NHSDK8C",
        "outputId": "b6178c83-d81d-4c32-864b-0e6723100701"
      },
      "outputs": [
        {
          "data": {
            "text/plain": [
              "[Text(0.5, 1.0, 'Histogram of Age'), Text(0.5, 0, 'Age')]"
            ]
          },
          "execution_count": 44,
          "metadata": {},
          "output_type": "execute_result"
        }
      ],
      "source": [
        "# Create a histogram of the Age column to look at the distribution\n",
        "fig, ax = plt.subplots(figsize = (8, 5))\n",
        "sns.distplot(df['Age'], kde= False, bins = 50, ax = ax , color = 'Blue')\n",
        "ax.set(title = 'Histogram of Age', xlabel = 'Age')"
      ]
    },
    {
      "cell_type": "markdown",
      "metadata": {
        "id": "T5zJuOBQD5_r"
      },
      "source": [
        "The column Age is slightly right-skewed , thus there is a need to do a log transformation on the column Age to get a normal distribution later on."
      ]
    },
    {
      "cell_type": "code",
      "execution_count": 45,
      "metadata": {
        "colab": {
          "base_uri": "https://localhost:8080/",
          "height": 356
        },
        "id": "ANotrPAtD8ox",
        "outputId": "a4abe507-66e6-4c56-c0bc-e098fabca5ee"
      },
      "outputs": [
        {
          "data": {
            "text/plain": [
              "[Text(0.5, 1.0, 'Boxplot of Age'), Text(0.5, 0, 'Age')]"
            ]
          },
          "execution_count": 45,
          "metadata": {},
          "output_type": "execute_result"
        }
      ],
      "source": [
        "# Create a box plot to check if there are any outliers\n",
        "fig, ax = plt.subplots(figsize = (10,3))\n",
        "sns.boxplot( x = 'Age', data = df, ax = ax)\n",
        "ax.set(title = 'Boxplot of Age', xlabel = 'Age')"
      ]
    },
    {
      "cell_type": "markdown",
      "metadata": {
        "id": "xFznPyv2EEzr"
      },
      "source": [
        "There are only a few outliers , and might not be significant enough to affect the dataset as a whole. Hence, we will go ahead to do a log transformation on the Age column later on to take care of the distribution instead of removing the outliers form the dataset."
      ]
    },
    {
      "cell_type": "code",
      "execution_count": 46,
      "metadata": {
        "colab": {
          "base_uri": "https://localhost:8080/",
          "height": 178
        },
        "id": "rOpziwiFEIwW",
        "outputId": "938c0485-d244-4349-b288-7aa23ac6a69a"
      },
      "outputs": [
        {
          "data": {
            "text/plain": [
              "FraudFound_P\n",
              "0   94.01\n",
              "1    5.99\n",
              "Name: proportion, dtype: float64"
            ]
          },
          "execution_count": 46,
          "metadata": {},
          "output_type": "execute_result"
        }
      ],
      "source": [
        "# Finding out the percentage of fraud cases in the dataset\n",
        "(df['FraudFound_P'].value_counts(normalize = True))*100"
      ]
    },
    {
      "cell_type": "code",
      "execution_count": 47,
      "metadata": {
        "id": "C1omOggQEM25"
      },
      "outputs": [],
      "source": [
        "# Allocating fraud cases as sub-dataset called fraud\n",
        "fraud = df.loc[df['FraudFound_P'] == 1]"
      ]
    },
    {
      "cell_type": "code",
      "execution_count": 48,
      "metadata": {
        "colab": {
          "base_uri": "https://localhost:8080/",
          "height": 394
        },
        "id": "Q8ihadRmEUeo",
        "outputId": "695bb654-72ff-472e-ae40-10c1503156cc"
      },
      "outputs": [],
      "source": [
        "# Create histogram of Age in fraud dataset\n",
        "fig, (ax0, ax1) = plt.subplots(nrows = 2, ncols= 1, figsize = (18,8))\n",
        "sns.distplot(fraud['Age'], kde= False, bins = 50, ax = ax0 , color = 'Blue')\n",
        "# Create a countplot of Age in fraud cases\n",
        "sns.countplot(x= 'Age', data = fraud, ax = ax1)\n",
        "ax0.set(title = 'Histogram of Age in Fraud Cases', xlabel = 'Age')\n",
        "ax1.set(title = 'Countplot of Age in Fraud Cases', xlabel = 'Age')\n",
        "plt.tight_layout(rect=[0, 0.03, 1, 0.98])"
      ]
    },
    {
      "cell_type": "markdown",
      "metadata": {
        "id": "Ww0Z-wkTEdUQ"
      },
      "source": [
        "The distribution of Age in Fraud dataset is also slightly right-skewed. In addition, most of the ages fall between 26 to 46 years old for fraud cases."
      ]
    },
    {
      "cell_type": "markdown",
      "metadata": {
        "id": "vxVL41nqFArX"
      },
      "source": [
        "#### (b) Categorical features"
      ]
    },
    {
      "cell_type": "code",
      "execution_count": 49,
      "metadata": {
        "colab": {
          "base_uri": "https://localhost:8080/"
        },
        "id": "6J1T20vVEdC9",
        "outputId": "8893f209-99a0-4f84-ef06-d2c9f37bd9b8"
      },
      "outputs": [
        {
          "data": {
            "text/plain": [
              "['Month',\n",
              " 'WeekOfMonth',\n",
              " 'DayOfWeek',\n",
              " 'Make',\n",
              " 'AccidentArea',\n",
              " 'DayOfWeekClaimed',\n",
              " 'MonthClaimed',\n",
              " 'WeekOfMonthClaimed',\n",
              " 'Sex',\n",
              " 'MaritalStatus',\n",
              " 'Fault',\n",
              " 'PolicyType',\n",
              " 'VehicleCategory',\n",
              " 'VehiclePrice',\n",
              " 'FraudFound_P',\n",
              " 'RepNumber',\n",
              " 'Deductible',\n",
              " 'DriverRating',\n",
              " 'Days_Policy_Accident',\n",
              " 'Days_Policy_Claim',\n",
              " 'PastNumberOfClaims',\n",
              " 'AgeOfVehicle',\n",
              " 'AgeOfPolicyHolder',\n",
              " 'PoliceReportFiled',\n",
              " 'WitnessPresent',\n",
              " 'AgentType',\n",
              " 'NumberOfSuppliments',\n",
              " 'AddressChange_Claim',\n",
              " 'NumberOfCars',\n",
              " 'Year',\n",
              " 'BasePolicy']"
            ]
          },
          "execution_count": 49,
          "metadata": {},
          "output_type": "execute_result"
        }
      ],
      "source": [
        "# Retrieve the list of categorical features\n",
        "categorical"
      ]
    },
    {
      "cell_type": "markdown",
      "metadata": {
        "id": "Sbuup-qwFJFU"
      },
      "source": [
        "As some of the columns are binary ( only 2 unique categories ) and some are multi-class ( more than 2 unique categories), we will proceed to separate the columns into 2 groups - Binary and multi-class , for better data visualisation and analysis."
      ]
    },
    {
      "cell_type": "code",
      "execution_count": 50,
      "metadata": {
        "colab": {
          "base_uri": "https://localhost:8080/"
        },
        "id": "tUV-QNvuFOUB",
        "outputId": "6851870c-f8ba-411b-80fc-300f3371b8f0"
      },
      "outputs": [
        {
          "name": "stdout",
          "output_type": "stream",
          "text": [
            "Binary features:\n",
            " ['AccidentArea', 'Sex', 'Fault', 'FraudFound_P', 'PoliceReportFiled', 'WitnessPresent', 'AgentType'] \n",
            "\n",
            "Multi-cat features:\n",
            " ['Month', 'WeekOfMonth', 'DayOfWeek', 'Make', 'DayOfWeekClaimed', 'MonthClaimed', 'WeekOfMonthClaimed', 'MaritalStatus', 'PolicyType', 'VehicleCategory', 'VehiclePrice', 'RepNumber', 'Deductible', 'DriverRating', 'Days_Policy_Accident', 'Days_Policy_Claim', 'PastNumberOfClaims', 'AgeOfVehicle', 'AgeOfPolicyHolder', 'NumberOfSuppliments', 'AddressChange_Claim', 'NumberOfCars', 'Year', 'BasePolicy']\n"
          ]
        }
      ],
      "source": [
        "# Create a For loop through the Categorical list to separate the features into 2 groups - Binary and Multi-class\n",
        "binary =[]\n",
        "multi = []\n",
        "for col in categorical:\n",
        "    if len(df[col].unique()) < 3:   # Features with less than 2 unique values will be grouped as Binary\n",
        "        binary.append(col)          # Features with more 2 unique values will be grouped as Multi-class\n",
        "    else:\n",
        "        multi.append(col)\n",
        "\n",
        "print('Binary features:\\n', binary,'\\n')\n",
        "print('Multi-cat features:\\n', multi)"
      ]
    },
    {
      "cell_type": "code",
      "execution_count": 51,
      "metadata": {
        "colab": {
          "base_uri": "https://localhost:8080/"
        },
        "id": "m6D5CSzsFWxv",
        "outputId": "f8c4513b-ddd4-489c-94c6-24af6ff85046"
      },
      "outputs": [
        {
          "data": {
            "text/plain": [
              "['Month',\n",
              " 'WeekOfMonth',\n",
              " 'DayOfWeek',\n",
              " 'DayOfWeekClaimed',\n",
              " 'MonthClaimed',\n",
              " 'WeekOfMonthClaimed']"
            ]
          },
          "execution_count": 51,
          "metadata": {},
          "output_type": "execute_result"
        }
      ],
      "source": [
        "# As there are features which depict time e.g month, week, these features will be further grouped as time features.\n",
        "time_features = ['Month', 'WeekOfMonth',\n",
        " 'DayOfWeek','DayOfWeekClaimed',\n",
        " 'MonthClaimed',\n",
        " 'WeekOfMonthClaimed']\n",
        "time_features"
      ]
    },
    {
      "cell_type": "code",
      "execution_count": 52,
      "metadata": {
        "colab": {
          "base_uri": "https://localhost:8080/"
        },
        "id": "zD_fi1RcFh-g",
        "outputId": "e0c13be1-fa1d-4038-a35b-087cb43bf6e9"
      },
      "outputs": [
        {
          "data": {
            "text/plain": [
              "['Make',\n",
              " 'MaritalStatus',\n",
              " 'PolicyType',\n",
              " 'VehicleCategory',\n",
              " 'VehiclePrice',\n",
              " 'RepNumber',\n",
              " 'Deductible',\n",
              " 'DriverRating',\n",
              " 'Days_Policy_Accident',\n",
              " 'Days_Policy_Claim',\n",
              " 'PastNumberOfClaims',\n",
              " 'AgeOfVehicle',\n",
              " 'AgeOfPolicyHolder',\n",
              " 'NumberOfSuppliments',\n",
              " 'AddressChange_Claim',\n",
              " 'NumberOfCars',\n",
              " 'Year',\n",
              " 'BasePolicy']"
            ]
          },
          "execution_count": 52,
          "metadata": {},
          "output_type": "execute_result"
        }
      ],
      "source": [
        "# The rest of the features will be grouped as Rest\n",
        "rest = []\n",
        "for i in multi:\n",
        "    if i not in time_features:\n",
        "        rest.append(i)\n",
        "\n",
        "rest"
      ]
    },
    {
      "cell_type": "markdown",
      "metadata": {
        "id": "Qk8qt3NsFpNG"
      },
      "source": [
        "Time Features"
      ]
    },
    {
      "cell_type": "code",
      "execution_count": 53,
      "metadata": {
        "colab": {
          "base_uri": "https://localhost:8080/",
          "height": 1000
        },
        "id": "YUWNU5viFu7J",
        "outputId": "8523754f-bf25-4bde-f5f3-11f98d3e5b76"
      },
      "outputs": [],
      "source": [
        "# Create a For loop to visualise barplots for all time features\n",
        "n=len(time_features)\n",
        "fig,ax = plt.subplots(n ,1, figsize=(6,n*3))\n",
        "\n",
        "for i in range(n):\n",
        "    plt.sca(ax[i])  #Set the current Axes to ax and the current Figure to the parent of ax\n",
        "    col = time_features[i]\n",
        "    fraud.groupby(col)[col].count().sort_values().plot(kind= 'barh', color= '#FF7F50')\n",
        "    fig.suptitle ('Countplots of Time Features', fontsize = 20)\n",
        "\n",
        "    fig.tight_layout(rect=[0, 0.03, 1, 0.98])"
      ]
    },
    {
      "cell_type": "markdown",
      "metadata": {
        "id": "VnL6c7lXF-x5"
      },
      "source": [
        "Binary Features\n"
      ]
    },
    {
      "cell_type": "code",
      "execution_count": 54,
      "metadata": {
        "colab": {
          "base_uri": "https://localhost:8080/",
          "height": 259
        },
        "id": "n-yUGlW3GCNq",
        "outputId": "82c121a4-d16c-429f-d844-6dc9b00cc1c8"
      },
      "outputs": [],
      "source": [
        "# Create a For loop to visualise countplots for all binary features\n",
        "n=len(binary)\n",
        "fig,ax = plt.subplots(1 ,n, figsize=(18, 5))\n",
        "\n",
        "for i in range(n):\n",
        "    plt.sca(ax[i])  #Set the current Axes to ax and the current Figure to the parent of ax\n",
        "    col = binary[i]\n",
        "    sns.countplot(x=col, data=fraud, palette = 'Set2')\n",
        "\n",
        "    fig.suptitle ('Countplots of Binary Features', fontsize = 20)\n",
        "\n",
        "    plt.tight_layout(rect=[0, 0.03, 1, 0.98])"
      ]
    },
    {
      "cell_type": "markdown",
      "metadata": {
        "id": "TZRrpWpoGJ0d"
      },
      "source": [
        "Multi-Class Features\n"
      ]
    },
    {
      "cell_type": "code",
      "execution_count": 55,
      "metadata": {
        "colab": {
          "base_uri": "https://localhost:8080/",
          "height": 1000
        },
        "id": "13ztui6tGMkp",
        "outputId": "e2941a3c-3477-4f43-bf68-277528edddee"
      },
      "outputs": [],
      "source": [
        "# Create a For loop to visualise countplots for all multi-class features\n",
        "n=len(rest)\n",
        "fig,ax = plt.subplots(n ,1, figsize=(10,n*4))\n",
        "\n",
        "for i in range(n):\n",
        "    plt.sca(ax[i])  #Set the current Axes to ax and the current Figure to the parent of ax\n",
        "    col = rest[i]\n",
        "    sns.countplot(x=col, data=fraud, palette = 'Set2')\n",
        "\n",
        "    fig.suptitle ('Countplots of Multi-Category Features', fontsize = 20)\n",
        "\n",
        "    plt.tight_layout(rect=[0, 0.03, 1, 0.98])"
      ]
    },
    {
      "cell_type": "markdown",
      "metadata": {
        "id": "4Rgh9fBVGk_-"
      },
      "source": [
        "#### (c) Multivariate Data Exploration"
      ]
    },
    {
      "cell_type": "markdown",
      "metadata": {
        "id": "eYPStOOMGr0y"
      },
      "source": [
        "Exploring the demographics for decreasing fraud trend from 1994 to 1996."
      ]
    },
    {
      "cell_type": "code",
      "execution_count": 56,
      "metadata": {
        "colab": {
          "base_uri": "https://localhost:8080/",
          "height": 382
        },
        "id": "YorvPlU6GzdX",
        "outputId": "0a915ae9-d5e4-4d99-ed15-8a354f561f40"
      },
      "outputs": [
        {
          "data": {
            "text/plain": [
              "[Text(0.5, 1.0, 'Boxplots of Ages across Marital Status')]"
            ]
          },
          "execution_count": 56,
          "metadata": {},
          "output_type": "execute_result"
        }
      ],
      "source": [
        "#Create boxplots to visualise gender and marital status acorss ages\n",
        "fig,(ax0, ax1) = plt.subplots(1, 2, figsize=(15, 5))\n",
        "sns.boxplot (y = 'Age', x = 'Year', data= fraud, palette = 'Set2', hue= 'Sex', ax= ax0)\n",
        "sns.boxplot (y = 'Age', x = 'Year', data= fraud, palette = 'Set2', hue= 'MaritalStatus', ax= ax1)\n",
        "ax0.set(title = 'Boxplots of Ages across Gender')\n",
        "ax1.set(title = 'Boxplots of Ages across Marital Status')"
      ]
    },
    {
      "cell_type": "code",
      "execution_count": 57,
      "metadata": {
        "colab": {
          "base_uri": "https://localhost:8080/",
          "height": 460
        },
        "id": "kK5WhA7RHFrn",
        "outputId": "910e5ed3-e667-4626-862f-87bb53e1205d"
      },
      "outputs": [
        {
          "data": {
            "text/plain": [
              "[Text(0.5, 1.0, 'Countplot of Fraud Cases across Policy Holder Ages from 1994-1996')]"
            ]
          },
          "execution_count": 57,
          "metadata": {},
          "output_type": "execute_result"
        }
      ],
      "source": [
        "# Create a countplot to visualise the fraud cases across age groups of policy holder over the years\n",
        "fig,(ax) = plt.subplots(figsize=(15, 5))\n",
        "fraud.groupby(['Year','AgeOfPolicyHolder'])['Year'].count().plot(kind= 'bar', ax = ax, color = 'g')\n",
        "ax.set(title = 'Countplot of Fraud Cases across Policy Holder Ages from 1994-1996')"
      ]
    },
    {
      "cell_type": "markdown",
      "metadata": {
        "id": "18mhsyW9HMM2"
      },
      "source": [
        "The fraud cases across the age groups of policy holders all decrease over the years. The decreasing pattern is the same across all years."
      ]
    },
    {
      "cell_type": "code",
      "execution_count": 58,
      "metadata": {
        "colab": {
          "base_uri": "https://localhost:8080/",
          "height": 217
        },
        "id": "637yJ3wmHP_E",
        "outputId": "4216b802-a25c-42f4-a164-518454d41a90"
      },
      "outputs": [],
      "source": [
        "# Create countplots to show the trend of binary features across the years\n",
        "n=len(binary)\n",
        "fig,ax = plt.subplots(1 ,n, figsize=(18,4))\n",
        "\n",
        "for i in range(n):\n",
        "    plt.sca(ax[i])\n",
        "    col = binary[i]\n",
        "    sns.countplot(x=col, data=fraud, palette = 'Set2', hue='Year')\n",
        "\n",
        "    fig.suptitle ('Countplots of Binary Features from 1994 to 1996', fontsize = 20)\n",
        "\n",
        "    plt.tight_layout()"
      ]
    },
    {
      "cell_type": "code",
      "execution_count": 59,
      "metadata": {
        "colab": {
          "base_uri": "https://localhost:8080/",
          "height": 1000
        },
        "id": "Y3efj58QHWur",
        "outputId": "012e52d4-08ea-4ccd-d3ec-529389d0a516"
      },
      "outputs": [],
      "source": [
        "# Create bar plots for some interesting multi-class features across the years\n",
        "fig, [[ax0, ax1], [ax2, ax3], [ax4, ax5]] = plt.subplots(nrows = 3, ncols = 2, figsize = (10,15))\n",
        "fraud.groupby(['Year', 'VehiclePrice'])['Year'].count().plot(kind= 'barh', ax = ax0)\n",
        "fraud.groupby(['Year', 'BasePolicy'])['Year'].count().plot(kind= 'barh', ax = ax1)\n",
        "fraud.groupby(['Year', 'NumberOfSuppliments'])['Year'].count().plot(kind= 'barh', ax = ax2)\n",
        "fraud.groupby(['Year', 'AgeOfVehicle'])['Year'].count().plot(kind= 'barh', ax = ax3)\n",
        "fraud.groupby(['Year', 'PolicyType'])['Year'].count().plot(kind= 'barh', ax = ax4)\n",
        "fraud.groupby(['Year', 'VehicleCategory'])['Year'].count().plot(kind= 'barh', ax = ax5)\n",
        "fig.suptitle ('Barplots of Multi-Class Features from 1994 to 1996', fontsize = 20)\n",
        "\n",
        "plt.tight_layout()"
      ]
    },
    {
      "cell_type": "markdown",
      "metadata": {
        "id": "-aSnivt2HfrK"
      },
      "source": [
        "From the countplots above, the other features did not show much unusual changes or trends along the years. Overall as a whole, there was a decreasing trend in all features, which corresponds to the decreasing fraud trend along the years."
      ]
    },
    {
      "cell_type": "markdown",
      "metadata": {
        "id": "YpHx3hw3HmVu"
      },
      "source": [
        "2. As most of the vehicles involved in fraud were priced from 20000 -\n",
        "29000 and mostly Sedan, what were the demographics for this group of\n",
        "policyholders?"
      ]
    },
    {
      "cell_type": "code",
      "execution_count": 60,
      "metadata": {
        "id": "gipr93dBH8WV"
      },
      "outputs": [],
      "source": [
        "# Create a sub-dataset containing only sedan priced at $20000- $29000\n",
        "popcat= fraud.loc[(fraud['VehiclePrice'].isin(['20000 to 29000'])& fraud['VehicleCategory'].isin(['Sedan'])), :]"
      ]
    },
    {
      "cell_type": "code",
      "execution_count": 61,
      "metadata": {
        "colab": {
          "base_uri": "https://localhost:8080/",
          "height": 1000
        },
        "id": "92TerJvhIAxF",
        "outputId": "198f52f4-a0da-4a61-e06b-b019ef7735a8"
      },
      "outputs": [],
      "source": [
        "# Create countplots to show how the demographic features vary for the group in dataframe popcat\n",
        "fig, [[ax0, ax1], [ax2, ax3], [ax4, ax5]] = plt.subplots(nrows = 3, ncols = 2, figsize = (18,30))\n",
        "sns.countplot(x = 'MaritalStatus', data = popcat, palette= 'Set2', ax=ax0)\n",
        "sns.countplot(x = 'AgeOfPolicyHolder', data = popcat, palette= 'Set2', ax= ax1)\n",
        "sns.countplot(y = 'Age', data = popcat, palette= 'Set2', ax= ax2)\n",
        "sns.countplot(x = 'Sex', data = popcat, palette= 'Set2', ax = ax3)\n",
        "sns.countplot(x = 'AccidentArea', data = popcat, palette= 'Set2', ax = ax4)\n",
        "sns.countplot(x = 'AgeOfVehicle', data = popcat, palette= 'Set2', ax = ax5)\n",
        "\n",
        "fig.suptitle ('Countplots of Demographic Features from 1994 to 1996', fontsize = 20)\n",
        "plt.tight_layout(rect=[0, 0.03, 1, 0.98])"
      ]
    },
    {
      "cell_type": "markdown",
      "metadata": {
        "id": "7HUEepRCIOM-"
      },
      "source": [
        "3. For the common car models in fraud cases, what were the demographics like? (e.g Age group, Marital Status)"
      ]
    },
    {
      "cell_type": "markdown",
      "metadata": {
        "id": "cwDNKRKnIR0G"
      },
      "source": [
        "For this part, we will only be exploring the top 3 car models involved in fraud cases - Pontiac, Honda and Toyota.\n",
        "\n"
      ]
    },
    {
      "cell_type": "code",
      "execution_count": 62,
      "metadata": {
        "id": "_wEUJk3pIUmc"
      },
      "outputs": [],
      "source": [
        "# Create a sub-dataset which consists only fraud cases involving car models - Pontiac, Honda and Toyata\n",
        "pop_car= fraud.loc[fraud['Make'].isin(['Pontiac', 'Honda', 'Toyota']), :]"
      ]
    },
    {
      "cell_type": "code",
      "execution_count": 63,
      "metadata": {
        "colab": {
          "base_uri": "https://localhost:8080/",
          "height": 338
        },
        "id": "WgeoDv68IYFr",
        "outputId": "e7d17129-1d5a-4515-8f0c-06e69457c0eb"
      },
      "outputs": [],
      "source": [
        "\n",
        "# To find out the average age of the drivers for these 3 models\n",
        "fig,(ax) = plt.subplots(figsize=(8, 3))\n",
        "pop_car.groupby(['Make'])['Age'].mean().plot(kind='bar').set(title= 'Average Age of Drivers in Fraud Cases among Top 3 Car Models')\n",
        "plt.xticks(fontsize=10,fontweight='bold',rotation=0);"
      ]
    },
    {
      "cell_type": "markdown",
      "metadata": {
        "id": "kiI7hDPUIkrR"
      },
      "source": [
        "The average age of drivers in fraud cases involving the top 3 models is around 38 to 40 years old."
      ]
    },
    {
      "cell_type": "code",
      "execution_count": 64,
      "metadata": {
        "colab": {
          "base_uri": "https://localhost:8080/",
          "height": 906
        },
        "id": "MlLFFL8RInPu",
        "outputId": "86cb22a4-173a-4708-da00-351f1021f567"
      },
      "outputs": [],
      "source": [
        "# Let us look at the Age of policy holder, Marital Status, Gender and Age.\n",
        "\n",
        "fig,([ax0, ax1], [ax2, ax3]) = plt.subplots(2, 2,figsize=(10, 10))\n",
        "pop_car.groupby(['Make', 'AgeOfPolicyHolder'])['AgeOfPolicyHolder'].count().plot(kind='barh', ax= ax0)\n",
        "sns.countplot(x= 'Make', data = pop_car, ax = ax1, hue = 'MaritalStatus')\n",
        "sns.countplot(x= 'Make', data = pop_car, ax = ax2, hue = 'Sex')\n",
        "sns.boxplot(x= 'Make', y= 'Age', data= pop_car, ax = ax3)\n",
        "\n",
        "fig.suptitle ('Countplots and Boxplots of Demographic Features of Top 3 Car Models', fontsize = 20)\n",
        "\n",
        "plt.tight_layout()"
      ]
    },
    {
      "cell_type": "code",
      "execution_count": 65,
      "metadata": {
        "colab": {
          "base_uri": "https://localhost:8080/",
          "height": 495
        },
        "id": "HG1HHWOPIvWR",
        "outputId": "042d0eef-f1f7-46f5-d3e1-910bf399926e"
      },
      "outputs": [],
      "source": [
        "# Create countplots to show how Vehicle Age and Vehicle Price vary across the 3 models\n",
        "fig,(ax1, ax2) = plt.subplots(2,1, figsize=(15, 8))\n",
        "sns.countplot(x='Make', data= pop_car,hue = 'AgeOfVehicle', ax = ax1)\n",
        "sns.countplot(x='Make', data= pop_car,hue = 'VehiclePrice', ax = ax2)\n",
        "fig.suptitle ('Countplots of Vehicle Age and Vehicle Price across Top 3 Car Models', fontsize = 20)\n",
        "\n",
        "plt.tight_layout()"
      ]
    },
    {
      "cell_type": "code",
      "execution_count": 66,
      "metadata": {
        "colab": {
          "base_uri": "https://localhost:8080/",
          "height": 146
        },
        "id": "3bxqkdG1IzGG",
        "outputId": "bf1e4eba-2704-47c9-ca80-5cad979b5005"
      },
      "outputs": [
        {
          "data": {
            "text/plain": [
              "Make\n",
              "Honda    32\n",
              "Name: count, dtype: int64"
            ]
          },
          "execution_count": 66,
          "metadata": {},
          "output_type": "execute_result"
        }
      ],
      "source": [
        "fraud.loc[fraud['VehiclePrice'].isin(['more than 69000']) & fraud['AgeOfVehicle'].isin(['new']), 'Make'].value_counts()\n"
      ]
    },
    {
      "cell_type": "markdown",
      "metadata": {
        "id": "htg0U2wdI6Xz"
      },
      "source": [
        "Indeed, all brand new cars priced over $69000 were of Honda model. This indicates that more investigation is needed for Honda cars and its related insurance policies and regulations."
      ]
    },
    {
      "cell_type": "markdown",
      "metadata": {
        "id": "_gu-BbRjJA_i"
      },
      "source": [
        "4. Other Interesting Observations involving demographics and the other features\n"
      ]
    },
    {
      "cell_type": "code",
      "execution_count": 67,
      "metadata": {
        "colab": {
          "base_uri": "https://localhost:8080/",
          "height": 1000
        },
        "id": "Lo5kwGm2JGk_",
        "outputId": "d7888c44-96c5-46c4-ea80-1d794afcd83f"
      },
      "outputs": [],
      "source": [
        "# Create a For Loop to plot barplots to show how gender and age varies across Deductible, Policy Type, Vehicle Category and Vehicle Age\n",
        "interesting_feat= ['Deductible', 'PolicyType','VehicleCategory', 'AgeOfVehicle' ]\n",
        "n=len(interesting_feat)\n",
        "fig,ax = plt.subplots(n ,1, figsize=(8,15))\n",
        "\n",
        "for i in range(n):\n",
        "    plt.sca(ax[i])\n",
        "    col = interesting_feat[i]\n",
        "    sns.barplot(x=col, y= 'Age', data= fraud, hue= 'Sex',palette = 'Set2')\n",
        "\n",
        "    fig.suptitle ('Barplots of Demographics and Other Features', fontsize = 20)\n",
        "\n",
        "    plt.tight_layout()"
      ]
    },
    {
      "cell_type": "markdown",
      "metadata": {
        "id": "oRMz_6EvJKl7"
      },
      "source": [
        "### 5. Data Pre-Processing and Feature Engineering"
      ]
    },
    {
      "cell_type": "markdown",
      "metadata": {
        "id": "DeFosPl9ap0w"
      },
      "source": [
        "Clean up column 'PolicyType'"
      ]
    },
    {
      "cell_type": "markdown",
      "metadata": {
        "id": "Cotdesaway30"
      },
      "source": [
        "As Policy Type and Base Policy consist of repetitive information, we will remove the policy information under Policy Type\n"
      ]
    },
    {
      "cell_type": "code",
      "execution_count": 68,
      "metadata": {
        "colab": {
          "base_uri": "https://localhost:8080/",
          "height": 397
        },
        "id": "OC5MAO4BbJmn",
        "outputId": "9e0cc095-cf61-476b-e4d6-61b748e3cc76"
      },
      "outputs": [
        {
          "data": {
            "text/plain": [
              "PolicyType\n",
              "Sedan - Collision       5584\n",
              "Sedan - Liability       4987\n",
              "Sedan - All Perils      4086\n",
              "Sport - Collision        348\n",
              "Utility - All Perils     340\n",
              "Utility - Collision       30\n",
              "Sport - All Perils        22\n",
              "Utility - Liability       21\n",
              "Sport - Liability          1\n",
              "Name: count, dtype: int64"
            ]
          },
          "execution_count": 68,
          "metadata": {},
          "output_type": "execute_result"
        }
      ],
      "source": [
        "df['PolicyType'].value_counts()\n"
      ]
    },
    {
      "cell_type": "code",
      "execution_count": 69,
      "metadata": {
        "id": "wNkRNzyseX9Y"
      },
      "outputs": [],
      "source": [
        "# Create a function to remove the policy information\n",
        "def ptconvert(data):\n",
        "    data = data.split()\n",
        "    for i in data:\n",
        "        pt = data[0]\n",
        "        return pt"
      ]
    },
    {
      "cell_type": "code",
      "execution_count": 70,
      "metadata": {
        "id": "DcIcnHxReY3P"
      },
      "outputs": [],
      "source": [
        "df['PolicyType'] = df['PolicyType'].astype(str).apply(ptconvert)"
      ]
    },
    {
      "cell_type": "code",
      "execution_count": 71,
      "metadata": {
        "colab": {
          "base_uri": "https://localhost:8080/"
        },
        "id": "vcC_23w8ec0-",
        "outputId": "1f35b66a-5880-416a-a3e7-574f39d6ea95"
      },
      "outputs": [
        {
          "data": {
            "text/plain": [
              "array(['Sport', 'Sedan', 'Utility'], dtype=object)"
            ]
          },
          "execution_count": 71,
          "metadata": {},
          "output_type": "execute_result"
        }
      ],
      "source": [
        "df['PolicyType'].unique()"
      ]
    },
    {
      "cell_type": "markdown",
      "metadata": {
        "id": "DMlrslJmelnW"
      },
      "source": [
        "Binning for selected features\n",
        "Make\n",
        "Marital Status\n",
        "Days_Policy_Accident\n",
        "Days_Policy_Claim\n",
        "AddressChange_Claim\n",
        "NumberOfCars"
      ]
    },
    {
      "cell_type": "code",
      "execution_count": null,
      "metadata": {
        "id": "yNce0SfeJbb_"
      },
      "outputs": [],
      "source": []
    },
    {
      "cell_type": "markdown",
      "metadata": {
        "id": "NnEyw7TwfBom"
      },
      "source": [
        "1. Make"
      ]
    },
    {
      "cell_type": "markdown",
      "metadata": {
        "id": "ePzbWicxe8ac"
      },
      "source": [
        "2. MaritalStatus"
      ]
    },
    {
      "cell_type": "markdown",
      "metadata": {
        "id": "-YIZ1h8jfUK0"
      },
      "source": [
        "3. Days_Policy_Accident"
      ]
    },
    {
      "cell_type": "markdown",
      "metadata": {
        "id": "cL39rtsyfh8s"
      },
      "source": [
        "4. Days_Policy_Claim"
      ]
    },
    {
      "cell_type": "markdown",
      "metadata": {
        "id": "xrrzOsBjfxul"
      },
      "source": [
        "5. AddressChange_Claim"
      ]
    },
    {
      "cell_type": "markdown",
      "metadata": {
        "id": "3zxFfR2agCdD"
      },
      "source": [
        "6. NumberOfCars"
      ]
    },
    {
      "cell_type": "code",
      "execution_count": 72,
      "metadata": {
        "colab": {
          "base_uri": "https://localhost:8080/"
        },
        "id": "_JUxWLATf-OZ",
        "outputId": "e088f139-816d-49f6-cf79-0faf97f22b31"
      },
      "outputs": [
        {
          "data": {
            "text/plain": [
              "array([1994, 1995, 1996], dtype=int64)"
            ]
          },
          "execution_count": 72,
          "metadata": {},
          "output_type": "execute_result"
        }
      ],
      "source": [
        "df['Year'].unique()\n"
      ]
    },
    {
      "cell_type": "code",
      "execution_count": 75,
      "metadata": {
        "colab": {
          "base_uri": "https://localhost:8080/"
        },
        "id": "H17hJnuggMlL",
        "outputId": "302ce295-af8d-45ee-adc9-3c516af77839"
      },
      "outputs": [
        {
          "name": "stdout",
          "output_type": "stream",
          "text": [
            "<class 'pandas.core.frame.DataFrame'>\n",
            "RangeIndex: 15419 entries, 0 to 15418\n",
            "Data columns (total 32 columns):\n",
            " #   Column                Non-Null Count  Dtype \n",
            "---  ------                --------------  ----- \n",
            " 0   Month                 15419 non-null  object\n",
            " 1   WeekOfMonth           15419 non-null  int64 \n",
            " 2   DayOfWeek             15419 non-null  object\n",
            " 3   Make                  15419 non-null  object\n",
            " 4   AccidentArea          15419 non-null  object\n",
            " 5   DayOfWeekClaimed      15419 non-null  object\n",
            " 6   MonthClaimed          15419 non-null  object\n",
            " 7   WeekOfMonthClaimed    15419 non-null  int64 \n",
            " 8   Sex                   15419 non-null  object\n",
            " 9   MaritalStatus         15419 non-null  object\n",
            " 10  Age                   15419 non-null  int64 \n",
            " 11  Fault                 15419 non-null  object\n",
            " 12  PolicyType            15419 non-null  object\n",
            " 13  VehicleCategory       15419 non-null  object\n",
            " 14  VehiclePrice          15419 non-null  object\n",
            " 15  FraudFound_P          15419 non-null  int64 \n",
            " 16  RepNumber             15419 non-null  int64 \n",
            " 17  Deductible            15419 non-null  int64 \n",
            " 18  DriverRating          15419 non-null  int64 \n",
            " 19  Days_Policy_Accident  15419 non-null  object\n",
            " 20  Days_Policy_Claim     15419 non-null  object\n",
            " 21  PastNumberOfClaims    15419 non-null  object\n",
            " 22  AgeOfVehicle          15419 non-null  object\n",
            " 23  AgeOfPolicyHolder     15419 non-null  object\n",
            " 24  PoliceReportFiled     15419 non-null  object\n",
            " 25  WitnessPresent        15419 non-null  object\n",
            " 26  AgentType             15419 non-null  object\n",
            " 27  NumberOfSuppliments   15419 non-null  object\n",
            " 28  AddressChange_Claim   15419 non-null  object\n",
            " 29  NumberOfCars          15419 non-null  object\n",
            " 30  Year                  15419 non-null  int64 \n",
            " 31  BasePolicy            15419 non-null  object\n",
            "dtypes: int64(8), object(24)\n",
            "memory usage: 3.8+ MB\n"
          ]
        }
      ],
      "source": [
        "df.info()\n"
      ]
    },
    {
      "cell_type": "code",
      "execution_count": 76,
      "metadata": {
        "id": "FFSlPUVxgrwj"
      },
      "outputs": [],
      "source": [
        "to_str = ['WeekOfMonth', 'WeekOfMonthClaimed','RepNumber', 'Deductible', 'DriverRating', 'Year']\n"
      ]
    },
    {
      "cell_type": "code",
      "execution_count": 77,
      "metadata": {
        "id": "fL9iQ7bTgwKn"
      },
      "outputs": [],
      "source": [
        "# For Loop to convert the date type to string\n",
        "for i in to_str:\n",
        "    df[i]= df[i].astype('str')"
      ]
    },
    {
      "cell_type": "code",
      "execution_count": 78,
      "metadata": {
        "colab": {
          "base_uri": "https://localhost:8080/"
        },
        "id": "Oz_CIks-gy4m",
        "outputId": "4cd6060f-e6b9-407c-ee96-22ed7d469a19"
      },
      "outputs": [
        {
          "name": "stdout",
          "output_type": "stream",
          "text": [
            "<class 'pandas.core.frame.DataFrame'>\n",
            "RangeIndex: 15419 entries, 0 to 15418\n",
            "Data columns (total 32 columns):\n",
            " #   Column                Non-Null Count  Dtype \n",
            "---  ------                --------------  ----- \n",
            " 0   Month                 15419 non-null  object\n",
            " 1   WeekOfMonth           15419 non-null  object\n",
            " 2   DayOfWeek             15419 non-null  object\n",
            " 3   Make                  15419 non-null  object\n",
            " 4   AccidentArea          15419 non-null  object\n",
            " 5   DayOfWeekClaimed      15419 non-null  object\n",
            " 6   MonthClaimed          15419 non-null  object\n",
            " 7   WeekOfMonthClaimed    15419 non-null  object\n",
            " 8   Sex                   15419 non-null  object\n",
            " 9   MaritalStatus         15419 non-null  object\n",
            " 10  Age                   15419 non-null  int64 \n",
            " 11  Fault                 15419 non-null  object\n",
            " 12  PolicyType            15419 non-null  object\n",
            " 13  VehicleCategory       15419 non-null  object\n",
            " 14  VehiclePrice          15419 non-null  object\n",
            " 15  FraudFound_P          15419 non-null  int64 \n",
            " 16  RepNumber             15419 non-null  object\n",
            " 17  Deductible            15419 non-null  object\n",
            " 18  DriverRating          15419 non-null  object\n",
            " 19  Days_Policy_Accident  15419 non-null  object\n",
            " 20  Days_Policy_Claim     15419 non-null  object\n",
            " 21  PastNumberOfClaims    15419 non-null  object\n",
            " 22  AgeOfVehicle          15419 non-null  object\n",
            " 23  AgeOfPolicyHolder     15419 non-null  object\n",
            " 24  PoliceReportFiled     15419 non-null  object\n",
            " 25  WitnessPresent        15419 non-null  object\n",
            " 26  AgentType             15419 non-null  object\n",
            " 27  NumberOfSuppliments   15419 non-null  object\n",
            " 28  AddressChange_Claim   15419 non-null  object\n",
            " 29  NumberOfCars          15419 non-null  object\n",
            " 30  Year                  15419 non-null  object\n",
            " 31  BasePolicy            15419 non-null  object\n",
            "dtypes: int64(2), object(30)\n",
            "memory usage: 3.8+ MB\n"
          ]
        }
      ],
      "source": [
        "df.info()\n"
      ]
    },
    {
      "cell_type": "markdown",
      "metadata": {
        "id": "b0ZaNEJHhKzH"
      },
      "source": [
        "#### Get_dummies Encoding"
      ]
    },
    {
      "cell_type": "markdown",
      "metadata": {
        "id": "vpQmTZRuhxBI"
      },
      "source": [
        "#### Ordinal Encoding"
      ]
    },
    {
      "cell_type": "markdown",
      "metadata": {
        "id": "0fvCZ2SWiUbp"
      },
      "source": [
        "#### Frequency Encoding"
      ]
    },
    {
      "cell_type": "code",
      "execution_count": 79,
      "metadata": {
        "colab": {
          "base_uri": "https://localhost:8080/",
          "height": 443
        },
        "id": "qdUi5ANGi40-",
        "outputId": "54384323-b98d-42af-e469-0f4ca84f0d01"
      },
      "outputs": [
        {
          "data": {
            "text/html": [
              "<div>\n",
              "<style scoped>\n",
              "    .dataframe tbody tr th:only-of-type {\n",
              "        vertical-align: middle;\n",
              "    }\n",
              "\n",
              "    .dataframe tbody tr th {\n",
              "        vertical-align: top;\n",
              "    }\n",
              "\n",
              "    .dataframe thead th {\n",
              "        text-align: right;\n",
              "    }\n",
              "</style>\n",
              "<table border=\"1\" class=\"dataframe\">\n",
              "  <thead>\n",
              "    <tr style=\"text-align: right;\">\n",
              "      <th></th>\n",
              "      <th>Month</th>\n",
              "      <th>WeekOfMonth</th>\n",
              "      <th>DayOfWeek</th>\n",
              "      <th>Make</th>\n",
              "      <th>AccidentArea</th>\n",
              "      <th>DayOfWeekClaimed</th>\n",
              "      <th>MonthClaimed</th>\n",
              "      <th>WeekOfMonthClaimed</th>\n",
              "      <th>Sex</th>\n",
              "      <th>MaritalStatus</th>\n",
              "      <th>...</th>\n",
              "      <th>AgeOfVehicle</th>\n",
              "      <th>AgeOfPolicyHolder</th>\n",
              "      <th>PoliceReportFiled</th>\n",
              "      <th>WitnessPresent</th>\n",
              "      <th>AgentType</th>\n",
              "      <th>NumberOfSuppliments</th>\n",
              "      <th>AddressChange_Claim</th>\n",
              "      <th>NumberOfCars</th>\n",
              "      <th>Year</th>\n",
              "      <th>BasePolicy</th>\n",
              "    </tr>\n",
              "  </thead>\n",
              "  <tbody>\n",
              "    <tr>\n",
              "      <th>0</th>\n",
              "      <td>Dec</td>\n",
              "      <td>5</td>\n",
              "      <td>Wednesday</td>\n",
              "      <td>Honda</td>\n",
              "      <td>Urban</td>\n",
              "      <td>Tuesday</td>\n",
              "      <td>Jan</td>\n",
              "      <td>1</td>\n",
              "      <td>Female</td>\n",
              "      <td>Single</td>\n",
              "      <td>...</td>\n",
              "      <td>3 years</td>\n",
              "      <td>26 to 30</td>\n",
              "      <td>No</td>\n",
              "      <td>No</td>\n",
              "      <td>External</td>\n",
              "      <td>none</td>\n",
              "      <td>1 year</td>\n",
              "      <td>3 to 4</td>\n",
              "      <td>1994</td>\n",
              "      <td>Liability</td>\n",
              "    </tr>\n",
              "    <tr>\n",
              "      <th>1</th>\n",
              "      <td>Jan</td>\n",
              "      <td>3</td>\n",
              "      <td>Wednesday</td>\n",
              "      <td>Honda</td>\n",
              "      <td>Urban</td>\n",
              "      <td>Monday</td>\n",
              "      <td>Jan</td>\n",
              "      <td>4</td>\n",
              "      <td>Male</td>\n",
              "      <td>Single</td>\n",
              "      <td>...</td>\n",
              "      <td>6 years</td>\n",
              "      <td>31 to 35</td>\n",
              "      <td>Yes</td>\n",
              "      <td>No</td>\n",
              "      <td>External</td>\n",
              "      <td>none</td>\n",
              "      <td>no change</td>\n",
              "      <td>1 vehicle</td>\n",
              "      <td>1994</td>\n",
              "      <td>Collision</td>\n",
              "    </tr>\n",
              "    <tr>\n",
              "      <th>2</th>\n",
              "      <td>Oct</td>\n",
              "      <td>5</td>\n",
              "      <td>Friday</td>\n",
              "      <td>Honda</td>\n",
              "      <td>Urban</td>\n",
              "      <td>Thursday</td>\n",
              "      <td>Nov</td>\n",
              "      <td>2</td>\n",
              "      <td>Male</td>\n",
              "      <td>Married</td>\n",
              "      <td>...</td>\n",
              "      <td>7 years</td>\n",
              "      <td>41 to 50</td>\n",
              "      <td>No</td>\n",
              "      <td>No</td>\n",
              "      <td>External</td>\n",
              "      <td>none</td>\n",
              "      <td>no change</td>\n",
              "      <td>1 vehicle</td>\n",
              "      <td>1994</td>\n",
              "      <td>Collision</td>\n",
              "    </tr>\n",
              "    <tr>\n",
              "      <th>3</th>\n",
              "      <td>Jun</td>\n",
              "      <td>2</td>\n",
              "      <td>Saturday</td>\n",
              "      <td>Toyota</td>\n",
              "      <td>Rural</td>\n",
              "      <td>Friday</td>\n",
              "      <td>Jul</td>\n",
              "      <td>1</td>\n",
              "      <td>Male</td>\n",
              "      <td>Married</td>\n",
              "      <td>...</td>\n",
              "      <td>more than 7</td>\n",
              "      <td>51 to 65</td>\n",
              "      <td>Yes</td>\n",
              "      <td>No</td>\n",
              "      <td>External</td>\n",
              "      <td>more than 5</td>\n",
              "      <td>no change</td>\n",
              "      <td>1 vehicle</td>\n",
              "      <td>1994</td>\n",
              "      <td>Liability</td>\n",
              "    </tr>\n",
              "    <tr>\n",
              "      <th>4</th>\n",
              "      <td>Jan</td>\n",
              "      <td>5</td>\n",
              "      <td>Monday</td>\n",
              "      <td>Honda</td>\n",
              "      <td>Urban</td>\n",
              "      <td>Tuesday</td>\n",
              "      <td>Feb</td>\n",
              "      <td>2</td>\n",
              "      <td>Female</td>\n",
              "      <td>Single</td>\n",
              "      <td>...</td>\n",
              "      <td>5 years</td>\n",
              "      <td>31 to 35</td>\n",
              "      <td>No</td>\n",
              "      <td>No</td>\n",
              "      <td>External</td>\n",
              "      <td>none</td>\n",
              "      <td>no change</td>\n",
              "      <td>1 vehicle</td>\n",
              "      <td>1994</td>\n",
              "      <td>Collision</td>\n",
              "    </tr>\n",
              "    <tr>\n",
              "      <th>...</th>\n",
              "      <td>...</td>\n",
              "      <td>...</td>\n",
              "      <td>...</td>\n",
              "      <td>...</td>\n",
              "      <td>...</td>\n",
              "      <td>...</td>\n",
              "      <td>...</td>\n",
              "      <td>...</td>\n",
              "      <td>...</td>\n",
              "      <td>...</td>\n",
              "      <td>...</td>\n",
              "      <td>...</td>\n",
              "      <td>...</td>\n",
              "      <td>...</td>\n",
              "      <td>...</td>\n",
              "      <td>...</td>\n",
              "      <td>...</td>\n",
              "      <td>...</td>\n",
              "      <td>...</td>\n",
              "      <td>...</td>\n",
              "      <td>...</td>\n",
              "    </tr>\n",
              "    <tr>\n",
              "      <th>15414</th>\n",
              "      <td>Nov</td>\n",
              "      <td>4</td>\n",
              "      <td>Friday</td>\n",
              "      <td>Toyota</td>\n",
              "      <td>Urban</td>\n",
              "      <td>Tuesday</td>\n",
              "      <td>Nov</td>\n",
              "      <td>5</td>\n",
              "      <td>Male</td>\n",
              "      <td>Married</td>\n",
              "      <td>...</td>\n",
              "      <td>6 years</td>\n",
              "      <td>31 to 35</td>\n",
              "      <td>No</td>\n",
              "      <td>No</td>\n",
              "      <td>External</td>\n",
              "      <td>none</td>\n",
              "      <td>no change</td>\n",
              "      <td>1 vehicle</td>\n",
              "      <td>1996</td>\n",
              "      <td>Collision</td>\n",
              "    </tr>\n",
              "    <tr>\n",
              "      <th>15415</th>\n",
              "      <td>Nov</td>\n",
              "      <td>5</td>\n",
              "      <td>Thursday</td>\n",
              "      <td>Pontiac</td>\n",
              "      <td>Urban</td>\n",
              "      <td>Friday</td>\n",
              "      <td>Dec</td>\n",
              "      <td>1</td>\n",
              "      <td>Male</td>\n",
              "      <td>Married</td>\n",
              "      <td>...</td>\n",
              "      <td>6 years</td>\n",
              "      <td>31 to 35</td>\n",
              "      <td>No</td>\n",
              "      <td>No</td>\n",
              "      <td>External</td>\n",
              "      <td>more than 5</td>\n",
              "      <td>no change</td>\n",
              "      <td>3 to 4</td>\n",
              "      <td>1996</td>\n",
              "      <td>Liability</td>\n",
              "    </tr>\n",
              "    <tr>\n",
              "      <th>15416</th>\n",
              "      <td>Nov</td>\n",
              "      <td>5</td>\n",
              "      <td>Thursday</td>\n",
              "      <td>Toyota</td>\n",
              "      <td>Rural</td>\n",
              "      <td>Friday</td>\n",
              "      <td>Dec</td>\n",
              "      <td>1</td>\n",
              "      <td>Male</td>\n",
              "      <td>Single</td>\n",
              "      <td>...</td>\n",
              "      <td>5 years</td>\n",
              "      <td>26 to 30</td>\n",
              "      <td>No</td>\n",
              "      <td>No</td>\n",
              "      <td>External</td>\n",
              "      <td>1 to 2</td>\n",
              "      <td>no change</td>\n",
              "      <td>1 vehicle</td>\n",
              "      <td>1996</td>\n",
              "      <td>Collision</td>\n",
              "    </tr>\n",
              "    <tr>\n",
              "      <th>15417</th>\n",
              "      <td>Dec</td>\n",
              "      <td>1</td>\n",
              "      <td>Monday</td>\n",
              "      <td>Toyota</td>\n",
              "      <td>Urban</td>\n",
              "      <td>Thursday</td>\n",
              "      <td>Dec</td>\n",
              "      <td>2</td>\n",
              "      <td>Female</td>\n",
              "      <td>Married</td>\n",
              "      <td>...</td>\n",
              "      <td>2 years</td>\n",
              "      <td>31 to 35</td>\n",
              "      <td>No</td>\n",
              "      <td>No</td>\n",
              "      <td>External</td>\n",
              "      <td>more than 5</td>\n",
              "      <td>no change</td>\n",
              "      <td>1 vehicle</td>\n",
              "      <td>1996</td>\n",
              "      <td>All Perils</td>\n",
              "    </tr>\n",
              "    <tr>\n",
              "      <th>15418</th>\n",
              "      <td>Dec</td>\n",
              "      <td>2</td>\n",
              "      <td>Wednesday</td>\n",
              "      <td>Toyota</td>\n",
              "      <td>Urban</td>\n",
              "      <td>Thursday</td>\n",
              "      <td>Dec</td>\n",
              "      <td>3</td>\n",
              "      <td>Male</td>\n",
              "      <td>Single</td>\n",
              "      <td>...</td>\n",
              "      <td>5 years</td>\n",
              "      <td>26 to 30</td>\n",
              "      <td>No</td>\n",
              "      <td>No</td>\n",
              "      <td>External</td>\n",
              "      <td>1 to 2</td>\n",
              "      <td>no change</td>\n",
              "      <td>1 vehicle</td>\n",
              "      <td>1996</td>\n",
              "      <td>Collision</td>\n",
              "    </tr>\n",
              "  </tbody>\n",
              "</table>\n",
              "<p>15419 rows × 32 columns</p>\n",
              "</div>"
            ],
            "text/plain": [
              "      Month WeekOfMonth  DayOfWeek     Make AccidentArea DayOfWeekClaimed  \\\n",
              "0       Dec           5  Wednesday    Honda        Urban          Tuesday   \n",
              "1       Jan           3  Wednesday    Honda        Urban           Monday   \n",
              "2       Oct           5     Friday    Honda        Urban         Thursday   \n",
              "3       Jun           2   Saturday   Toyota        Rural           Friday   \n",
              "4       Jan           5     Monday    Honda        Urban          Tuesday   \n",
              "...     ...         ...        ...      ...          ...              ...   \n",
              "15414   Nov           4     Friday   Toyota        Urban          Tuesday   \n",
              "15415   Nov           5   Thursday  Pontiac        Urban           Friday   \n",
              "15416   Nov           5   Thursday   Toyota        Rural           Friday   \n",
              "15417   Dec           1     Monday   Toyota        Urban         Thursday   \n",
              "15418   Dec           2  Wednesday   Toyota        Urban         Thursday   \n",
              "\n",
              "      MonthClaimed WeekOfMonthClaimed     Sex MaritalStatus  ...  \\\n",
              "0              Jan                  1  Female        Single  ...   \n",
              "1              Jan                  4    Male        Single  ...   \n",
              "2              Nov                  2    Male       Married  ...   \n",
              "3              Jul                  1    Male       Married  ...   \n",
              "4              Feb                  2  Female        Single  ...   \n",
              "...            ...                ...     ...           ...  ...   \n",
              "15414          Nov                  5    Male       Married  ...   \n",
              "15415          Dec                  1    Male       Married  ...   \n",
              "15416          Dec                  1    Male        Single  ...   \n",
              "15417          Dec                  2  Female       Married  ...   \n",
              "15418          Dec                  3    Male        Single  ...   \n",
              "\n",
              "       AgeOfVehicle AgeOfPolicyHolder PoliceReportFiled WitnessPresent  \\\n",
              "0           3 years          26 to 30                No             No   \n",
              "1           6 years          31 to 35               Yes             No   \n",
              "2           7 years          41 to 50                No             No   \n",
              "3       more than 7          51 to 65               Yes             No   \n",
              "4           5 years          31 to 35                No             No   \n",
              "...             ...               ...               ...            ...   \n",
              "15414       6 years          31 to 35                No             No   \n",
              "15415       6 years          31 to 35                No             No   \n",
              "15416       5 years          26 to 30                No             No   \n",
              "15417       2 years          31 to 35                No             No   \n",
              "15418       5 years          26 to 30                No             No   \n",
              "\n",
              "      AgentType  NumberOfSuppliments AddressChange_Claim NumberOfCars  Year  \\\n",
              "0      External                 none              1 year       3 to 4  1994   \n",
              "1      External                 none           no change    1 vehicle  1994   \n",
              "2      External                 none           no change    1 vehicle  1994   \n",
              "3      External          more than 5           no change    1 vehicle  1994   \n",
              "4      External                 none           no change    1 vehicle  1994   \n",
              "...         ...                  ...                 ...          ...   ...   \n",
              "15414  External                 none           no change    1 vehicle  1996   \n",
              "15415  External          more than 5           no change       3 to 4  1996   \n",
              "15416  External               1 to 2           no change    1 vehicle  1996   \n",
              "15417  External          more than 5           no change    1 vehicle  1996   \n",
              "15418  External               1 to 2           no change    1 vehicle  1996   \n",
              "\n",
              "       BasePolicy  \n",
              "0       Liability  \n",
              "1       Collision  \n",
              "2       Collision  \n",
              "3       Liability  \n",
              "4       Collision  \n",
              "...           ...  \n",
              "15414   Collision  \n",
              "15415   Liability  \n",
              "15416   Collision  \n",
              "15417  All Perils  \n",
              "15418   Collision  \n",
              "\n",
              "[15419 rows x 32 columns]"
            ]
          },
          "execution_count": 79,
          "metadata": {},
          "output_type": "execute_result"
        }
      ],
      "source": [
        "df"
      ]
    },
    {
      "cell_type": "markdown",
      "metadata": {
        "id": "Y_XKblhfi_f9"
      },
      "source": [
        "#### Log Transformation for Age\n"
      ]
    },
    {
      "cell_type": "code",
      "execution_count": 80,
      "metadata": {
        "colab": {
          "base_uri": "https://localhost:8080/"
        },
        "id": "b_RVK2GEjGsy",
        "outputId": "b1da011f-ce75-484a-c19d-33c91c016043"
      },
      "outputs": [
        {
          "name": "stdout",
          "output_type": "stream",
          "text": [
            "<class 'pandas.core.frame.DataFrame'>\n",
            "RangeIndex: 15419 entries, 0 to 15418\n",
            "Data columns (total 32 columns):\n",
            " #   Column                Non-Null Count  Dtype \n",
            "---  ------                --------------  ----- \n",
            " 0   Month                 15419 non-null  object\n",
            " 1   WeekOfMonth           15419 non-null  object\n",
            " 2   DayOfWeek             15419 non-null  object\n",
            " 3   Make                  15419 non-null  object\n",
            " 4   AccidentArea          15419 non-null  object\n",
            " 5   DayOfWeekClaimed      15419 non-null  object\n",
            " 6   MonthClaimed          15419 non-null  object\n",
            " 7   WeekOfMonthClaimed    15419 non-null  object\n",
            " 8   Sex                   15419 non-null  object\n",
            " 9   MaritalStatus         15419 non-null  object\n",
            " 10  Age                   15419 non-null  int64 \n",
            " 11  Fault                 15419 non-null  object\n",
            " 12  PolicyType            15419 non-null  object\n",
            " 13  VehicleCategory       15419 non-null  object\n",
            " 14  VehiclePrice          15419 non-null  object\n",
            " 15  FraudFound_P          15419 non-null  int64 \n",
            " 16  RepNumber             15419 non-null  object\n",
            " 17  Deductible            15419 non-null  object\n",
            " 18  DriverRating          15419 non-null  object\n",
            " 19  Days_Policy_Accident  15419 non-null  object\n",
            " 20  Days_Policy_Claim     15419 non-null  object\n",
            " 21  PastNumberOfClaims    15419 non-null  object\n",
            " 22  AgeOfVehicle          15419 non-null  object\n",
            " 23  AgeOfPolicyHolder     15419 non-null  object\n",
            " 24  PoliceReportFiled     15419 non-null  object\n",
            " 25  WitnessPresent        15419 non-null  object\n",
            " 26  AgentType             15419 non-null  object\n",
            " 27  NumberOfSuppliments   15419 non-null  object\n",
            " 28  AddressChange_Claim   15419 non-null  object\n",
            " 29  NumberOfCars          15419 non-null  object\n",
            " 30  Year                  15419 non-null  object\n",
            " 31  BasePolicy            15419 non-null  object\n",
            "dtypes: int64(2), object(30)\n",
            "memory usage: 3.8+ MB\n",
            "None\n"
          ]
        }
      ],
      "source": [
        "# Final check to see if all the features are in integer or float datatypes\n",
        "print(df.info())"
      ]
    },
    {
      "cell_type": "code",
      "execution_count": 81,
      "metadata": {
        "colab": {
          "base_uri": "https://localhost:8080/",
          "height": 255
        },
        "id": "2mjPBlG6jRef",
        "outputId": "ee1beed1-0734-4fdf-939e-ba41ab849fb9"
      },
      "outputs": [
        {
          "data": {
            "text/html": [
              "<div>\n",
              "<style scoped>\n",
              "    .dataframe tbody tr th:only-of-type {\n",
              "        vertical-align: middle;\n",
              "    }\n",
              "\n",
              "    .dataframe tbody tr th {\n",
              "        vertical-align: top;\n",
              "    }\n",
              "\n",
              "    .dataframe thead th {\n",
              "        text-align: right;\n",
              "    }\n",
              "</style>\n",
              "<table border=\"1\" class=\"dataframe\">\n",
              "  <thead>\n",
              "    <tr style=\"text-align: right;\">\n",
              "      <th></th>\n",
              "      <th>Month</th>\n",
              "      <th>WeekOfMonth</th>\n",
              "      <th>DayOfWeek</th>\n",
              "      <th>Make</th>\n",
              "      <th>AccidentArea</th>\n",
              "      <th>DayOfWeekClaimed</th>\n",
              "      <th>MonthClaimed</th>\n",
              "      <th>WeekOfMonthClaimed</th>\n",
              "      <th>Sex</th>\n",
              "      <th>MaritalStatus</th>\n",
              "      <th>...</th>\n",
              "      <th>AgeOfVehicle</th>\n",
              "      <th>AgeOfPolicyHolder</th>\n",
              "      <th>PoliceReportFiled</th>\n",
              "      <th>WitnessPresent</th>\n",
              "      <th>AgentType</th>\n",
              "      <th>NumberOfSuppliments</th>\n",
              "      <th>AddressChange_Claim</th>\n",
              "      <th>NumberOfCars</th>\n",
              "      <th>Year</th>\n",
              "      <th>BasePolicy</th>\n",
              "    </tr>\n",
              "  </thead>\n",
              "  <tbody>\n",
              "    <tr>\n",
              "      <th>0</th>\n",
              "      <td>Dec</td>\n",
              "      <td>5</td>\n",
              "      <td>Wednesday</td>\n",
              "      <td>Honda</td>\n",
              "      <td>Urban</td>\n",
              "      <td>Tuesday</td>\n",
              "      <td>Jan</td>\n",
              "      <td>1</td>\n",
              "      <td>Female</td>\n",
              "      <td>Single</td>\n",
              "      <td>...</td>\n",
              "      <td>3 years</td>\n",
              "      <td>26 to 30</td>\n",
              "      <td>No</td>\n",
              "      <td>No</td>\n",
              "      <td>External</td>\n",
              "      <td>none</td>\n",
              "      <td>1 year</td>\n",
              "      <td>3 to 4</td>\n",
              "      <td>1994</td>\n",
              "      <td>Liability</td>\n",
              "    </tr>\n",
              "    <tr>\n",
              "      <th>1</th>\n",
              "      <td>Jan</td>\n",
              "      <td>3</td>\n",
              "      <td>Wednesday</td>\n",
              "      <td>Honda</td>\n",
              "      <td>Urban</td>\n",
              "      <td>Monday</td>\n",
              "      <td>Jan</td>\n",
              "      <td>4</td>\n",
              "      <td>Male</td>\n",
              "      <td>Single</td>\n",
              "      <td>...</td>\n",
              "      <td>6 years</td>\n",
              "      <td>31 to 35</td>\n",
              "      <td>Yes</td>\n",
              "      <td>No</td>\n",
              "      <td>External</td>\n",
              "      <td>none</td>\n",
              "      <td>no change</td>\n",
              "      <td>1 vehicle</td>\n",
              "      <td>1994</td>\n",
              "      <td>Collision</td>\n",
              "    </tr>\n",
              "    <tr>\n",
              "      <th>2</th>\n",
              "      <td>Oct</td>\n",
              "      <td>5</td>\n",
              "      <td>Friday</td>\n",
              "      <td>Honda</td>\n",
              "      <td>Urban</td>\n",
              "      <td>Thursday</td>\n",
              "      <td>Nov</td>\n",
              "      <td>2</td>\n",
              "      <td>Male</td>\n",
              "      <td>Married</td>\n",
              "      <td>...</td>\n",
              "      <td>7 years</td>\n",
              "      <td>41 to 50</td>\n",
              "      <td>No</td>\n",
              "      <td>No</td>\n",
              "      <td>External</td>\n",
              "      <td>none</td>\n",
              "      <td>no change</td>\n",
              "      <td>1 vehicle</td>\n",
              "      <td>1994</td>\n",
              "      <td>Collision</td>\n",
              "    </tr>\n",
              "    <tr>\n",
              "      <th>3</th>\n",
              "      <td>Jun</td>\n",
              "      <td>2</td>\n",
              "      <td>Saturday</td>\n",
              "      <td>Toyota</td>\n",
              "      <td>Rural</td>\n",
              "      <td>Friday</td>\n",
              "      <td>Jul</td>\n",
              "      <td>1</td>\n",
              "      <td>Male</td>\n",
              "      <td>Married</td>\n",
              "      <td>...</td>\n",
              "      <td>more than 7</td>\n",
              "      <td>51 to 65</td>\n",
              "      <td>Yes</td>\n",
              "      <td>No</td>\n",
              "      <td>External</td>\n",
              "      <td>more than 5</td>\n",
              "      <td>no change</td>\n",
              "      <td>1 vehicle</td>\n",
              "      <td>1994</td>\n",
              "      <td>Liability</td>\n",
              "    </tr>\n",
              "    <tr>\n",
              "      <th>4</th>\n",
              "      <td>Jan</td>\n",
              "      <td>5</td>\n",
              "      <td>Monday</td>\n",
              "      <td>Honda</td>\n",
              "      <td>Urban</td>\n",
              "      <td>Tuesday</td>\n",
              "      <td>Feb</td>\n",
              "      <td>2</td>\n",
              "      <td>Female</td>\n",
              "      <td>Single</td>\n",
              "      <td>...</td>\n",
              "      <td>5 years</td>\n",
              "      <td>31 to 35</td>\n",
              "      <td>No</td>\n",
              "      <td>No</td>\n",
              "      <td>External</td>\n",
              "      <td>none</td>\n",
              "      <td>no change</td>\n",
              "      <td>1 vehicle</td>\n",
              "      <td>1994</td>\n",
              "      <td>Collision</td>\n",
              "    </tr>\n",
              "  </tbody>\n",
              "</table>\n",
              "<p>5 rows × 32 columns</p>\n",
              "</div>"
            ],
            "text/plain": [
              "  Month WeekOfMonth  DayOfWeek    Make AccidentArea DayOfWeekClaimed  \\\n",
              "0   Dec           5  Wednesday   Honda        Urban          Tuesday   \n",
              "1   Jan           3  Wednesday   Honda        Urban           Monday   \n",
              "2   Oct           5     Friday   Honda        Urban         Thursday   \n",
              "3   Jun           2   Saturday  Toyota        Rural           Friday   \n",
              "4   Jan           5     Monday   Honda        Urban          Tuesday   \n",
              "\n",
              "  MonthClaimed WeekOfMonthClaimed     Sex MaritalStatus  ...  AgeOfVehicle  \\\n",
              "0          Jan                  1  Female        Single  ...       3 years   \n",
              "1          Jan                  4    Male        Single  ...       6 years   \n",
              "2          Nov                  2    Male       Married  ...       7 years   \n",
              "3          Jul                  1    Male       Married  ...   more than 7   \n",
              "4          Feb                  2  Female        Single  ...       5 years   \n",
              "\n",
              "  AgeOfPolicyHolder PoliceReportFiled WitnessPresent AgentType  \\\n",
              "0          26 to 30                No             No  External   \n",
              "1          31 to 35               Yes             No  External   \n",
              "2          41 to 50                No             No  External   \n",
              "3          51 to 65               Yes             No  External   \n",
              "4          31 to 35                No             No  External   \n",
              "\n",
              "   NumberOfSuppliments AddressChange_Claim NumberOfCars  Year BasePolicy  \n",
              "0                 none              1 year       3 to 4  1994  Liability  \n",
              "1                 none           no change    1 vehicle  1994  Collision  \n",
              "2                 none           no change    1 vehicle  1994  Collision  \n",
              "3          more than 5           no change    1 vehicle  1994  Liability  \n",
              "4                 none           no change    1 vehicle  1994  Collision  \n",
              "\n",
              "[5 rows x 32 columns]"
            ]
          },
          "execution_count": 81,
          "metadata": {},
          "output_type": "execute_result"
        }
      ],
      "source": [
        "df.head()\n"
      ]
    },
    {
      "cell_type": "code",
      "execution_count": 82,
      "metadata": {
        "colab": {
          "base_uri": "https://localhost:8080/"
        },
        "id": "JDQ92cGJCZen",
        "outputId": "0f816608-cda8-4a9d-e8f9-dc49d6dcd0f3"
      },
      "outputs": [
        {
          "name": "stdout",
          "output_type": "stream",
          "text": [
            "<class 'pandas.core.frame.DataFrame'>\n",
            "RangeIndex: 15419 entries, 0 to 15418\n",
            "Data columns (total 32 columns):\n",
            " #   Column                Non-Null Count  Dtype \n",
            "---  ------                --------------  ----- \n",
            " 0   Month                 15419 non-null  object\n",
            " 1   WeekOfMonth           15419 non-null  object\n",
            " 2   DayOfWeek             15419 non-null  object\n",
            " 3   Make                  15419 non-null  object\n",
            " 4   AccidentArea          15419 non-null  object\n",
            " 5   DayOfWeekClaimed      15419 non-null  object\n",
            " 6   MonthClaimed          15419 non-null  object\n",
            " 7   WeekOfMonthClaimed    15419 non-null  object\n",
            " 8   Sex                   15419 non-null  object\n",
            " 9   MaritalStatus         15419 non-null  object\n",
            " 10  Age                   15419 non-null  int64 \n",
            " 11  Fault                 15419 non-null  object\n",
            " 12  PolicyType            15419 non-null  object\n",
            " 13  VehicleCategory       15419 non-null  object\n",
            " 14  VehiclePrice          15419 non-null  object\n",
            " 15  FraudFound_P          15419 non-null  int64 \n",
            " 16  RepNumber             15419 non-null  object\n",
            " 17  Deductible            15419 non-null  object\n",
            " 18  DriverRating          15419 non-null  object\n",
            " 19  Days_Policy_Accident  15419 non-null  object\n",
            " 20  Days_Policy_Claim     15419 non-null  object\n",
            " 21  PastNumberOfClaims    15419 non-null  object\n",
            " 22  AgeOfVehicle          15419 non-null  object\n",
            " 23  AgeOfPolicyHolder     15419 non-null  object\n",
            " 24  PoliceReportFiled     15419 non-null  object\n",
            " 25  WitnessPresent        15419 non-null  object\n",
            " 26  AgentType             15419 non-null  object\n",
            " 27  NumberOfSuppliments   15419 non-null  object\n",
            " 28  AddressChange_Claim   15419 non-null  object\n",
            " 29  NumberOfCars          15419 non-null  object\n",
            " 30  Year                  15419 non-null  object\n",
            " 31  BasePolicy            15419 non-null  object\n",
            "dtypes: int64(2), object(30)\n",
            "memory usage: 3.8+ MB\n"
          ]
        }
      ],
      "source": [
        "df.info()"
      ]
    },
    {
      "cell_type": "code",
      "execution_count": 83,
      "metadata": {
        "colab": {
          "base_uri": "https://localhost:8080/"
        },
        "id": "aFaWOGEkOSRX",
        "outputId": "422b77d7-b75a-4bd7-a4b4-37ec82d95e94"
      },
      "outputs": [
        {
          "data": {
            "text/plain": [
              "array(['more than 69000', '20000 to 29000', '30000 to 39000',\n",
              "       'less than 20000', '40000 to 59000', '60000 to 69000'],\n",
              "      dtype=object)"
            ]
          },
          "execution_count": 83,
          "metadata": {},
          "output_type": "execute_result"
        }
      ],
      "source": [
        "df.VehiclePrice.unique()"
      ]
    },
    {
      "cell_type": "markdown",
      "metadata": {
        "id": "LHVnpbmKIBQR"
      },
      "source": [
        "#### Label Encoding"
      ]
    },
    {
      "cell_type": "code",
      "execution_count": 84,
      "metadata": {
        "id": "EmJo2_JxHGpQ"
      },
      "outputs": [],
      "source": [
        "# Columns to convert\n",
        "columns_to_convert = ['RepNumber', 'Deductible']\n",
        "\n",
        "for col in columns_to_convert:\n",
        "    # Convert to numeric, replacing invalid values with NaN\n",
        "    df[col] = pd.to_numeric(df[col], errors='coerce')\n"
      ]
    },
    {
      "cell_type": "code",
      "execution_count": 85,
      "metadata": {
        "colab": {
          "base_uri": "https://localhost:8080/"
        },
        "id": "UzP2WkJoHtWi",
        "outputId": "cfb18441-6cb7-41b2-fb8e-2f7b69a0de6b"
      },
      "outputs": [
        {
          "name": "stdout",
          "output_type": "stream",
          "text": [
            "<class 'pandas.core.frame.DataFrame'>\n",
            "RangeIndex: 15419 entries, 0 to 15418\n",
            "Data columns (total 27 columns):\n",
            " #   Column                Non-Null Count  Dtype\n",
            "---  ------                --------------  -----\n",
            " 0   AccidentArea          15419 non-null  int32\n",
            " 1   Sex                   15419 non-null  int32\n",
            " 2   MaritalStatus         15419 non-null  int32\n",
            " 3   Fault                 15419 non-null  int32\n",
            " 4   PolicyType            15419 non-null  int32\n",
            " 5   VehicleCategory       15419 non-null  int32\n",
            " 6   Make                  15419 non-null  int32\n",
            " 7   DriverRating          15419 non-null  int32\n",
            " 8   Days_Policy_Accident  15419 non-null  int32\n",
            " 9   Days_Policy_Claim     15419 non-null  int32\n",
            " 10  PoliceReportFiled     15419 non-null  int32\n",
            " 11  WitnessPresent        15419 non-null  int32\n",
            " 12  VehiclePrice          15419 non-null  int32\n",
            " 13  AgentType             15419 non-null  int32\n",
            " 14  AddressChange_Claim   15419 non-null  int32\n",
            " 15  PastNumberOfClaims    15419 non-null  int32\n",
            " 16  NumberOfSuppliments   15419 non-null  int32\n",
            " 17  NumberOfCars          15419 non-null  int32\n",
            " 18  Year                  15419 non-null  int32\n",
            " 19  BasePolicy            15419 non-null  int32\n",
            " 20  Month                 15419 non-null  int32\n",
            " 21  AgeOfVehicle          15419 non-null  int32\n",
            " 22  AgeOfPolicyHolder     15419 non-null  int32\n",
            " 23  Age                   15419 non-null  int64\n",
            " 24  FraudFound_P          15419 non-null  int64\n",
            " 25  RepNumber             15419 non-null  int64\n",
            " 26  Deductible            15419 non-null  int64\n",
            "dtypes: int32(23), int64(4)\n",
            "memory usage: 1.8 MB\n",
            "None\n"
          ]
        }
      ],
      "source": [
        "from sklearn.preprocessing import LabelEncoder\n",
        "\n",
        "# Keep a copy of the original DataFrame with the categorical columns\n",
        "df_categorical = df[['AccidentArea', 'Sex', 'MaritalStatus', 'Fault', 'PolicyType', 'VehicleCategory', 'Make','DriverRating',\n",
        "                     'Days_Policy_Accident', 'Days_Policy_Claim', 'PoliceReportFiled', 'WitnessPresent','VehiclePrice',\n",
        "                     'AgentType', 'AddressChange_Claim', 'PastNumberOfClaims','NumberOfSuppliments','NumberOfCars', 'Year', 'BasePolicy', 'Month', 'AgeOfVehicle','AgeOfPolicyHolder']].copy()\n",
        "\n",
        "# Initialize LabelEncoder\n",
        "label_encoder = LabelEncoder()\n",
        "\n",
        "\n",
        "# Apply LabelEncoder to each categorical column\n",
        "for column in df_categorical.columns:\n",
        "    df_categorical[column] = label_encoder.fit_transform(df_categorical[column])\n",
        "\n",
        "# Concatenate the label encoded DataFrame with the original numerical columns\n",
        "df_final = pd.concat([df_categorical, df.select_dtypes(exclude=['object'])], axis=1)\n",
        "\n",
        "# Final check to see if all the features are in integer or float datatypes after encoding\n",
        "print(df_final.info())\n"
      ]
    },
    {
      "cell_type": "code",
      "execution_count": 86,
      "metadata": {
        "colab": {
          "base_uri": "https://localhost:8080/"
        },
        "id": "h5yoDjYXHzMy",
        "outputId": "07701813-22f5-4dbb-90e4-dcd3276ec5a4"
      },
      "outputs": [
        {
          "data": {
            "text/plain": [
              "Index(['AccidentArea', 'Sex', 'MaritalStatus', 'Fault', 'PolicyType',\n",
              "       'VehicleCategory', 'Make', 'DriverRating', 'Days_Policy_Accident',\n",
              "       'Days_Policy_Claim', 'PoliceReportFiled', 'WitnessPresent',\n",
              "       'VehiclePrice', 'AgentType', 'AddressChange_Claim',\n",
              "       'PastNumberOfClaims', 'NumberOfSuppliments', 'NumberOfCars', 'Year',\n",
              "       'BasePolicy', 'Month', 'AgeOfVehicle', 'AgeOfPolicyHolder', 'Age',\n",
              "       'FraudFound_P', 'RepNumber', 'Deductible'],\n",
              "      dtype='object')"
            ]
          },
          "execution_count": 86,
          "metadata": {},
          "output_type": "execute_result"
        }
      ],
      "source": [
        "df_final.columns"
      ]
    },
    {
      "cell_type": "code",
      "execution_count": 87,
      "metadata": {
        "colab": {
          "base_uri": "https://localhost:8080/",
          "height": 255
        },
        "id": "hkPN3n_GINQl",
        "outputId": "4bfa1b60-8713-41d2-e4ba-68474424785f"
      },
      "outputs": [
        {
          "data": {
            "text/html": [
              "<div>\n",
              "<style scoped>\n",
              "    .dataframe tbody tr th:only-of-type {\n",
              "        vertical-align: middle;\n",
              "    }\n",
              "\n",
              "    .dataframe tbody tr th {\n",
              "        vertical-align: top;\n",
              "    }\n",
              "\n",
              "    .dataframe thead th {\n",
              "        text-align: right;\n",
              "    }\n",
              "</style>\n",
              "<table border=\"1\" class=\"dataframe\">\n",
              "  <thead>\n",
              "    <tr style=\"text-align: right;\">\n",
              "      <th></th>\n",
              "      <th>AccidentArea</th>\n",
              "      <th>Sex</th>\n",
              "      <th>MaritalStatus</th>\n",
              "      <th>Fault</th>\n",
              "      <th>PolicyType</th>\n",
              "      <th>VehicleCategory</th>\n",
              "      <th>Make</th>\n",
              "      <th>DriverRating</th>\n",
              "      <th>Days_Policy_Accident</th>\n",
              "      <th>Days_Policy_Claim</th>\n",
              "      <th>...</th>\n",
              "      <th>NumberOfCars</th>\n",
              "      <th>Year</th>\n",
              "      <th>BasePolicy</th>\n",
              "      <th>Month</th>\n",
              "      <th>AgeOfVehicle</th>\n",
              "      <th>AgeOfPolicyHolder</th>\n",
              "      <th>Age</th>\n",
              "      <th>FraudFound_P</th>\n",
              "      <th>RepNumber</th>\n",
              "      <th>Deductible</th>\n",
              "    </tr>\n",
              "  </thead>\n",
              "  <tbody>\n",
              "    <tr>\n",
              "      <th>0</th>\n",
              "      <td>1</td>\n",
              "      <td>0</td>\n",
              "      <td>2</td>\n",
              "      <td>0</td>\n",
              "      <td>1</td>\n",
              "      <td>1</td>\n",
              "      <td>6</td>\n",
              "      <td>0</td>\n",
              "      <td>3</td>\n",
              "      <td>2</td>\n",
              "      <td>...</td>\n",
              "      <td>2</td>\n",
              "      <td>0</td>\n",
              "      <td>2</td>\n",
              "      <td>2</td>\n",
              "      <td>1</td>\n",
              "      <td>3</td>\n",
              "      <td>21</td>\n",
              "      <td>0</td>\n",
              "      <td>12</td>\n",
              "      <td>300</td>\n",
              "    </tr>\n",
              "    <tr>\n",
              "      <th>1</th>\n",
              "      <td>1</td>\n",
              "      <td>1</td>\n",
              "      <td>2</td>\n",
              "      <td>0</td>\n",
              "      <td>1</td>\n",
              "      <td>1</td>\n",
              "      <td>6</td>\n",
              "      <td>3</td>\n",
              "      <td>3</td>\n",
              "      <td>2</td>\n",
              "      <td>...</td>\n",
              "      <td>0</td>\n",
              "      <td>0</td>\n",
              "      <td>1</td>\n",
              "      <td>4</td>\n",
              "      <td>4</td>\n",
              "      <td>4</td>\n",
              "      <td>34</td>\n",
              "      <td>0</td>\n",
              "      <td>15</td>\n",
              "      <td>400</td>\n",
              "    </tr>\n",
              "    <tr>\n",
              "      <th>2</th>\n",
              "      <td>1</td>\n",
              "      <td>1</td>\n",
              "      <td>1</td>\n",
              "      <td>0</td>\n",
              "      <td>1</td>\n",
              "      <td>1</td>\n",
              "      <td>6</td>\n",
              "      <td>2</td>\n",
              "      <td>3</td>\n",
              "      <td>2</td>\n",
              "      <td>...</td>\n",
              "      <td>0</td>\n",
              "      <td>0</td>\n",
              "      <td>1</td>\n",
              "      <td>10</td>\n",
              "      <td>5</td>\n",
              "      <td>6</td>\n",
              "      <td>47</td>\n",
              "      <td>0</td>\n",
              "      <td>7</td>\n",
              "      <td>400</td>\n",
              "    </tr>\n",
              "    <tr>\n",
              "      <th>3</th>\n",
              "      <td>0</td>\n",
              "      <td>1</td>\n",
              "      <td>1</td>\n",
              "      <td>1</td>\n",
              "      <td>0</td>\n",
              "      <td>1</td>\n",
              "      <td>17</td>\n",
              "      <td>1</td>\n",
              "      <td>3</td>\n",
              "      <td>2</td>\n",
              "      <td>...</td>\n",
              "      <td>0</td>\n",
              "      <td>0</td>\n",
              "      <td>2</td>\n",
              "      <td>6</td>\n",
              "      <td>6</td>\n",
              "      <td>7</td>\n",
              "      <td>65</td>\n",
              "      <td>0</td>\n",
              "      <td>4</td>\n",
              "      <td>400</td>\n",
              "    </tr>\n",
              "    <tr>\n",
              "      <th>4</th>\n",
              "      <td>1</td>\n",
              "      <td>0</td>\n",
              "      <td>2</td>\n",
              "      <td>1</td>\n",
              "      <td>1</td>\n",
              "      <td>1</td>\n",
              "      <td>6</td>\n",
              "      <td>0</td>\n",
              "      <td>3</td>\n",
              "      <td>2</td>\n",
              "      <td>...</td>\n",
              "      <td>0</td>\n",
              "      <td>0</td>\n",
              "      <td>1</td>\n",
              "      <td>4</td>\n",
              "      <td>3</td>\n",
              "      <td>4</td>\n",
              "      <td>27</td>\n",
              "      <td>0</td>\n",
              "      <td>3</td>\n",
              "      <td>400</td>\n",
              "    </tr>\n",
              "  </tbody>\n",
              "</table>\n",
              "<p>5 rows × 27 columns</p>\n",
              "</div>"
            ],
            "text/plain": [
              "   AccidentArea  Sex  MaritalStatus  Fault  PolicyType  VehicleCategory  Make  \\\n",
              "0             1    0              2      0           1                1     6   \n",
              "1             1    1              2      0           1                1     6   \n",
              "2             1    1              1      0           1                1     6   \n",
              "3             0    1              1      1           0                1    17   \n",
              "4             1    0              2      1           1                1     6   \n",
              "\n",
              "   DriverRating  Days_Policy_Accident  Days_Policy_Claim  ...  NumberOfCars  \\\n",
              "0             0                     3                  2  ...             2   \n",
              "1             3                     3                  2  ...             0   \n",
              "2             2                     3                  2  ...             0   \n",
              "3             1                     3                  2  ...             0   \n",
              "4             0                     3                  2  ...             0   \n",
              "\n",
              "   Year  BasePolicy  Month  AgeOfVehicle  AgeOfPolicyHolder  Age  \\\n",
              "0     0           2      2             1                  3   21   \n",
              "1     0           1      4             4                  4   34   \n",
              "2     0           1     10             5                  6   47   \n",
              "3     0           2      6             6                  7   65   \n",
              "4     0           1      4             3                  4   27   \n",
              "\n",
              "   FraudFound_P  RepNumber  Deductible  \n",
              "0             0         12         300  \n",
              "1             0         15         400  \n",
              "2             0          7         400  \n",
              "3             0          4         400  \n",
              "4             0          3         400  \n",
              "\n",
              "[5 rows x 27 columns]"
            ]
          },
          "execution_count": 87,
          "metadata": {},
          "output_type": "execute_result"
        }
      ],
      "source": [
        "df_final.head()"
      ]
    },
    {
      "cell_type": "markdown",
      "metadata": {
        "id": "Nk7cCdAHjfO6"
      },
      "source": [
        "Dataset is pre-processed and now ready for machine learning. The dataset is export out as a csv for usage in machine learning.\n",
        "\n"
      ]
    },
    {
      "cell_type": "code",
      "execution_count": 88,
      "metadata": {
        "id": "5qTQRy6CEpT9"
      },
      "outputs": [],
      "source": [
        "df_final.to_csv('ML_preprocessed.csv')"
      ]
    },
    {
      "cell_type": "markdown",
      "metadata": {
        "id": "pajhG-kylOaI"
      },
      "source": [
        "### 6. Model Training"
      ]
    },
    {
      "cell_type": "markdown",
      "metadata": {
        "id": "0uX966pRlh98"
      },
      "source": [
        "In this section, we will train the dataset using several classification algorithms:\n",
        "\n",
        "Logistic Regression,\n",
        "K-Nearest Neighbour,\n",
        "Random Forest,\n",
        "XGBoost\n",
        "\n",
        "The best model that suits the business problem based on the metrics - Recall, ROC AUC and Precision-Recall Curve will be selected for hyperparameter tuning.\n",
        "\n",
        "We will adjust the class weights to deal with this set of imbalanced dataset."
      ]
    },
    {
      "cell_type": "code",
      "execution_count": 89,
      "metadata": {
        "colab": {
          "base_uri": "https://localhost:8080/"
        },
        "id": "HUPbfZL1asmX",
        "outputId": "596da61e-bdf3-4942-8d8b-8b1b6b31a5c9"
      },
      "outputs": [
        {
          "name": "stdout",
          "output_type": "stream",
          "text": [
            "<class 'pandas.core.frame.DataFrame'>\n",
            "RangeIndex: 15419 entries, 0 to 15418\n",
            "Data columns (total 27 columns):\n",
            " #   Column                Non-Null Count  Dtype\n",
            "---  ------                --------------  -----\n",
            " 0   AccidentArea          15419 non-null  int32\n",
            " 1   Sex                   15419 non-null  int32\n",
            " 2   MaritalStatus         15419 non-null  int32\n",
            " 3   Fault                 15419 non-null  int32\n",
            " 4   PolicyType            15419 non-null  int32\n",
            " 5   VehicleCategory       15419 non-null  int32\n",
            " 6   Make                  15419 non-null  int32\n",
            " 7   DriverRating          15419 non-null  int32\n",
            " 8   Days_Policy_Accident  15419 non-null  int32\n",
            " 9   Days_Policy_Claim     15419 non-null  int32\n",
            " 10  PoliceReportFiled     15419 non-null  int32\n",
            " 11  WitnessPresent        15419 non-null  int32\n",
            " 12  VehiclePrice          15419 non-null  int32\n",
            " 13  AgentType             15419 non-null  int32\n",
            " 14  AddressChange_Claim   15419 non-null  int32\n",
            " 15  PastNumberOfClaims    15419 non-null  int32\n",
            " 16  NumberOfSuppliments   15419 non-null  int32\n",
            " 17  NumberOfCars          15419 non-null  int32\n",
            " 18  Year                  15419 non-null  int32\n",
            " 19  BasePolicy            15419 non-null  int32\n",
            " 20  Month                 15419 non-null  int32\n",
            " 21  AgeOfVehicle          15419 non-null  int32\n",
            " 22  AgeOfPolicyHolder     15419 non-null  int32\n",
            " 23  Age                   15419 non-null  int64\n",
            " 24  FraudFound_P          15419 non-null  int64\n",
            " 25  RepNumber             15419 non-null  int64\n",
            " 26  Deductible            15419 non-null  int64\n",
            "dtypes: int32(23), int64(4)\n",
            "memory usage: 1.8 MB\n"
          ]
        }
      ],
      "source": [
        "df_final.info()"
      ]
    },
    {
      "cell_type": "code",
      "execution_count": 90,
      "metadata": {
        "id": "t5U16Pq7HQ8R"
      },
      "outputs": [],
      "source": [
        "# Define X and y dataset for Machine Learning\n",
        "X = df_final.drop(['FraudFound_P','Age'], axis=1)\n",
        "y = df_final['FraudFound_P']"
      ]
    },
    {
      "cell_type": "code",
      "execution_count": 91,
      "metadata": {
        "colab": {
          "base_uri": "https://localhost:8080/"
        },
        "id": "pls0adD50tuB",
        "outputId": "c6ae584e-c0df-4821-ec5e-1373f7159689"
      },
      "outputs": [
        {
          "data": {
            "text/plain": [
              "Index(['AccidentArea', 'Sex', 'MaritalStatus', 'Fault', 'PolicyType',\n",
              "       'VehicleCategory', 'Make', 'DriverRating', 'Days_Policy_Accident',\n",
              "       'Days_Policy_Claim', 'PoliceReportFiled', 'WitnessPresent',\n",
              "       'VehiclePrice', 'AgentType', 'AddressChange_Claim',\n",
              "       'PastNumberOfClaims', 'NumberOfSuppliments', 'NumberOfCars', 'Year',\n",
              "       'BasePolicy', 'Month', 'AgeOfVehicle', 'AgeOfPolicyHolder', 'RepNumber',\n",
              "       'Deductible'],\n",
              "      dtype='object')"
            ]
          },
          "execution_count": 91,
          "metadata": {},
          "output_type": "execute_result"
        }
      ],
      "source": [
        "X.columns"
      ]
    },
    {
      "cell_type": "code",
      "execution_count": 92,
      "metadata": {
        "colab": {
          "base_uri": "https://localhost:8080/",
          "height": 868
        },
        "id": "E0yEyqzXOEj8",
        "outputId": "ee328faa-af5a-459a-eaf3-9e6155563c8c"
      },
      "outputs": [
        {
          "data": {
            "text/plain": [
              "AccidentArea            0\n",
              "Sex                     0\n",
              "MaritalStatus           0\n",
              "Fault                   0\n",
              "PolicyType              0\n",
              "VehicleCategory         0\n",
              "Make                    0\n",
              "DriverRating            0\n",
              "Days_Policy_Accident    0\n",
              "Days_Policy_Claim       0\n",
              "PoliceReportFiled       0\n",
              "WitnessPresent          0\n",
              "VehiclePrice            0\n",
              "AgentType               0\n",
              "AddressChange_Claim     0\n",
              "PastNumberOfClaims      0\n",
              "NumberOfSuppliments     0\n",
              "NumberOfCars            0\n",
              "Year                    0\n",
              "BasePolicy              0\n",
              "Month                   0\n",
              "AgeOfVehicle            0\n",
              "AgeOfPolicyHolder       0\n",
              "RepNumber               0\n",
              "Deductible              0\n",
              "dtype: int64"
            ]
          },
          "execution_count": 92,
          "metadata": {},
          "output_type": "execute_result"
        }
      ],
      "source": [
        "X.isna().sum()"
      ]
    },
    {
      "cell_type": "code",
      "execution_count": 93,
      "metadata": {
        "colab": {
          "base_uri": "https://localhost:8080/",
          "height": 458
        },
        "id": "-NsbolzlcbVz",
        "outputId": "a1123a46-2c55-4b29-a392-697294cf892d"
      },
      "outputs": [
        {
          "data": {
            "text/plain": [
              "0        0\n",
              "1        0\n",
              "2        0\n",
              "3        0\n",
              "4        0\n",
              "        ..\n",
              "15414    1\n",
              "15415    0\n",
              "15416    1\n",
              "15417    0\n",
              "15418    1\n",
              "Name: FraudFound_P, Length: 15419, dtype: int64"
            ]
          },
          "execution_count": 93,
          "metadata": {},
          "output_type": "execute_result"
        }
      ],
      "source": [
        "y"
      ]
    },
    {
      "cell_type": "code",
      "execution_count": 94,
      "metadata": {
        "id": "8Ws9Jdm4HQ8R"
      },
      "outputs": [],
      "source": [
        "#Split the dataset into training and testing sets\n",
        "X_train, X_test, y_train, y_test = train_test_split(X, y, test_size=0.2, random_state=42)\n",
        "\n",
        "#Apply SMOTE to balance the training data\n",
        "smote = SMOTE(random_state=42)\n",
        "X_train_resampled, y_train_resampled = smote.fit_resample(X_train, y_train)"
      ]
    },
    {
      "cell_type": "code",
      "execution_count": 95,
      "metadata": {
        "colab": {
          "base_uri": "https://localhost:8080/"
        },
        "id": "4nIUHpNYEwBd",
        "outputId": "7e4eee80-1821-43cc-9507-7dc5cc2412fb"
      },
      "outputs": [
        {
          "name": "stdout",
          "output_type": "stream",
          "text": [
            "Column names in the preprocessed training data:\n",
            "Index(['AccidentArea', 'Sex', 'MaritalStatus', 'Fault', 'PolicyType',\n",
            "       'VehicleCategory', 'Make', 'DriverRating', 'Days_Policy_Accident',\n",
            "       'Days_Policy_Claim', 'PoliceReportFiled', 'WitnessPresent',\n",
            "       'VehiclePrice', 'AgentType', 'AddressChange_Claim',\n",
            "       'PastNumberOfClaims', 'NumberOfSuppliments', 'NumberOfCars', 'Year',\n",
            "       'BasePolicy', 'Month', 'AgeOfVehicle', 'AgeOfPolicyHolder', 'RepNumber',\n",
            "       'Deductible'],\n",
            "      dtype='object')\n",
            "Column names in the preprocessed test data:\n",
            "Index(['AccidentArea', 'Sex', 'MaritalStatus', 'Fault', 'PolicyType',\n",
            "       'VehicleCategory', 'Make', 'DriverRating', 'Days_Policy_Accident',\n",
            "       'Days_Policy_Claim', 'PoliceReportFiled', 'WitnessPresent',\n",
            "       'VehiclePrice', 'AgentType', 'AddressChange_Claim',\n",
            "       'PastNumberOfClaims', 'NumberOfSuppliments', 'NumberOfCars', 'Year',\n",
            "       'BasePolicy', 'Month', 'AgeOfVehicle', 'AgeOfPolicyHolder', 'RepNumber',\n",
            "       'Deductible'],\n",
            "      dtype='object')\n",
            "The column names in the preprocessed training data and the preprocessed test data are identical.\n"
          ]
        }
      ],
      "source": [
        "import pandas as pd\n",
        "\n",
        "# Assuming 'df_train' is your preprocessed training data DataFrame and 'df_test' is your preprocessed test data DataFrame\n",
        "\n",
        "# Check column names in the preprocessed training data\n",
        "print(\"Column names in the preprocessed training data:\")\n",
        "print(X_train.columns)\n",
        "\n",
        "# Check column names in the preprocessed test data\n",
        "print(\"Column names in the preprocessed test data:\")\n",
        "print(X_test.columns)\n",
        "\n",
        "# Get sets of column names for training and test data\n",
        "train_columns = set(X_train.columns)\n",
        "test_columns = set(X_test.columns)\n",
        "\n",
        "# Check for any differences\n",
        "difference = train_columns.symmetric_difference(test_columns)\n",
        "\n",
        "if len(difference) == 0:\n",
        "    print(\"The column names in the preprocessed training data and the preprocessed test data are identical.\")\n",
        "else:\n",
        "    print(\"There are differences in column names between the preprocessed training data and the preprocessed test data:\")\n",
        "    print(\"Columns present in the preprocessed training data but not in the preprocessed test data:\", train_columns - test_columns)\n",
        "    print(\"Columns present in the preprocessed test data but not in the preprocessed training data:\", test_columns - train_columns)\n"
      ]
    },
    {
      "cell_type": "code",
      "execution_count": null,
      "metadata": {},
      "outputs": [],
      "source": []
    },
    {
      "cell_type": "code",
      "execution_count": 97,
      "metadata": {
        "id": "a2Eizj8jHQ8S"
      },
      "outputs": [],
      "source": [
        "# Train classifiers\n",
        "classifiers = {\n",
        "    'KNN': KNeighborsClassifier(),\n",
        "    'Logistic Regression': LogisticRegression(),\n",
        "    'Random Forest': RandomForestClassifier(),\n",
        "    #'XGBoost': XGBClassifier()\n",
        "}\n",
        "\n",
        "trained_models = {}\n",
        "for name, clf in classifiers.items():\n",
        "    clf.fit(X_train_resampled, y_train_resampled)\n",
        "    trained_models[name] = clf"
      ]
    },
    {
      "cell_type": "code",
      "execution_count": 98,
      "metadata": {
        "colab": {
          "base_uri": "https://localhost:8080/"
        },
        "id": "tW-aI6QUHQ8T",
        "outputId": "2ea81e0c-38ab-4f70-9bca-8261b1dde3a3"
      },
      "outputs": [
        {
          "name": "stdout",
          "output_type": "stream",
          "text": [
            "Classification Report for KNN:\n",
            "              precision    recall  f1-score   support\n",
            "\n",
            "           0       0.94      0.77      0.85      2885\n",
            "           1       0.09      0.33      0.14       199\n",
            "\n",
            "    accuracy                           0.74      3084\n",
            "   macro avg       0.52      0.55      0.49      3084\n",
            "weighted avg       0.89      0.74      0.80      3084\n",
            "\n",
            "\n",
            "Classification Report for Logistic Regression:\n",
            "              precision    recall  f1-score   support\n",
            "\n",
            "           0       0.96      0.78      0.86      2885\n",
            "           1       0.14      0.54      0.23       199\n",
            "\n",
            "    accuracy                           0.76      3084\n",
            "   macro avg       0.55      0.66      0.54      3084\n",
            "weighted avg       0.91      0.76      0.82      3084\n",
            "\n",
            "\n",
            "Classification Report for Random Forest:\n",
            "              precision    recall  f1-score   support\n",
            "\n",
            "           0       0.95      0.95      0.95      2885\n",
            "           1       0.25      0.24      0.24       199\n",
            "\n",
            "    accuracy                           0.90      3084\n",
            "   macro avg       0.60      0.60      0.60      3084\n",
            "weighted avg       0.90      0.90      0.90      3084\n",
            "\n",
            "\n"
          ]
        }
      ],
      "source": [
        "# Evaluate classifiers on testing data\n",
        "for name, clf in trained_models.items():\n",
        "    y_pred = clf.predict(X_test)\n",
        "    print(f\"Classification Report for {name}:\")\n",
        "    print(classification_report(y_test, y_pred))\n",
        "    print()"
      ]
    },
    {
      "cell_type": "code",
      "execution_count": 99,
      "metadata": {
        "colab": {
          "base_uri": "https://localhost:8080/"
        },
        "id": "mnKJ0315HQ8T",
        "outputId": "d02d3944-03e2-49e4-be58-fb82b6ff16de"
      },
      "outputs": [
        {
          "name": "stdout",
          "output_type": "stream",
          "text": [
            "                     Accuracy  Recall  Precision  AUC Score\n",
            "KNN                      0.74    0.33       0.09       0.56\n",
            "Logistic Regression      0.76    0.54       0.14       0.76\n",
            "Random Forest            0.90    0.24       0.25       0.80\n"
          ]
        }
      ],
      "source": [
        "# Evaluating the models\n",
        "metrics = {}\n",
        "for name, clf in trained_models.items():\n",
        "    y_pred = clf.predict(X_test)\n",
        "    accuracy = accuracy_score(y_test, y_pred)\n",
        "    recall = recall_score(y_test, y_pred)\n",
        "    precision = precision_score(y_test, y_pred)\n",
        "    auc_score = roc_auc_score(y_test, clf.predict_proba(X_test)[:, 1])  # Assuming binary classification\n",
        "\n",
        "    metrics[name] = {\n",
        "        'Accuracy': accuracy,\n",
        "        'Recall': recall,\n",
        "        'Precision': precision,\n",
        "        'AUC Score': auc_score\n",
        "    }\n",
        "\n",
        "# Create DataFrame\n",
        "metrics_df = pd.DataFrame(metrics)\n",
        "\n",
        "# Transpose the DataFrame for a better view\n",
        "metrics_df = metrics_df.T\n",
        "\n",
        "# Print the DataFrame\n",
        "print(metrics_df)"
      ]
    },
    {
      "cell_type": "markdown",
      "metadata": {
        "id": "zC07dvRqHQ8U"
      },
      "source": [
        "Since, Logistic regression and KNN have the highest recall, we will proceed to optimize the models. We chose recall as our evaluation metric, since our data is highly imbalanced and recall will be able to give a better representation of the identification of the actual positives(fraud cases)."
      ]
    },
    {
      "cell_type": "markdown",
      "metadata": {
        "id": "wTe6uNwKHQ8U"
      },
      "source": [
        "#### Hyperparameter Tuning for LR & KNN"
      ]
    },
    {
      "cell_type": "code",
      "execution_count": null,
      "metadata": {
        "colab": {
          "base_uri": "https://localhost:8080/"
        },
        "id": "4kvJZUlhHQ8V",
        "outputId": "461bf15d-9750-42cb-b4a5-4ad70b8a2982"
      },
      "outputs": [],
      "source": [
        "# Define parameter grid for LR and KNN\n",
        "param_grid_lr = {\n",
        "    'C': [0.001, 0.01, 0.1, 1, 10, 100],  # Regularization parameter\n",
        "    'solver': ['liblinear', 'lbfgs']\n",
        "}\n",
        "\n",
        "param_grid_knn = {\n",
        "    'n_neighbors': [3, 5, 7, 9],  # Number of neighbors\n",
        "    'weights': ['uniform', 'distance'],\n",
        "    'metric': ['euclidean', 'manhattan']\n",
        "}\n",
        "\n",
        "# Perform GridSearchCV for LR\n",
        "lr_grid_search = GridSearchCV(LogisticRegression(), param_grid_lr, cv=5, scoring='recall')\n",
        "lr_grid_search.fit(X_train, y_train)\n",
        "\n",
        "# Perform GridSearchCV for KNN\n",
        "knn_grid_search = GridSearchCV(KNeighborsClassifier(), param_grid_knn, cv=5, scoring='recall')\n",
        "knn_grid_search.fit(X_train, y_train)\n",
        "\n",
        "# Print best parameters found for LR and KNN\n",
        "print(\"Best parameters for Logistic Regression:\", lr_grid_search.best_params_)\n",
        "print(\"Best parameters for K-Nearest Neighbors:\", knn_grid_search.best_params_)\n",
        "\n"
      ]
    },
    {
      "cell_type": "code",
      "execution_count": null,
      "metadata": {
        "id": "6yjunFskHQ8V"
      },
      "outputs": [],
      "source": [
        "# Get best LR and KNN models\n",
        "best_lr_model = lr_grid_search.best_estimator_\n",
        "best_knn_model = knn_grid_search.best_estimator_\n"
      ]
    },
    {
      "cell_type": "code",
      "execution_count": null,
      "metadata": {
        "colab": {
          "base_uri": "https://localhost:8080/"
        },
        "id": "SRypqG01HQ8X",
        "outputId": "f775cd0a-1b10-4e00-98ae-4d134e6893aa"
      },
      "outputs": [],
      "source": [
        "# Evaluate best LR and KNN models on testing data using classification report\n",
        "print(\"Logistic Regression:\")\n",
        "y_pred_lr = best_lr_model.predict(X_test)\n",
        "print(classification_report(y_test, y_pred_lr))\n",
        "\n",
        "print(\"K-Nearest Neighbors:\")\n",
        "y_pred_knn = best_knn_model.predict(X_test)\n",
        "print(classification_report(y_test, y_pred_knn))"
      ]
    },
    {
      "cell_type": "markdown",
      "metadata": {
        "id": "jx5hnySpHQ8Z"
      },
      "source": [
        "#### Comparing the Evaluation Metrics for LR & KNN after Optimization"
      ]
    },
    {
      "cell_type": "code",
      "execution_count": null,
      "metadata": {
        "colab": {
          "base_uri": "https://localhost:8080/"
        },
        "id": "XKOi9f8rHQ8Z",
        "outputId": "26fa05a4-5d77-4255-a533-329d1635732a"
      },
      "outputs": [],
      "source": [
        "# Adjust classification threshold for LR and KNN\n",
        "threshold = 0.4  # Example threshold\n",
        "y_pred_lr_threshold = (best_lr_model.predict_proba(X_test)[:,1] > threshold).astype(int)\n",
        "print(\"Adjusted Logistic Regression with threshold\", threshold)\n",
        "print(classification_report(y_test, y_pred_lr_threshold))\n",
        "\n",
        "y_pred_knn_threshold = (best_knn_model.predict_proba(X_test)[:,1] > threshold).astype(int)\n",
        "print(\"Adjusted K-Nearest Neighbors with threshold\", threshold)\n",
        "print(classification_report(y_test, y_pred_knn_threshold))"
      ]
    },
    {
      "cell_type": "code",
      "execution_count": null,
      "metadata": {
        "colab": {
          "base_uri": "https://localhost:8080/"
        },
        "id": "z7GZ7cbqHQ8a",
        "outputId": "926a6dd2-855c-45bb-f892-204f2e705276"
      },
      "outputs": [],
      "source": [
        "# Calculate metrics for Logistic Regression\n",
        "y_pred_lr = best_lr_model.predict(X_test)\n",
        "accuracy_lr = accuracy_score(y_test, y_pred_lr)\n",
        "recall_lr = recall_score(y_test, y_pred_lr)\n",
        "precision_lr = precision_score(y_test, y_pred_lr)\n",
        "auc_score_lr = roc_auc_score(y_test, best_lr_model.predict_proba(X_test)[:, 1])\n",
        "\n",
        "# Calculate metrics for K-Nearest Neighbors\n",
        "y_pred_knn = best_knn_model.predict(X_test)\n",
        "accuracy_knn = accuracy_score(y_test, y_pred_knn)\n",
        "recall_knn = recall_score(y_test, y_pred_knn)\n",
        "precision_knn = precision_score(y_test, y_pred_knn)\n",
        "auc_score_knn = roc_auc_score(y_test, best_knn_model.predict_proba(X_test)[:, 1])\n",
        "\n",
        "# Create a DataFrame to compare metrics for both models\n",
        "metrics_data = {\n",
        "    'Logistic Regression': [accuracy_lr, recall_lr, precision_lr, auc_score_lr],\n",
        "    'K-Nearest Neighbors': [accuracy_knn, recall_knn, precision_knn, auc_score_knn]\n",
        "}\n",
        "\n",
        "metrics_df = pd.DataFrame(metrics_data, index=['Accuracy', 'Recall', 'Precision', 'AUC Score'])\n",
        "\n",
        "# Print the DataFrame\n",
        "print(metrics_df)"
      ]
    },
    {
      "cell_type": "code",
      "execution_count": null,
      "metadata": {
        "colab": {
          "base_uri": "https://localhost:8080/"
        },
        "id": "2mfWQTAiHQ8a",
        "outputId": "5a4198b7-7a5c-4675-fa5c-b2ef12669f8a"
      },
      "outputs": [],
      "source": [
        "# Define function to adjust threshold and calculate metrics\n",
        "def adjust_threshold_and_metrics(model, X, y, threshold):\n",
        "    y_prob = model.predict_proba(X)[:, 1]\n",
        "    y_pred = (y_prob > threshold).astype(int)\n",
        "    accuracy = accuracy_score(y, y_pred)\n",
        "    recall = recall_score(y, y_pred)\n",
        "    precision = precision_score(y, y_pred)\n",
        "    auc_score = roc_auc_score(y, y_prob)\n",
        "    return accuracy, recall, precision, auc_score\n",
        "\n",
        "# Adjust thresholds for LR and KNN\n",
        "threshold_lr = 0.4  # Example threshold for LR\n",
        "threshold_knn = 0.4  # Example threshold for KNN\n",
        "\n",
        "accuracy_lr, recall_lr, precision_lr, auc_score_lr = adjust_threshold_and_metrics(best_lr_model, X_test, y_test, threshold_lr)\n",
        "accuracy_knn, recall_knn, precision_knn, auc_score_knn = adjust_threshold_and_metrics(best_knn_model, X_test, y_test, threshold_knn)\n",
        "\n",
        "# Create a DataFrame to compare metrics after adjusting thresholds\n",
        "metrics_data_adjusted = {\n",
        "    'Logistic Regression': [accuracy_lr, recall_lr, precision_lr, auc_score_lr],\n",
        "    'K-Nearest Neighbors': [accuracy_knn, recall_knn, precision_knn, auc_score_knn]\n",
        "}\n",
        "\n",
        "metrics_df_adjusted = pd.DataFrame(metrics_data_adjusted, index=['Accuracy', 'Recall', 'Precision', 'AUC Score'])\n",
        "\n",
        "# Print the DataFrame\n",
        "print(\"Metrics after adjusting thresholds:\")\n",
        "print(metrics_df_adjusted)\n"
      ]
    },
    {
      "cell_type": "markdown",
      "metadata": {
        "id": "65slMf1uHQ8b"
      },
      "source": [
        "We can see that after adjusting the probability thresholds, the recall has improved and the hyperparameter tuning improved the models' accuracy."
      ]
    },
    {
      "cell_type": "markdown",
      "metadata": {
        "id": "0D4NASMxHQ8k"
      },
      "source": [
        "#### Confusion Matrix"
      ]
    },
    {
      "cell_type": "code",
      "execution_count": null,
      "metadata": {
        "colab": {
          "base_uri": "https://localhost:8080/",
          "height": 569
        },
        "id": "HzDqwjoZHQ8l",
        "outputId": "a3c7f606-1789-4d1f-c244-dc5feea55e75"
      },
      "outputs": [],
      "source": [
        "# Calculate confusion matrix for Logistic Regression\n",
        "cm_lr = confusion_matrix(y_test, (best_lr_model.predict_proba(X_test)[:, 1] > 0.1).astype(int))\n",
        "\n",
        "# Plot confusion matrix for Logistic Regression\n",
        "plt.figure(figsize=(8, 6))\n",
        "sns.heatmap(cm_lr, annot=True, fmt='d', cmap='Blues', cbar=False,\n",
        "            xticklabels=['Negative', 'Positive'], yticklabels=['Negative', 'Positive'])\n",
        "plt.title('Confusion Matrix - Logistic Regression')\n",
        "plt.xlabel('Predicted Label')\n",
        "plt.ylabel('True Label')\n",
        "plt.show()"
      ]
    },
    {
      "cell_type": "code",
      "execution_count": null,
      "metadata": {
        "colab": {
          "base_uri": "https://localhost:8080/",
          "height": 569
        },
        "id": "MZ-Mx2NPHQ8l",
        "outputId": "ecd1ad45-1c0a-4b15-ad0d-27bcafb64e91"
      },
      "outputs": [],
      "source": [
        "# Calculate confusion matrix for K-Nearest Neighbors\n",
        "cm_knn = confusion_matrix(y_test, (best_knn_model.predict_proba(X_test)[:, 1] > 0.1).astype(int))\n",
        "\n",
        "# Plot confusion matrix for K-Nearest Neighbors\n",
        "plt.figure(figsize=(8, 6))\n",
        "sns.heatmap(cm_knn, annot=True, fmt='d', cmap='Blues', cbar=False,\n",
        "            xticklabels=['Negative', 'Positive'], yticklabels=['Negative', 'Positive'])\n",
        "plt.title('Confusion Matrix - K-Nearest Neighbors')\n",
        "plt.xlabel('Predicted Label')\n",
        "plt.ylabel('True Label')\n",
        "plt.show()"
      ]
    },
    {
      "cell_type": "code",
      "execution_count": null,
      "metadata": {
        "colab": {
          "base_uri": "https://localhost:8080/"
        },
        "id": "fXMxD98RHQ8m",
        "outputId": "780bb51c-289f-4030-f9ec-a09bfe624c21"
      },
      "outputs": [],
      "source": [
        "# Define ADASYN resampler\n",
        "adasyn = ADASYN(random_state=42)\n",
        "\n",
        "# Resample the training data using ADASYN\n",
        "X_train_resampled, y_train_resampled = adasyn.fit_resample(X_train, y_train)\n",
        "\n",
        "# Initialize Logistic Regression and K-Nearest Neighbors classifiers\n",
        "lr_classifier = LogisticRegression()\n",
        "knn_classifier = KNeighborsClassifier()\n",
        "\n",
        "# Fit Logistic Regression and K-Nearest Neighbors models on resampled data\n",
        "lr_classifier.fit(X_train_resampled, y_train_resampled)\n",
        "knn_classifier.fit(X_train_resampled, y_train_resampled)\n",
        "\n",
        "# Make predictions on the test data\n",
        "lr_y_pred = lr_classifier.predict(X_test)\n",
        "knn_y_pred = knn_classifier.predict(X_test)\n",
        "\n",
        "# Calculate probabilities for AUC calculation\n",
        "lr_y_pred_proba = lr_classifier.predict_proba(X_test)[:, 1]\n",
        "knn_y_pred_proba = knn_classifier.predict_proba(X_test)[:, 1]\n",
        "\n",
        "# Calculate metrics for Logistic Regression\n",
        "lr_accuracy = accuracy_score(y_test, lr_y_pred)\n",
        "lr_recall = recall_score(y_test, lr_y_pred)\n",
        "lr_precision = precision_score(y_test, lr_y_pred)\n",
        "lr_auc_score = roc_auc_score(y_test, lr_y_pred_proba)\n",
        "\n",
        "# Calculate metrics for K-Nearest Neighbors\n",
        "knn_accuracy = accuracy_score(y_test, knn_y_pred)\n",
        "knn_recall = recall_score(y_test, knn_y_pred)\n",
        "knn_precision = precision_score(y_test, knn_y_pred)\n",
        "knn_auc_score = roc_auc_score(y_test, knn_y_pred_proba)\n",
        "\n",
        "# Create a DataFrame to compare metrics\n",
        "metrics_data = {\n",
        "    'Logistic Regression': [lr_accuracy, lr_recall, lr_precision, lr_auc_score],\n",
        "    'K-Nearest Neighbors': [knn_accuracy, knn_recall, knn_precision, knn_auc_score]\n",
        "}\n",
        "\n",
        "metrics_df = pd.DataFrame(metrics_data, index=['Accuracy', 'Recall', 'Precision', 'AUC Score'])\n",
        "\n",
        "# Print the DataFrame\n",
        "print(\"Metrics after using ADASYN:\")\n",
        "print(metrics_df)"
      ]
    },
    {
      "cell_type": "markdown",
      "metadata": {
        "id": "O0Gv9FmvHQ8n"
      },
      "source": [
        "#### Hyperparameter Tuning after ADASYN Resampling"
      ]
    },
    {
      "cell_type": "code",
      "execution_count": null,
      "metadata": {
        "colab": {
          "base_uri": "https://localhost:8080/"
        },
        "id": "YWLL1tG-70Gk",
        "outputId": "d966b99d-b657-42e6-ff83-d481339ac729"
      },
      "outputs": [],
      "source": [
        "X_train_resampled.columns"
      ]
    },
    {
      "cell_type": "code",
      "execution_count": null,
      "metadata": {
        "colab": {
          "base_uri": "https://localhost:8080/"
        },
        "id": "nxvrZeycHQ8n",
        "outputId": "4ffcbe9d-731b-48cb-c7bc-a775ef01bc41"
      },
      "outputs": [],
      "source": [
        "# Define parameter grid for Logistic Regression\n",
        "lr_param_grid = {\n",
        "    'penalty': ['l1', 'l2'],\n",
        "    'C': [0.001, 0.01, 0.1, 1, 10, 100]\n",
        "}\n",
        "\n",
        "# Define parameter grid for K-Nearest Neighbors\n",
        "knn_param_grid = {\n",
        "    'n_neighbors': [3, 5, 7, 9, 11],\n",
        "    'weights': ['uniform', 'distance'],\n",
        "    'p': [1, 2]\n",
        "}\n",
        "\n",
        "# Initialize GridSearchCV for Logistic Regression\n",
        "lr_grid_search = GridSearchCV(LogisticRegression(), lr_param_grid, cv=5, scoring='roc_auc')\n",
        "\n",
        "# Initialize GridSearchCV for K-Nearest Neighbors\n",
        "knn_grid_search = GridSearchCV(KNeighborsClassifier(), knn_param_grid, cv=5, scoring='roc_auc')\n",
        "\n",
        "# Perform grid search for Logistic Regression\n",
        "lr_grid_search.fit(X_train_resampled, y_train_resampled)\n",
        "\n",
        "# Perform grid search for K-Nearest Neighbors\n",
        "knn_grid_search.fit(X_train_resampled, y_train_resampled)\n",
        "\n",
        "# Get best hyperparameters for Logistic Regression\n",
        "best_lr_params = lr_grid_search.best_params_\n",
        "\n",
        "# Get best hyperparameters for K-Nearest Neighbors\n",
        "best_knn_params = knn_grid_search.best_params_\n",
        "\n",
        "print(\"Best hyperparameters for Logistic Regression:\", best_lr_params)\n",
        "print(\"Best hyperparameters for K-Nearest Neighbors:\", best_knn_params)\n"
      ]
    },
    {
      "cell_type": "code",
      "execution_count": null,
      "metadata": {
        "colab": {
          "base_uri": "https://localhost:8080/"
        },
        "id": "YWcuSiEdHQ8o",
        "outputId": "04b269db-aeb1-4538-b62b-ac1c924fa5bd"
      },
      "outputs": [],
      "source": [
        "## Retraining the Model & Evaluating\n",
        "# Initialize Logistic Regression and K-Nearest Neighbors classifiers with best hyperparameters\n",
        "best_lr_classifier = LogisticRegression(**best_lr_params)\n",
        "best_knn_classifier = KNeighborsClassifier(**best_knn_params)\n",
        "\n",
        "# Retrain Logistic Regression and K-Nearest Neighbors models with best hyperparameters\n",
        "best_lr_classifier.fit(X_train_resampled, y_train_resampled)\n",
        "best_knn_classifier.fit(X_train_resampled, y_train_resampled)\n",
        "\n",
        "# Make predictions on the test data\n",
        "best_lr_y_pred = best_lr_classifier.predict(X_test)\n",
        "best_knn_y_pred = best_knn_classifier.predict(X_test)\n",
        "\n",
        "# Calculate probabilities for AUC calculation\n",
        "best_lr_y_pred_proba = best_lr_classifier.predict_proba(X_test)[:, 1]\n",
        "best_knn_y_pred_proba = best_knn_classifier.predict_proba(X_test)[:, 1]\n",
        "\n",
        "# Calculate metrics for Logistic Regression after hyperparameter tuning\n",
        "best_lr_accuracy = accuracy_score(y_test, best_lr_y_pred)\n",
        "best_lr_recall = recall_score(y_test, best_lr_y_pred)\n",
        "best_lr_precision = precision_score(y_test, best_lr_y_pred)\n",
        "best_lr_auc_score = roc_auc_score(y_test, best_lr_y_pred_proba)\n",
        "\n",
        "# Calculate metrics for K-Nearest Neighbors after hyperparameter tuning\n",
        "best_knn_accuracy = accuracy_score(y_test, best_knn_y_pred)\n",
        "best_knn_recall = recall_score(y_test, best_knn_y_pred)\n",
        "best_knn_precision = precision_score(y_test, best_knn_y_pred)\n",
        "best_knn_auc_score = roc_auc_score(y_test, best_knn_y_pred_proba)\n",
        "\n",
        "# Create a DataFrame to compare metrics after hyperparameter tuning\n",
        "best_metrics_data = {\n",
        "    'Logistic Regression': [best_lr_accuracy, best_lr_recall, best_lr_precision, best_lr_auc_score],\n",
        "    'K-Nearest Neighbors': [best_knn_accuracy, best_knn_recall, best_knn_precision, best_knn_auc_score]\n",
        "}\n",
        "\n",
        "best_metrics_df = pd.DataFrame(best_metrics_data, index=['Accuracy', 'Recall', 'Precision', 'AUC Score'])\n",
        "\n",
        "# Print the DataFrame\n",
        "print(\"Metrics after hyperparameter tuning:\")\n",
        "print(best_metrics_df)\n"
      ]
    },
    {
      "cell_type": "markdown",
      "metadata": {
        "id": "4yL7hW4MHQ85"
      },
      "source": [
        "#### Plotting the AUC Scores"
      ]
    },
    {
      "cell_type": "code",
      "execution_count": null,
      "metadata": {
        "colab": {
          "base_uri": "https://localhost:8080/",
          "height": 54
        },
        "id": "bCPNU_NtHQ86",
        "outputId": "a3b4f1a3-e8de-42b6-ece0-13416c4db9fe"
      },
      "outputs": [],
      "source": [
        "from sklearn.metrics import roc_curve\n",
        "\n",
        "# Calculate ROC curves for Logistic Regression and K-Nearest Neighbors\n",
        "lr_fpr, lr_tpr, _ = roc_curve(y_test, best_lr_y_pred_proba)\n",
        "knn_fpr, knn_tpr, _ = roc_curve(y_test, best_knn_y_pred_proba)\n",
        "\n",
        "# Plot ROC curves\n",
        "plt.figure(figsize=(8, 6))\n",
        "plt.plot(lr_fpr, lr_tpr, label='Logistic Regression (AUC = {:.2f})'.format(best_lr_auc_score))\n",
        "plt.plot(knn_fpr, knn_tpr, label='K-Nearest Neighbors (AUC = {:.2f})'.format(best_knn_auc_score))\n",
        "plt.plot([0, 1], [0, 1], 'k--')\n",
        "plt.xlabel('False Positive Rate')\n",
        "plt.ylabel('True Positive Rate')\n",
        "plt.title('ROC Curve')\n",
        "plt.legend(loc='lower right')\n",
        "plt.grid(True)\n",
        "plt.show()"
      ]
    },
    {
      "cell_type": "code",
      "execution_count": null,
      "metadata": {
        "colab": {
          "base_uri": "https://localhost:8080/",
          "height": 1000
        },
        "id": "svtzSRHlHQ86",
        "outputId": "c9e0650d-0cb4-4c0e-fcdf-5e25105940a9"
      },
      "outputs": [],
      "source": [
        "# Define function to plot confusion matrix\n",
        "def plot_confusion_matrix(cm, labels):\n",
        "    plt.figure(figsize=(8, 6))\n",
        "    sns.heatmap(cm, annot=True, cmap='Blues', fmt='g', xticklabels=labels, yticklabels=labels)\n",
        "    plt.xlabel('Predicted labels')\n",
        "    plt.ylabel('True labels')\n",
        "    plt.title('Confusion Matrix')\n",
        "    plt.show()\n",
        "\n",
        "# Calculate confusion matrices for Logistic Regression and K-Nearest Neighbors\n",
        "lr_cm = confusion_matrix(y_test, best_lr_y_pred)\n",
        "knn_cm = confusion_matrix(y_test, best_knn_y_pred)\n",
        "\n",
        "# Plot confusion matrices\n",
        "plot_confusion_matrix(lr_cm, ['Negative', 'Positive'])\n",
        "plot_confusion_matrix(knn_cm, ['Negative', 'Positive'])"
      ]
    },
    {
      "cell_type": "code",
      "execution_count": null,
      "metadata": {
        "colab": {
          "base_uri": "https://localhost:8080/"
        },
        "id": "2X0L-UKE_sLY",
        "outputId": "ef1d654b-1b61-4fe1-992b-e25b1334ad7e"
      },
      "outputs": [],
      "source": [
        "# Check column names in the training data\n",
        "print(\"Column names in the training data:\")\n",
        "print(X_train.columns)"
      ]
    },
    {
      "cell_type": "code",
      "execution_count": null,
      "metadata": {
        "colab": {
          "base_uri": "https://localhost:8080/"
        },
        "id": "pcBhuHZG_u1S",
        "outputId": "eaec45f8-519a-4f1d-c025-6e9a9b288199"
      },
      "outputs": [],
      "source": [
        "# Check column names in the test data\n",
        "print(\"Column names in the test data:\")\n",
        "print(X_test.columns)"
      ]
    },
    {
      "cell_type": "code",
      "execution_count": null,
      "metadata": {
        "colab": {
          "base_uri": "https://localhost:8080/"
        },
        "id": "dNmhQIIQAoR6",
        "outputId": "c374dbaa-24e3-485f-efef-ad830943ddda"
      },
      "outputs": [],
      "source": [
        "# Assuming 'X_train' is your training data DataFrame and 'X_test' is your test data DataFrame\n",
        "\n",
        "# Get sets of column names for training and test data\n",
        "train_columns = set(X_train.columns)\n",
        "test_columns = set(X_test.columns)\n",
        "\n",
        "# Check for any differences\n",
        "difference = train_columns.symmetric_difference(test_columns)\n",
        "\n",
        "if len(difference) == 0:\n",
        "    print(\"The column names in the training data and the test data are identical.\")\n",
        "else:\n",
        "    print(\"There are differences in column names between the training data and the test data:\")\n",
        "    print(\"Columns present in the training data but not in the test data:\", train_columns - test_columns)\n",
        "    print(\"Columns present in the test data but not in the training data:\", test_columns - train_columns)"
      ]
    },
    {
      "cell_type": "code",
      "execution_count": null,
      "metadata": {
        "colab": {
          "base_uri": "https://localhost:8080/"
        },
        "id": "ey7PY2BJYJ8R",
        "outputId": "d769b6b8-f900-46c5-fed1-3d26cb56e9d1"
      },
      "outputs": [],
      "source": [
        "X_train.columns"
      ]
    },
    {
      "cell_type": "markdown",
      "metadata": {
        "id": "XoLWiMWJHQ87"
      },
      "source": [
        "\n",
        "\n",
        "```\n",
        "# This is formatted as code\n",
        "```\n",
        "\n",
        "#### Save the model for Deployment"
      ]
    },
    {
      "cell_type": "code",
      "execution_count": null,
      "metadata": {
        "colab": {
          "base_uri": "https://localhost:8080/"
        },
        "id": "zwvQWeHaKrG7",
        "outputId": "bda569e3-aec8-474a-eff6-de60e4208625"
      },
      "outputs": [],
      "source": [
        "X_train.columns"
      ]
    },
    {
      "cell_type": "code",
      "execution_count": null,
      "metadata": {
        "colab": {
          "base_uri": "https://localhost:8080/",
          "height": 79
        },
        "id": "zf888R8S7csG",
        "outputId": "27ed0852-70df-4c1e-c301-cf9c5b764eed"
      },
      "outputs": [],
      "source": [
        "best_lr_classifier\n",
        "classifier = LogisticRegression(C=1, penalty='l2')\n",
        "classifier.fit(X_train, y_train)\n"
      ]
    },
    {
      "cell_type": "code",
      "execution_count": null,
      "metadata": {
        "colab": {
          "base_uri": "https://localhost:8080/"
        },
        "id": "XA1tM9CJBFQK",
        "outputId": "4bcd30e8-a2c5-409c-eaca-e3a0ecdcfae1"
      },
      "outputs": [],
      "source": [
        "X_train_resampled.columns"
      ]
    },
    {
      "cell_type": "code",
      "execution_count": null,
      "metadata": {
        "colab": {
          "base_uri": "https://localhost:8080/"
        },
        "id": "92BlzHdoHQ87",
        "outputId": "06a0a179-acaf-4a86-d4f1-018f8877bb91"
      },
      "outputs": [],
      "source": [
        "# Save the trained model as a pickle string.\n",
        "#classifier = best_lr_classifier\n",
        "import pickle\n",
        "filename = 'LR2_trained_model.sav'\n",
        "pickle.dump(classifier, open(filename, 'wb'))\n",
        "\n",
        "#Loading saved model\n",
        "loaded_model = pickle.load(open('LR2_trained_model.sav', 'rb'))\n",
        "\n",
        "loaded_model.predict(X_test)\n",
        "loaded_model.predict_proba(X_test)\n"
      ]
    },
    {
      "cell_type": "markdown",
      "metadata": {
        "id": "TxMonacbHZyM"
      },
      "source": [
        "Since the Logistic Regression has the highest recall with a decent AUC score, we will proceed to do hyperparameter tuning of the model to improve its performance."
      ]
    },
    {
      "cell_type": "markdown",
      "metadata": {
        "id": "zAw3mls7IpMu"
      },
      "source": [
        "#### Hyper-parameter tuning for logistic regression model[link text](https://)"
      ]
    },
    {
      "cell_type": "code",
      "execution_count": null,
      "metadata": {
        "colab": {
          "base_uri": "https://localhost:8080/"
        },
        "id": "utDLi-MeQKUq",
        "outputId": "32e9ebad-94b9-4a97-d0b6-cf17d91ed744"
      },
      "outputs": [],
      "source": [
        "df.columns"
      ]
    },
    {
      "cell_type": "code",
      "execution_count": null,
      "metadata": {
        "colab": {
          "base_uri": "https://localhost:8080/"
        },
        "id": "G3rswAY0OVb1",
        "outputId": "95cc0bab-b39f-472d-d68e-0cd6e9612b29"
      },
      "outputs": [],
      "source": [
        "X_train.columns"
      ]
    },
    {
      "cell_type": "markdown",
      "metadata": {
        "id": "UsRotqdvJnyk"
      },
      "source": [
        "No overfitting of the model is observed as the mean CV score for the train set is slightly lower than the recall score on the test set.\n",
        "\n"
      ]
    },
    {
      "cell_type": "markdown",
      "metadata": {
        "id": "6-YEWx1CLEz6"
      },
      "source": [
        "### Feature Importance"
      ]
    },
    {
      "cell_type": "markdown",
      "metadata": {
        "id": "2ss348z2OPsB"
      },
      "source": [
        "From the above plots, the top 6 features that contribute to the prediction of a fraud case are:\n",
        "\n",
        "AccidentArea_urban,\n",
        "Sex_Male,\n",
        "Fault_Third Party,\n",
        "Police_report_filed_yes,\n",
        "Witness_present_yes,\n",
        "AgentType_Internal"
      ]
    },
    {
      "cell_type": "code",
      "execution_count": null,
      "metadata": {
        "colab": {
          "base_uri": "https://localhost:8080/"
        },
        "id": "daT06JjwU2UI",
        "outputId": "139d9e5b-1bfb-42ee-e114-3f5582344ae0"
      },
      "outputs": [],
      "source": [
        "df.columns"
      ]
    },
    {
      "cell_type": "markdown",
      "metadata": {
        "id": "6CuVSXOvOaLM"
      },
      "source": [
        "#### Finally , save the classifier model for future deployment."
      ]
    },
    {
      "cell_type": "code",
      "execution_count": null,
      "metadata": {
        "colab": {
          "base_uri": "https://localhost:8080/"
        },
        "id": "4z2mv-kVX3RW",
        "outputId": "3418eb64-7112-47ab-b3c9-976c07858ec4"
      },
      "outputs": [],
      "source": [
        "from sklearn.preprocessing import LabelEncoder\n",
        "import pickle\n",
        "\n",
        "# Initialize a dictionary to store the encoders\n",
        "encoders = {}\n",
        "\n",
        "# Example columns for demonstration; replace with your actual DataFrame and columns\n",
        "df_categorical = df[['AccidentArea', 'Sex', 'MaritalStatus', 'Fault', 'PolicyType', 'VehicleCategory', 'Make','DriverRating',\n",
        "                     'Days_Policy_Accident', 'Days_Policy_Claim', 'PoliceReportFiled', 'WitnessPresent','VehiclePrice',\n",
        "                     'AgentType', 'AddressChange_Claim', 'PastNumberOfClaims','NumberOfSuppliments','NumberOfCars', 'Year',\n",
        "                     'BasePolicy', 'Month', 'AgeOfVehicle','AgeOfPolicyHolder']].copy()\n",
        "\n",
        "# Apply LabelEncoder to each categorical column and save the encoder\n",
        "for column in df_categorical.columns:\n",
        "    le = LabelEncoder()\n",
        "    df_categorical[column] = le.fit_transform(df_categorical[column])\n",
        "    encoders[column] = le\n",
        "\n",
        "# Save the encoders to a file\n",
        "filename = 'encoder.sav'\n",
        "pickle.dump(encoders, open(filename, 'wb'))\n",
        "\n",
        "print(\"Encoders saved successfully in 'encoder.sav'!\")\n"
      ]
    },
    {
      "cell_type": "code",
      "execution_count": null,
      "metadata": {
        "colab": {
          "base_uri": "https://localhost:8080/"
        },
        "id": "9X8bO_0yf27Q",
        "outputId": "05640cdf-f5ec-4485-8547-89262d0c9ff9"
      },
      "outputs": [],
      "source": [
        "X_train.columns"
      ]
    },
    {
      "cell_type": "markdown",
      "metadata": {
        "id": "8B7_S5ogPDer"
      },
      "source": [
        "### Deployment of the Model"
      ]
    },
    {
      "cell_type": "code",
      "execution_count": null,
      "metadata": {
        "id": "BzJJlxJ0PNwN"
      },
      "outputs": [],
      "source": [
        "#pip install streamlit"
      ]
    },
    {
      "cell_type": "code",
      "execution_count": null,
      "metadata": {
        "id": "r9xawHWQOeyi"
      },
      "outputs": [],
      "source": [
        "# import streamlit as st\n",
        "# import pickle"
      ]
    },
    {
      "cell_type": "code",
      "execution_count": null,
      "metadata": {
        "colab": {
          "base_uri": "https://localhost:8080/"
        },
        "id": "76FvoTr7UfT4",
        "outputId": "454c8da5-f466-4bcc-a91e-094abd1325ad"
      },
      "outputs": [],
      "source": [
        "!wget -q -O - ipv4.icanhazip.com"
      ]
    },
    {
      "cell_type": "code",
      "execution_count": null,
      "metadata": {
        "colab": {
          "base_uri": "https://localhost:8080/"
        },
        "id": "GUlMcgfGbYvv",
        "outputId": "92fe1b14-1bd0-4a00-a939-1baa5f0ffcb8"
      },
      "outputs": [],
      "source": [
        "%%writefile app.py"
      ]
    },
    {
      "cell_type": "code",
      "execution_count": null,
      "metadata": {
        "id": "yFRis6HpcGOF"
      },
      "outputs": [],
      "source": [
        "#! streamlit run app.py & npx localtunnel --port 8501"
      ]
    },
    {
      "cell_type": "code",
      "execution_count": null,
      "metadata": {
        "id": "TJJAi8V1PLfE"
      },
      "outputs": [],
      "source": [
        "# Load the trained model\n",
        "# loaded_model = pickle.load(open('trained_model.sav', 'rb'))"
      ]
    },
    {
      "cell_type": "code",
      "execution_count": null,
      "metadata": {
        "colab": {
          "base_uri": "https://localhost:8080/"
        },
        "id": "erceJzfA-1Ye",
        "outputId": "3c55c311-d48c-4db3-947d-cb14f8244284"
      },
      "outputs": [],
      "source": [
        "df_copy.PolicyType.unique()"
      ]
    },
    {
      "cell_type": "code",
      "execution_count": null,
      "metadata": {
        "colab": {
          "base_uri": "https://localhost:8080/"
        },
        "id": "CW7q5Bqkv75c",
        "outputId": "6115db59-85f1-4677-9759-ed503e49cbed"
      },
      "outputs": [],
      "source": [
        "df_copy.PolicyType.unique()\n",
        "\n",
        "for i in df_copy.columns:\n",
        "  print(i,df_copy[i].unique())"
      ]
    },
    {
      "cell_type": "code",
      "execution_count": null,
      "metadata": {
        "colab": {
          "base_uri": "https://localhost:8080/"
        },
        "id": "CDD9WX1OGhQu",
        "outputId": "c7c59de5-cfc2-4c9b-e2ad-2c9452753b08"
      },
      "outputs": [],
      "source": [
        "import os\n",
        "import pickle\n",
        "from sklearn.preprocessing import LabelEncoder\n",
        "\n",
        "def save_encoders_separately(df, categorical_columns, save_directory='encoders'):\n",
        "    \"\"\"\n",
        "    Encodes the categorical columns in the dataframe and saves each encoder as a separate file.\n",
        "\n",
        "    Parameters:\n",
        "        df (pd.DataFrame): The DataFrame containing the data.\n",
        "        categorical_columns (list): List of categorical column names to encode.\n",
        "        save_directory (str): Directory where the encoder files will be saved. Defaults to 'encoders'.\n",
        "    \"\"\"\n",
        "    # Ensure the save directory exists\n",
        "    if not os.path.exists(save_directory):\n",
        "        os.makedirs(save_directory)\n",
        "\n",
        "    # Loop through each categorical column, encode it, and save the encoder\n",
        "    for column in categorical_columns:\n",
        "        le = LabelEncoder()\n",
        "        df[column] = le.fit_transform(df[column])\n",
        "\n",
        "        # Define the filename for the encoder\n",
        "        filename = os.path.join(save_directory, f'{column}_encoder.sav')\n",
        "\n",
        "        # Save the encoder\n",
        "        with open(filename, 'wb') as f:\n",
        "            pickle.dump(le, f)\n",
        "\n",
        "        print(f\"Encoder for '{column}' saved as '{filename}'\")\n",
        "\n",
        "# Example usage:\n",
        "categorical_columns = ['AccidentArea', 'Sex', 'MaritalStatus', 'Fault', 'PolicyType',\n",
        "                       'VehicleCategory', 'Days_Policy_Accident', 'Days_Policy_Claim',\n",
        "                       'PoliceReportFiled', 'WitnessPresent', 'AgentType',\n",
        "                       'AddressChange_Claim', 'NumberOfCars', 'Year', 'BasePolicy','VehiclePrice', 'Deductible', 'DriverRating', 'PastNumberOfClaims',\n",
        "       'AgeOfVehicle', 'AgeOfPolicyHolder', 'NumberOfSuppliments', 'Month',\n",
        "       'WeekOfMonth', 'DayOfWeek', 'Make', 'DayOfWeekClaimed', 'MonthClaimed',\n",
        "       'WeekOfMonthClaimed', 'RepNumber']\n",
        "\n",
        "# Assuming df is your DataFrame with categorical data\n",
        "save_encoders_separately(df, categorical_columns)"
      ]
    },
    {
      "cell_type": "code",
      "execution_count": null,
      "metadata": {
        "id": "cHAu32-jgJN7"
      },
      "outputs": [],
      "source": [
        "import pandas as pd\n",
        "\n",
        "# Create a DataFrame with the dummy data\n",
        "data = {\n",
        "    'AccidentArea': ['Urban', 'Rural', 'Urban', 'Suburban', 'Urban'],\n",
        "    'Sex': ['Male', 'Female', 'Male', 'Female', 'Male'],\n",
        "    'MaritalStatus': ['Single', 'Married', 'Single', 'Single', 'Married'],\n",
        "    'Fault': ['Policy Holder', 'Third Party', 'Policy Holder', 'Policy Holder', 'Third Party'],\n",
        "    'PolicyType': ['SUV - All Perils', 'Sedan - Third Party', 'SUV - All Perils', 'Truck - Full Coverage', 'SUV - All Perils'],\n",
        "    'VehicleCategory': ['Economy', 'SUV', 'Sedan', 'Truck', 'Economy'],\n",
        "    'Days_Policy_Accident': [0, 5, 2, 1, 3],\n",
        "    'Days_Policy_Claim': [0, 3, 1, 0, 2],\n",
        "    'PoliceReportFiled': ['Yes', 'No', 'Yes', 'Yes', 'No'],\n",
        "    'WitnessPresent': ['No', 'Yes', 'Yes', 'No', 'Yes'],\n",
        "    'AgentType': ['Internal', 'External', 'Internal', 'External', 'Internal'],\n",
        "    'AddressChange_Claim': ['yes', 'no', 'yes', 'no', 'yes'],\n",
        "    'NumberOfCars': [1, 2, 1, 3, 2],\n",
        "    'Year': [2020, 2019, 2021, 2018, 2020],\n",
        "    'BasePolicy': ['Comprehensive', 'Third Party', 'Liability', 'Comprehensive', 'Third Party']\n",
        "}\n",
        "\n",
        "df = pd.DataFrame(data)\n",
        "df.to_excel('dummy_data.xlsx', index=False)\n"
      ]
    },
    {
      "cell_type": "code",
      "execution_count": null,
      "metadata": {
        "id": "N861P4T_gUjK"
      },
      "outputs": [],
      "source": [
        "df.to_excel('dummy_data.xlsx', index=False)"
      ]
    }
  ],
  "metadata": {
    "colab": {
      "provenance": []
    },
    "kernelspec": {
      "display_name": "div",
      "language": "python",
      "name": "div"
    },
    "language_info": {
      "codemirror_mode": {
        "name": "ipython",
        "version": 3
      },
      "file_extension": ".py",
      "mimetype": "text/x-python",
      "name": "python",
      "nbconvert_exporter": "python",
      "pygments_lexer": "ipython3",
      "version": "3.11.9"
    }
  },
  "nbformat": 4,
  "nbformat_minor": 0
}
