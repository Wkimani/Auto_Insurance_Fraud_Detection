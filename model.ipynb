{
 "cells": [
  {
   "cell_type": "code",
   "execution_count": 1,
   "metadata": {},
   "outputs": [
    {
     "name": "stdout",
     "output_type": "stream",
     "text": [
      "Model type: <class 'sklearn.linear_model._logistic.LogisticRegression'>\n",
      "Model features: No feature names found\n"
     ]
    },
    {
     "name": "stderr",
     "output_type": "stream",
     "text": [
      "c:\\Users\\KELIDA\\anaconda3\\Lib\\site-packages\\sklearn\\base.py:376: InconsistentVersionWarning: Trying to unpickle estimator LogisticRegression from version 1.3.2 when using version 1.4.2. This might lead to breaking code or invalid results. Use at your own risk. For more info please refer to:\n",
      "https://scikit-learn.org/stable/model_persistence.html#security-maintainability-limitations\n",
      "  warnings.warn(\n"
     ]
    }
   ],
   "source": [
    "import pickle\n",
    "\n",
    "# Load the trained model\n",
    "with open('trained_model.sav', 'rb') as model_file:\n",
    "    loaded_model = pickle.load(model_file)\n",
    "\n",
    "# Check the model type (e.g., LogisticRegression, RandomForest, etc.)\n",
    "print(f\"Model type: {type(loaded_model)}\")\n",
    "\n",
    "# Check model coefficients (for models like LogisticRegression)\n",
    "if hasattr(loaded_model, 'coef_'):\n",
    "    print(\"Model coefficients:\")\n",
    "    print(loaded_model.coef_)\n",
    "\n",
    "# Check the intercept (for models like LogisticRegression)\n",
    "if hasattr(loaded_model, 'intercept_'):\n",
    "    print(\"Model intercept:\")\n",
    "    print(loaded_model.intercept_)\n",
    "\n",
    "# Check model features if available\n",
    "print(f\"Model features: {loaded_model.feature_names_in_ if hasattr(loaded_model, 'feature_names_in_') else 'No feature names found'}\")\n"
   ]
  }
 ],
 "metadata": {
  "kernelspec": {
   "display_name": "visuals",
   "language": "python",
   "name": "python3"
  },
  "language_info": {
   "codemirror_mode": {
    "name": "ipython",
    "version": 3
   },
   "file_extension": ".py",
   "mimetype": "text/x-python",
   "name": "python",
   "nbconvert_exporter": "python",
   "pygments_lexer": "ipython3",
   "version": "3.12.4"
  }
 },
 "nbformat": 4,
 "nbformat_minor": 2
}
